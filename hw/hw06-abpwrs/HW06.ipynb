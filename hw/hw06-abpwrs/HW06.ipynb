{
 "cells": [
  {
   "cell_type": "markdown",
   "metadata": {},
   "source": [
    "# HW06\n",
    "This homework is due Saturday April 13, 2019 at 11:59pm\n",
    "\n",
    "## Learning Objective:\n",
    "1. Students must compute and understand the physical extent of images in both `Pixel Corner Centered Regions` and `Pixel Centered Region` interpretations. \n",
    "1. Students demonstrate the 2D Euler transform must be computed given corresponding points.\n",
    "1. Students use python version of ITK to quickly review a large number of scan sessions for quality assurance.\n"
   ]
  },
  {
   "cell_type": "markdown",
   "metadata": {},
   "source": [
    "<h1 align=\"center\">Physical Extent In Medical Images</h1>\n",
    "\n",
    "A critically important feature of ITK as a toolkit for image manipulation and analysis is that it models <b>images as physical objects occupying a bounded region in physical space</b>. In addition, images can have different spacing between pixels along each axis, and the axes are not necessarily aligned with \n",
    "the voxel memory orientation. The following figure illustrates these concepts. \n",
    "\n",
    "<img src=\"ImageOriginAndSpacing.png\" style=\"width:700px\"/><br><br>"
   ]
  },
  {
   "cell_type": "code",
   "execution_count": 3,
   "metadata": {
    "collapsed": false
   },
   "outputs": [],
   "source": [
    "# Boilerplate module inclusions\n",
    "import itk\n",
    "itk.force_load()\n",
    "import numpy as np\n",
    "import pprint\n",
    "from matplotlib import pyplot as plt\n",
    "%matplotlib inline\n",
    "from ipywidgets import interact, fixed\n",
    "from ipywidgets import FloatSlider\n",
    "from itkwidgets import view\n",
    "from os.path import join"
   ]
  },
  {
   "cell_type": "markdown",
   "metadata": {},
   "source": [
    "# Read images\n",
    "\n",
    "Read in images imageA_2d_fn, imageB_2d_fn, imageA_3d_fn, and imageB_3d_fn."
   ]
  },
  {
   "cell_type": "code",
   "execution_count": 2,
   "metadata": {
    "collapsed": true
   },
   "outputs": [
    {
     "ename": "RuntimeError",
     "evalue": "No ImageIO is registered to handle the given file.",
     "output_type": "error",
     "traceback": [
      "\u001b[0;31m---------------------------------------------------------------------------\u001b[0m",
      "\u001b[0;31mRuntimeError\u001b[0m                              Traceback (most recent call last)",
      "\u001b[0;32m<ipython-input-2-28c1fafa2c19>\u001b[0m in \u001b[0;36m<module>\u001b[0;34m\u001b[0m\n\u001b[1;32m     12\u001b[0m \u001b[0;34m\u001b[0m\u001b[0m\n\u001b[1;32m     13\u001b[0m \u001b[0;31m# Read images\u001b[0m\u001b[0;34m\u001b[0m\u001b[0;34m\u001b[0m\u001b[0;34m\u001b[0m\u001b[0m\n\u001b[0;32m---> 14\u001b[0;31m \u001b[0mimageA_2d\u001b[0m \u001b[0;34m=\u001b[0m \u001b[0mitk\u001b[0m\u001b[0;34m.\u001b[0m\u001b[0mimread\u001b[0m\u001b[0;34m(\u001b[0m\u001b[0mjoin\u001b[0m\u001b[0;34m(\u001b[0m\u001b[0mdata_dir\u001b[0m\u001b[0;34m,\u001b[0m \u001b[0mimageA_2d_fn\u001b[0m\u001b[0;34m)\u001b[0m\u001b[0;34m)\u001b[0m\u001b[0;34m\u001b[0m\u001b[0;34m\u001b[0m\u001b[0m\n\u001b[0m\u001b[1;32m     15\u001b[0m \u001b[0mimageB_2d\u001b[0m \u001b[0;34m=\u001b[0m \u001b[0mitk\u001b[0m\u001b[0;34m.\u001b[0m\u001b[0mimread\u001b[0m\u001b[0;34m(\u001b[0m\u001b[0mjoin\u001b[0m\u001b[0;34m(\u001b[0m\u001b[0mdata_dir\u001b[0m\u001b[0;34m,\u001b[0m \u001b[0mimageB_2d_fn\u001b[0m\u001b[0;34m)\u001b[0m\u001b[0;34m)\u001b[0m\u001b[0;34m\u001b[0m\u001b[0;34m\u001b[0m\u001b[0m\n\u001b[1;32m     16\u001b[0m \u001b[0mimageA_3d\u001b[0m \u001b[0;34m=\u001b[0m \u001b[0mitk\u001b[0m\u001b[0;34m.\u001b[0m\u001b[0mimread\u001b[0m\u001b[0;34m(\u001b[0m\u001b[0mjoin\u001b[0m\u001b[0;34m(\u001b[0m\u001b[0mdata_dir\u001b[0m\u001b[0;34m,\u001b[0m \u001b[0mimageA_3d_fn\u001b[0m\u001b[0;34m)\u001b[0m\u001b[0;34m)\u001b[0m\u001b[0;34m\u001b[0m\u001b[0;34m\u001b[0m\u001b[0m\n",
      "\u001b[0;32m~/projects/miat_env/lib/python3.7/site-packages/itkExtras.py\u001b[0m in \u001b[0;36mimread\u001b[0;34m(fileName, pixelType)\u001b[0m\n\u001b[1;32m    447\u001b[0m         \u001b[0mreader\u001b[0m \u001b[0;34m=\u001b[0m \u001b[0mitk\u001b[0m\u001b[0;34m.\u001b[0m\u001b[0mImageFileReader\u001b[0m\u001b[0;34m[\u001b[0m\u001b[0mImageType\u001b[0m\u001b[0;34m]\u001b[0m\u001b[0;34m.\u001b[0m\u001b[0mNew\u001b[0m\u001b[0;34m(\u001b[0m\u001b[0mFileName\u001b[0m\u001b[0;34m=\u001b[0m\u001b[0mfileName\u001b[0m\u001b[0;34m)\u001b[0m\u001b[0;34m\u001b[0m\u001b[0;34m\u001b[0m\u001b[0m\n\u001b[1;32m    448\u001b[0m     \u001b[0;32melse\u001b[0m\u001b[0;34m:\u001b[0m\u001b[0;34m\u001b[0m\u001b[0;34m\u001b[0m\u001b[0m\n\u001b[0;32m--> 449\u001b[0;31m         \u001b[0mreader\u001b[0m \u001b[0;34m=\u001b[0m \u001b[0mitk\u001b[0m\u001b[0;34m.\u001b[0m\u001b[0mImageFileReader\u001b[0m\u001b[0;34m.\u001b[0m\u001b[0mNew\u001b[0m\u001b[0;34m(\u001b[0m\u001b[0mFileName\u001b[0m\u001b[0;34m=\u001b[0m\u001b[0mfileName\u001b[0m\u001b[0;34m)\u001b[0m\u001b[0;34m\u001b[0m\u001b[0;34m\u001b[0m\u001b[0m\n\u001b[0m\u001b[1;32m    450\u001b[0m     \u001b[0mreader\u001b[0m\u001b[0;34m.\u001b[0m\u001b[0mUpdate\u001b[0m\u001b[0;34m(\u001b[0m\u001b[0;34m)\u001b[0m\u001b[0;34m\u001b[0m\u001b[0;34m\u001b[0m\u001b[0m\n\u001b[1;32m    451\u001b[0m     \u001b[0;32mreturn\u001b[0m \u001b[0mreader\u001b[0m\u001b[0;34m.\u001b[0m\u001b[0mGetOutput\u001b[0m\u001b[0;34m(\u001b[0m\u001b[0;34m)\u001b[0m\u001b[0;34m\u001b[0m\u001b[0;34m\u001b[0m\u001b[0m\n",
      "\u001b[0;32m~/projects/miat_env/lib/python3.7/site-packages/itkTemplate.py\u001b[0m in \u001b[0;36mNew\u001b[0;34m(self, *args, **kwargs)\u001b[0m\n\u001b[1;32m    381\u001b[0m         \u001b[0mcur\u001b[0m \u001b[0;34m=\u001b[0m \u001b[0mitk\u001b[0m\u001b[0;34m.\u001b[0m\u001b[0mauto_pipeline\u001b[0m\u001b[0;34m.\u001b[0m\u001b[0mcurrent\u001b[0m\u001b[0;34m\u001b[0m\u001b[0;34m\u001b[0m\u001b[0m\n\u001b[1;32m    382\u001b[0m         \u001b[0;32mif\u001b[0m \u001b[0mself\u001b[0m\u001b[0;34m.\u001b[0m\u001b[0m__name__\u001b[0m \u001b[0;34m==\u001b[0m \u001b[0;34m\"itk::ImageFileReader\"\u001b[0m\u001b[0;34m:\u001b[0m\u001b[0;34m\u001b[0m\u001b[0;34m\u001b[0m\u001b[0m\n\u001b[0;32m--> 383\u001b[0;31m             \u001b[0;32mreturn\u001b[0m \u001b[0mself\u001b[0m\u001b[0;34m.\u001b[0m\u001b[0m_NewImageFileReader\u001b[0m\u001b[0;34m(\u001b[0m\u001b[0;34m*\u001b[0m\u001b[0margs\u001b[0m\u001b[0;34m,\u001b[0m \u001b[0;34m**\u001b[0m\u001b[0mkwargs\u001b[0m\u001b[0;34m)\u001b[0m\u001b[0;34m\u001b[0m\u001b[0;34m\u001b[0m\u001b[0m\n\u001b[0m\u001b[1;32m    384\u001b[0m         \u001b[0mprimary_input_methods\u001b[0m \u001b[0;34m=\u001b[0m \u001b[0;34m(\u001b[0m\u001b[0;34m'Input'\u001b[0m\u001b[0;34m,\u001b[0m \u001b[0;34m'InputImage'\u001b[0m\u001b[0;34m,\u001b[0m \u001b[0;34m'Input1'\u001b[0m\u001b[0;34m)\u001b[0m\u001b[0;34m\u001b[0m\u001b[0;34m\u001b[0m\u001b[0m\n\u001b[1;32m    385\u001b[0m         \u001b[0;32mif\u001b[0m \u001b[0mlen\u001b[0m\u001b[0;34m(\u001b[0m\u001b[0margs\u001b[0m\u001b[0;34m)\u001b[0m \u001b[0;34m!=\u001b[0m \u001b[0;36m0\u001b[0m\u001b[0;34m:\u001b[0m\u001b[0;34m\u001b[0m\u001b[0;34m\u001b[0m\u001b[0m\n",
      "\u001b[0;32m~/projects/miat_env/lib/python3.7/site-packages/itkTemplate.py\u001b[0m in \u001b[0;36m_NewImageFileReader\u001b[0;34m(self, *args, **kwargs)\u001b[0m\n\u001b[1;32m    418\u001b[0m         \u001b[0mimageIO\u001b[0m \u001b[0;34m=\u001b[0m \u001b[0mitk\u001b[0m\u001b[0;34m.\u001b[0m\u001b[0mImageIOFactory\u001b[0m\u001b[0;34m.\u001b[0m\u001b[0mCreateImageIO\u001b[0m\u001b[0;34m(\u001b[0m \u001b[0minputFileName\u001b[0m\u001b[0;34m,\u001b[0m \u001b[0mitk\u001b[0m\u001b[0;34m.\u001b[0m\u001b[0mImageIOFactory\u001b[0m\u001b[0;34m.\u001b[0m\u001b[0mReadMode\u001b[0m \u001b[0;34m)\u001b[0m\u001b[0;34m\u001b[0m\u001b[0;34m\u001b[0m\u001b[0m\n\u001b[1;32m    419\u001b[0m         \u001b[0;32mif\u001b[0m \u001b[0;32mnot\u001b[0m \u001b[0mimageIO\u001b[0m\u001b[0;34m:\u001b[0m\u001b[0;34m\u001b[0m\u001b[0;34m\u001b[0m\u001b[0m\n\u001b[0;32m--> 420\u001b[0;31m             \u001b[0;32mraise\u001b[0m \u001b[0mRuntimeError\u001b[0m\u001b[0;34m(\u001b[0m\u001b[0;34m\"No ImageIO is registered to handle the given file.\"\u001b[0m\u001b[0;34m)\u001b[0m\u001b[0;34m\u001b[0m\u001b[0;34m\u001b[0m\u001b[0m\n\u001b[0m\u001b[1;32m    421\u001b[0m         componentTypeDic= {\"float\": itk.F, \"double\": itk.D,\n\u001b[1;32m    422\u001b[0m         \u001b[0;34m\"unsigned_char\"\u001b[0m\u001b[0;34m:\u001b[0m \u001b[0mitk\u001b[0m\u001b[0;34m.\u001b[0m\u001b[0mUC\u001b[0m\u001b[0;34m,\u001b[0m \u001b[0;34m\"unsigned_short\"\u001b[0m\u001b[0;34m:\u001b[0m \u001b[0mitk\u001b[0m\u001b[0;34m.\u001b[0m\u001b[0mUS\u001b[0m\u001b[0;34m,\u001b[0m \u001b[0;34m\"unsigned_int\"\u001b[0m\u001b[0;34m:\u001b[0m \u001b[0mitk\u001b[0m\u001b[0;34m.\u001b[0m\u001b[0mUI\u001b[0m\u001b[0;34m,\u001b[0m\u001b[0;34m\u001b[0m\u001b[0;34m\u001b[0m\u001b[0m\n",
      "\u001b[0;31mRuntimeError\u001b[0m: No ImageIO is registered to handle the given file."
     ]
    }
   ],
   "source": [
    "# Image filenames\n",
    "# NOTE:  The images can be found the class directory `/nfsscratch/opt/ece5490/data`\n",
    "\n",
    "data_dir='/nfsscratch/opt/ece5490/data'\n",
    "\n",
    "imageA_2d_fn = 'imageA_2d.nii.gz'\n",
    "imageB_2d_fn = 'imageB_2d.nii.gz'\n",
    "imageA_3d_fn = 'imageA_3d.nii.gz'\n",
    "imageB_3d_fn = 'imageB_3d.nii.gz'\n",
    "imageC_3d_fn = 'imageC_3d.nii.gz'\n",
    "imageD_3d_fn = 'imageD_3d.nii.gz'\n",
    "\n",
    "# Read images\n",
    "imageA_2d = itk.imread(join(data_dir, imageA_2d_fn))\n",
    "imageB_2d = itk.imread(join(data_dir, imageB_2d_fn))\n",
    "imageA_3d = itk.imread(join(data_dir, imageA_3d_fn))\n",
    "imageB_3d = itk.imread(join(data_dir, imageB_3d_fn))\n",
    "imageC_3d = itk.imread(join(data_dir, imageC_3d_fn))\n",
    "imageD_3d = itk.imread(join(data_dir, imageD_3d_fn))"
   ]
  },
  {
   "cell_type": "markdown",
   "metadata": {},
   "source": [
    "# Calculate Image Extent\n",
    "\n",
    "After reading Chapter 4, and understanding equation 4.1 of the ITK Software Guide (approximately page 52) you will need to complete the following task:\n",
    "\n",
    "For each of the 4 images calculate the image exent, the combined area/volume covered by all the <b>Pixel Centered Regions</b> of all point sources. Report the physcial location min/max x, min/max y, and min/max z (for 3d) locations in <b>physical space</b> of the image extent. Additionally, calculate the surface area (2D) or volume (3D) of the image extenet. You may do these calculations by hand, use ITK functions, or write a function that does it. Display your results in a table in the markdown cell below, by replacing the X.X with your result.\n",
    "\n",
    "The correct answer for imageC_3d is given to you so that you can verify that your computational approach is correct.\n",
    "\n",
    "HINT: For a 2D image, the direction cosine matrix is:\n",
    "$DC= \n",
    "\\begin{bmatrix} \n",
    "    cos{\\theta} & -sin{\\theta} \\\\\n",
    "    sin{\\theta} & cos{\\theta}\n",
    "\\end{bmatrix}$\n",
    "\n",
    "HINT: The index location [0,0,0] may contain information about the maximum physical space coordinates.  You may need to use \"ContinuousIndex\" for some solutions  and not for others."
   ]
  },
  {
   "cell_type": "code",
   "execution_count": 4,
   "metadata": {},
   "outputs": [],
   "source": [
    "def get_img_vol(image):\n",
    "    dims = len(image.GetOrigin())\n",
    "    size = np.array(image.GetLargestPossibleRegion().GetSize())\n",
    "    spacing = np.array(image.GetSpacing())\n",
    "    phys = size * spacing\n",
    "    prod = 1\n",
    "    for dim in range(dims):\n",
    "        prod *= phys[dim]\n",
    "    return prod"
   ]
  },
  {
   "cell_type": "code",
   "execution_count": 7,
   "metadata": {},
   "outputs": [],
   "source": [
    "def get_direction_cos(image):\n",
    "    DIMS = len(image.GetOrigin())\n",
    "    arr = np.array([[0.0]*DIMS]*DIMS)\n",
    "    mat = image.GetDirection().GetVnlMatrix()\n",
    "    for i in range(DIMS):\n",
    "        for j in range(DIMS):\n",
    "            arr[i][j] = mat.get(i,j)\n",
    "    return arr"
   ]
  },
  {
   "cell_type": "code",
   "execution_count": 5,
   "metadata": {},
   "outputs": [],
   "source": [
    "def my_get_physical_point(image, voxel_space_point):\n",
    "    DIMS = len(voxel_space_point)\n",
    "    cont_index = itk.ContinuousIndex[itk.D, DIMS]()\n",
    "    [cont_index.SetElement(i, voxel_space_point[i]) for i in range(DIMS)]\n",
    "    return np.array(image.TransformContinuousIndexToPhysicalPoint(cont_index))"
   ]
  },
  {
   "cell_type": "code",
   "execution_count": 6,
   "metadata": {},
   "outputs": [],
   "source": [
    "def update_max_dict(d,arr):\n",
    "    max_keys = ['x_max', 'y_max', 'z_max']\n",
    "    min_keys = ['x_min', 'y_min', 'z_min']\n",
    "    DIMS = len(arr)\n",
    "    for index in range(DIMS): \n",
    "        # update max vals\n",
    "        if arr[index] > d[max_keys[index]]:\n",
    "            d[max_keys[index]] = arr[index]\n",
    "        # update min vals\n",
    "        if arr[index] < d[min_keys[index]]:\n",
    "            d[min_keys[index]] = arr[index]\n",
    "    return d\n",
    "\n",
    "def get_max_pts(image):\n",
    "    img_size = np.array(image.GetLargestPossibleRegion().GetSize(), dtype=np.double)\n",
    "    DIMS = len(image.GetOrigin())\n",
    "    max_physical_vals = img_size - (0.5)\n",
    "    min_physical_vals = np.zeros(DIMS)  - (0.5)\n",
    "\n",
    "    max_pts = {\n",
    "        'x_min': np.Inf,\n",
    "        'x_max': np.NINF,\n",
    "        'y_min': np.Inf,\n",
    "        'y_max': np.NINF,        \n",
    "    }\n",
    "    \n",
    "    if DIMS == 3:\n",
    "        max_pts['z_min'] = np.Inf\n",
    "        max_pts['z_max'] = np.NINF\n",
    "        \n",
    "    for x_index in [max_physical_vals[0], min_physical_vals[0]]:\n",
    "        for y_index in [max_physical_vals[1], min_physical_vals[1]]:\n",
    "            if DIMS == 3:\n",
    "                for z_index in [max_physical_vals[2], min_physical_vals[2]]:\n",
    "                    max_pts = update_max_dict(max_pts, my_get_physical_point(image, [x_index, y_index, z_index]))\n",
    "            else:\n",
    "                max_pts = update_max_dict(max_pts, my_get_physical_point(image, [x_index, y_index]))\n",
    "\n",
    "    return max_pts"
   ]
  },
  {
   "cell_type": "code",
   "execution_count": 7,
   "metadata": {},
   "outputs": [],
   "source": [
    "images = {\n",
    "    \"imageA_2d\": imageA_2d, \n",
    "    \"imageB_2d\": imageB_2d, \n",
    "    'imageA_3d': imageA_3d, \n",
    "    \"imageB_3d\": imageB_3d, \n",
    "    \"imageC_3d\": imageC_3d, \n",
    "    \"imageD_3d\": imageD_3d\n",
    "}"
   ]
  },
  {
   "cell_type": "code",
   "execution_count": 8,
   "metadata": {},
   "outputs": [
    {
     "name": "stdout",
     "output_type": "stream",
     "text": [
      "imageA_2d\n",
      "81920.0\n",
      "{'x_max': 255.0, 'x_min': -1.0, 'y_max': 319.0, 'y_min': -1.0}\n",
      "\n",
      "imageB_2d\n",
      "81920.0\n",
      "{'x_max': 226.51210257099717,\n",
      " 'x_min': -178.61602711956348,\n",
      " 'y_max': -34.066987293320146,\n",
      " 'y_min': -415.76949182113225}\n",
      "\n",
      "imageA_3d\n",
      "8388608.0\n",
      "{'x_max': 305.70000076293945,\n",
      " 'x_min': 49.70000076293945,\n",
      " 'y_max': 275.70000076293945,\n",
      " 'y_min': 19.700000762939453,\n",
      " 'z_max': 157.70000076293945,\n",
      " 'z_min': 29.700000762939453}\n",
      "\n",
      "imageB_3d\n",
      "8388608.0\n",
      "{'x_max': 155.00000001711416,\n",
      " 'x_min': -101.00000874539242,\n",
      " 'y_max': -99.49999996577147,\n",
      " 'y_min': -355.50000872827803,\n",
      " 'z_max': 27.75,\n",
      " 'z_min': -100.25}\n",
      "\n",
      "imageC_3d\n",
      "1048576.0\n",
      "{'x_max': 48.75000000855711,\n",
      " 'x_min': -15.250004372696212,\n",
      " 'y_max': 20.250000008557134,\n",
      " 'y_min': -107.75000218206948,\n",
      " 'z_max': 117.75,\n",
      " 'z_min': -10.25}\n",
      "\n",
      "imageD_3d\n",
      "4194304.0\n",
      "{'x_max': 456.41398020798255,\n",
      " 'x_min': -50.991025401581176,\n",
      " 'y_max': 43.75,\n",
      " 'y_min': -20.25,\n",
      " 'z_max': 151.1347448437681,\n",
      " 'z_min': -215.71650978930452}\n",
      "\n"
     ]
    }
   ],
   "source": [
    "for name, im in images.items():\n",
    "    print(name)\n",
    "    pprint.pprint(get_img_vol(im))\n",
    "    pprint.pprint(get_max_pts(im))\n",
    "    print()"
   ]
  },
  {
   "cell_type": "markdown",
   "metadata": {},
   "source": [
    "|  Image  |min_x    |max_x    |min_y    |max_y    |min_z    |max_z     |SA/Vol|\n",
    "|---------|---------|---------|---------|---------|---------|--------|---------|\n",
    "|imageA_2d| -1.0 | 255.0 | -1.0 | 319.0 |-----|-----| 81920 |\n",
    "|imageB_2d| -178.66 | 226.51 | -415.77 | -34.07 |-----|-----| 81920 |\n",
    "|imageA_3d| 49.70 | 305.70 | 19.70 | 275.70 | 29.70 | 157.70 | 8388608 |\n",
    "|imageB_3d| -101.00 | 155.00 | -355.50 | -99.50 | -100.25 | 27.75 | 8388608 |\n",
    "|imageC_3d| -15.25 | 48.75 | -107.75 | 20.25 | -10.25 | 117.75 | 1048576 |\n",
    "|imageD_3d| -50.99 | 456.41 | -20.25 | 43.75 | -215.72 | 151.13 | 4194304 |"
   ]
  },
  {
   "cell_type": "code",
   "execution_count": 9,
   "metadata": {
    "collapsed": false
   },
   "outputs": [
    {
     "data": {
      "image/png": "[encoded data removed]",
      "text/plain": [
       "<Figure size 432x288 with 1 Axes>"
      ]
     },
     "metadata": {
      "needs_background": "light"
     },
     "output_type": "display_data"
    }
   ],
   "source": [
    "def plot_points(imgA_pt1, imgA_pt2, imgB_pt1, imgB_pt2):\n",
    "    c = ['b','r']\n",
    "    pt1 = plt.scatter(imgA_pt1[0],imgA_pt1[1], s=200, c = c[0], marker='o')\n",
    "    pt2 = plt.scatter(imgA_pt2[0],imgA_pt2[1],s=200, c = c[1], marker='o')\n",
    "    pt3 = plt.scatter(imgB_pt1[0],imgB_pt1[1], s=200, c = c[0], marker='*')\n",
    "    pt4 = plt.scatter(imgB_pt2[0],imgB_pt2[1], s=200, c = c[1], marker='*')\n",
    "    plt.legend((pt1,pt2,pt3,pt4),('ImgA_Point1','ImgA_Point2', 'Img_B_Point1', 'Img_B_Point2'), loc='upper left')\n",
    "    plt.xlabel('Physical Location X')\n",
    "    plt.ylabel('Physical Location Y')\n",
    "    plt.title('Corresponding Points')\n",
    "\n",
    "imgA_pt1 = np.array([168,10])\n",
    "imgA_pt2 = np.array([50,100])\n",
    "imgB_pt1 = np.array([-125.34,-185.49])\n",
    "imgB_pt2 = np.array([11.60,-128.30])\n",
    "plot_points(imgA_pt1, imgA_pt2, imgB_pt1, imgB_pt2)"
   ]
  },
  {
   "cell_type": "markdown",
   "metadata": {},
   "source": [
    "first check that the distance between the two points is the same"
   ]
  },
  {
   "cell_type": "code",
   "execution_count": 10,
   "metadata": {},
   "outputs": [
    {
     "name": "stdout",
     "output_type": "stream",
     "text": [
      "a dist: 148.4048516727132\n",
      "b dist: 148.4023574610592\n"
     ]
    }
   ],
   "source": [
    "print(\"a dist:\", np.linalg.norm(imgA_pt1- imgA_pt2))\n",
    "print(\"b dist:\", np.linalg.norm(imgB_pt1 - imgB_pt2))"
   ]
  },
  {
   "cell_type": "markdown",
   "metadata": {},
   "source": [
    "The goal of this exercise is to find the Euler2DTransform that transforms the red circle to the red star and the blue circle to the blue star.\n",
    "\n",
    "\n",
    "There exists a Euler2DTransform defined by the parameters $(T_x, T_y, \\theta)$, such that the following holds true for both Point1 and Point2.\n",
    "\n",
    "$\n",
    "\\begin{bmatrix}\n",
    "  cos\\theta & -sin\\theta \\\\\n",
    "  sin\\theta & cos\\theta\n",
    "\\end{bmatrix}\n",
    "\\begin{bmatrix}\n",
    "  X_A\\\\\n",
    "  Y_A\n",
    "\\end{bmatrix}\n",
    "+\n",
    "\\begin{bmatrix}\n",
    "  T_x \\\\\n",
    "  T_y\n",
    "\\end{bmatrix}\n",
    "=\n",
    "\\begin{bmatrix}\n",
    "  X_B \\\\\n",
    "  Y_B\n",
    "\\end{bmatrix}\n",
    "$\n",
    "\n",
    "Calculate the Euler2DTransform by solving for $(T_x, T_y, \\theta)$\n",
    "\n",
    "\n",
    " You need to carfully consider what a rotation of $\\theta$ means in your example.\n",
    "\n",
    "\n",
    "\n",
    "HINT:\n",
    "\n",
    "There are multiple ways to solve this problem.\n",
    "\n",
    "You could set up a system of 4 equations with 4 unknowns, and solve for the unknowns: $T_x$, $T_y$, $m$, and $n$ (where $m=cos\\theta$ and $n=sin\\theta$)\n",
    "\n",
    "Or you could use trigonometric calculations, given the angle $\\theta$ between two vectors $u$ and $v$ is given by\n",
    "\n",
    "$cos \\theta = \\frac{u \\cdot v}{ ||u||*||v||}$\n",
    "\n",
    "\n"
   ]
  },
  {
   "cell_type": "code",
   "execution_count": 11,
   "metadata": {},
   "outputs": [
    {
     "name": "stdout",
     "output_type": "stream",
     "text": [
      "Translate A : [-293.34 -195.49]\n"
     ]
    }
   ],
   "source": [
    "# Option 1. Shift and Rotate\n",
    "# align pt1 in both images\n",
    "diff_pt1s = imgB_pt1 - imgA_pt1 \n",
    "moved_A_pt1 = imgA_pt1 + diff_pt1s\n",
    "moved_A_pt2 = imgA_pt2 + diff_pt1s\n",
    "print(\"Translate A :\", diff_pt1s)"
   ]
  },
  {
   "cell_type": "code",
   "execution_count": 12,
   "metadata": {},
   "outputs": [
    {
     "name": "stdout",
     "output_type": "stream",
     "text": [
      "New Points After Translation:\n",
      "A Points:  [-125.34 -185.49] [-243.34  -95.49]\n",
      "B Points:  [-125.34 -185.49] [  11.6 -128.3]\n"
     ]
    }
   ],
   "source": [
    "print(\"New Points After Translation:\")\n",
    "print(\"A Points: \", moved_A_pt1, moved_A_pt2)\n",
    "print(\"B Points: \", imgB_pt1, imgB_pt2)"
   ]
  },
  {
   "cell_type": "code",
   "execution_count": 13,
   "metadata": {},
   "outputs": [
    {
     "name": "stdout",
     "output_type": "stream",
     "text": [
      "Fixed Centering Translation Parmeter:  [125.34 185.49]\n"
     ]
    }
   ],
   "source": [
    "# Center the points, so that the rotation happens around the correct axis\n",
    "translation_to_center = -1 * moved_A_pt1\n",
    "centered_A_pt1 = moved_A_pt1 + translation_to_center\n",
    "centered_A_pt2 = moved_A_pt2 + translation_to_center\n",
    "centered_B_pt1 = imgB_pt1 + translation_to_center\n",
    "centered_B_pt2 = imgB_pt2 + translation_to_center\n",
    "print(\"Fixed Centering Translation Parmeter: \", translation_to_center)"
   ]
  },
  {
   "cell_type": "code",
   "execution_count": 14,
   "metadata": {},
   "outputs": [
    {
     "name": "stdout",
     "output_type": "stream",
     "text": [
      "New Points After Translation:\n",
      "A Points:  [0. 0.] [-118.   90.]\n",
      "B Points:  [2.84217094e-14 0.00000000e+00] [136.94  57.19]\n"
     ]
    }
   ],
   "source": [
    "print(\"New Points After Translation:\")\n",
    "print(\"A Points: \", centered_A_pt1, centered_A_pt2)\n",
    "print(\"B Points: \", centered_B_pt1, centered_B_pt2)"
   ]
  },
  {
   "cell_type": "code",
   "execution_count": 15,
   "metadata": {},
   "outputs": [
    {
     "name": "stdout",
     "output_type": "stream",
     "text": [
      "theta = 2.0943953685573837\n"
     ]
    }
   ],
   "source": [
    "v = centered_A_pt2 - centered_A_pt1\n",
    "u = centered_B_pt2 - centered_B_pt1\n",
    "theta = np.arccos(np.dot(u, v)/ (np.linalg.norm(u)*np.linalg.norm(v)))\n",
    "print(\"theta =\", theta)"
   ]
  },
  {
   "cell_type": "code",
   "execution_count": 16,
   "metadata": {},
   "outputs": [
    {
     "name": "stdout",
     "output_type": "stream",
     "text": [
      "rotation matrix: \n",
      "array([[-0.50000023, -0.86602527],\n",
      "       [ 0.86602527, -0.50000023]])\n"
     ]
    }
   ],
   "source": [
    "rotation_matrix = np.array([\n",
    "    [np.cos(theta),-1*np.sin(theta)],\n",
    "    [np.sin(theta),np.cos(theta)]\n",
    "])\n",
    "print(\"rotation matrix: \")\n",
    "pprint.pprint(rotation_matrix)"
   ]
  },
  {
   "cell_type": "code",
   "execution_count": 17,
   "metadata": {},
   "outputs": [],
   "source": [
    "new_A_pt2 = np.matmul(centered_A_pt2, rotation_matrix)"
   ]
  },
  {
   "cell_type": "code",
   "execution_count": 18,
   "metadata": {},
   "outputs": [
    {
     "name": "stdout",
     "output_type": "stream",
     "text": [
      "New Points After Rotation:\n",
      "A Points:  [0. 0.] [136.94230156  57.1909612 ]\n",
      "B Points:  [2.84217094e-14 0.00000000e+00] [136.94  57.19]\n"
     ]
    }
   ],
   "source": [
    "print(\"New Points After Rotation:\")\n",
    "print(\"A Points: \", centered_A_pt1, new_A_pt2)\n",
    "print(\"B Points: \", centered_B_pt1, centered_B_pt2)"
   ]
  },
  {
   "cell_type": "markdown",
   "metadata": {},
   "source": [
    "<b>Fill in each X.X with your solution</b>\n",
    "\n",
    "$\n",
    "\\begin{bmatrix}\n",
    "  T_x \\\\\n",
    "  T_y\n",
    "\\end{bmatrix}\n",
    "= \n",
    "\\begin{bmatrix} \n",
    "    -293.34 \\\\\n",
    "    -195.49\n",
    "\\end{bmatrix}$\n",
    "\n",
    "$\\theta= 2.0943953$ radians \n",
    "\n",
    "Fixed Parameters:      \n",
    "Center_of_rotation = [-125.34, -185.49]\n",
    "\n"
   ]
  },
  {
   "cell_type": "code",
   "execution_count": 19,
   "metadata": {},
   "outputs": [
    {
     "name": "stdout",
     "output_type": "stream",
     "text": [
      "Origional State:\n"
     ]
    },
    {
     "data": {
      "image/png": "[encoded data removed]",
      "text/plain": [
       "<Figure size 432x288 with 1 Axes>"
      ]
     },
     "metadata": {
      "needs_background": "light"
     },
     "output_type": "display_data"
    },
    {
     "name": "stdout",
     "output_type": "stream",
     "text": [
      "Translate A:\n"
     ]
    },
    {
     "data": {
      "image/png": "[encoded data removed]",
      "text/plain": [
       "<Figure size 432x288 with 1 Axes>"
      ]
     },
     "metadata": {
      "needs_background": "light"
     },
     "output_type": "display_data"
    },
    {
     "name": "stdout",
     "output_type": "stream",
     "text": [
      "Rotation is set about the center:\n"
     ]
    },
    {
     "data": {
      "image/png": "[encoded data removed]",
      "text/plain": [
       "<Figure size 432x288 with 1 Axes>"
      ]
     },
     "metadata": {
      "needs_background": "light"
     },
     "output_type": "display_data"
    },
    {
     "name": "stdout",
     "output_type": "stream",
     "text": [
      "Rotation A:\n"
     ]
    },
    {
     "data": {
      "image/png": "[encoded data removed]",
      "text/plain": [
       "<Figure size 432x288 with 1 Axes>"
      ]
     },
     "metadata": {
      "needs_background": "light"
     },
     "output_type": "display_data"
    },
    {
     "name": "stdout",
     "output_type": "stream",
     "text": [
      "Final State:\n"
     ]
    },
    {
     "data": {
      "image/png": "[encoded data removed]",
      "text/plain": [
       "<Figure size 432x288 with 1 Axes>"
      ]
     },
     "metadata": {
      "needs_background": "light"
     },
     "output_type": "display_data"
    }
   ],
   "source": [
    "# Evaluation (use the parameters defined to manipulate imageA into imageB):\n",
    "T_translation = diff_pt1s\n",
    "theta = 2.0943953\n",
    "rotation_matrix = np.array([\n",
    "    [np.cos(theta),-1*np.sin(theta)],\n",
    "    [np.sin(theta),np.cos(theta)]\n",
    "])\n",
    "T_centering = translation_to_center\n",
    "\n",
    "\n",
    "imgA_pt1 = np.array([168,10])\n",
    "imgA_pt2 = np.array([50,100])\n",
    "imgB_pt1 = np.array([-125.34,-185.49])\n",
    "imgB_pt2 = np.array([11.60,-128.30])\n",
    "print(\"Origional State:\")\n",
    "plot_points(imgA_pt1, imgA_pt2, imgB_pt1, imgB_pt2)\n",
    "plt.show()\n",
    "\n",
    "eval_im_A_pt1 = imgA_pt1 + T_translation\n",
    "eval_im_A_pt2 = imgA_pt2 + T_translation\n",
    "\n",
    "print(\"Translate A:\")\n",
    "plot_points(eval_im_A_pt1, eval_im_A_pt2, imgB_pt1, imgB_pt2)\n",
    "plt.show()\n",
    "\n",
    "eval_im_A_pt1 = eval_im_A_pt1 + T_centering\n",
    "eval_im_A_pt2 = eval_im_A_pt2 + T_centering\n",
    "eval_im_B_pt1 = imgB_pt1 + T_centering\n",
    "eval_im_B_pt2 = imgB_pt2 + T_centering\n",
    "\n",
    "print(\"Rotation is set about the center:\")\n",
    "plot_points(eval_im_A_pt1, eval_im_A_pt2, eval_im_B_pt1, eval_im_B_pt2)\n",
    "plt.show()\n",
    "\n",
    "eval_im_A_pt1 = np.matmul(eval_im_A_pt1, rotation_matrix)\n",
    "eval_im_A_pt2 = np.matmul(eval_im_A_pt2, rotation_matrix)\n",
    "\n",
    "print(\"Rotation A:\")\n",
    "plot_points(eval_im_A_pt1, eval_im_A_pt2, eval_im_B_pt1, eval_im_B_pt2)\n",
    "plt.show()\n",
    "\n",
    "eval_im_A_pt1 = eval_im_A_pt1 - T_centering\n",
    "eval_im_A_pt2 = eval_im_A_pt2 - T_centering\n",
    "eval_im_B_pt1 = imgB_pt1 - T_centering\n",
    "eval_im_B_pt2 = imgB_pt2 - T_centering\n",
    "\n",
    "print(\"Final State:\")\n",
    "plot_points(eval_im_A_pt1, eval_im_A_pt2, imgB_pt1, imgB_pt2)\n",
    "plt.show()"
   ]
  },
  {
   "cell_type": "markdown",
   "metadata": {},
   "source": [
    "# Apply Transform\n",
    "Write a transform_image widget that takes in an image, a reference image, and the Euler2DTransform parameters $(T_x, T_y, \\theta)$ and displays the transformed image. There should be a widget bar for each parameter. Use this graphical interface to transform imageB_2D to imageA_2D, carefully consider what the reference image to make this transform. Record the parameters $(T_x, T_y, \\theta)$ that give the transformation.\n",
    "\n",
    "HINT: parameter ranges\n",
    "\n",
    "$T_x$: (-100.0,100.0,5.0)\n",
    "   \n",
    "$T_y$: (-100.0,100.0,5.0)\n",
    "  \n",
    "$\\theta$: (-180.0,180.0,5.0)"
   ]
  },
  {
   "cell_type": "code",
   "execution_count": 20,
   "metadata": {},
   "outputs": [],
   "source": [
    "# define widget sliders\n",
    "t_x_slider = FloatSlider(\n",
    "    value=-41.6,\n",
    "    min=-100.0,\n",
    "    max=100.0,\n",
    "    step=0.1,\n",
    "    description='Translate(x):',\n",
    "    disabled=False,\n",
    "    continuous_update=False,\n",
    "    orientation='horizontal',\n",
    "    readout=True,\n",
    "    readout_format='.1f',\n",
    ")\n",
    "\n",
    "t_y_slider = FloatSlider(\n",
    "    value=-100,\n",
    "    min=-100.0,\n",
    "    max=100.0,\n",
    "    step=0.1,\n",
    "    description='Translate(y):',\n",
    "    disabled=False,\n",
    "    continuous_update=False,\n",
    "    orientation='horizontal',\n",
    "    readout=True,\n",
    "    readout_format='.1f',\n",
    ")\n",
    "\n",
    "theta_slider = FloatSlider(\n",
    "    value=-120.5,\n",
    "    min=-180.0,\n",
    "    max=180.0,\n",
    "    step=0.1,\n",
    "    description='Theta:',\n",
    "    disabled=False,\n",
    "    continuous_update=False,\n",
    "    orientation='horizontal',\n",
    "    readout=True,\n",
    "    readout_format='.1f',\n",
    ")  "
   ]
  },
  {
   "cell_type": "code",
   "execution_count": 21,
   "metadata": {},
   "outputs": [],
   "source": [
    "# image setup\n",
    "PixelType = itk.F\n",
    "Dimension = 2\n",
    "ImageType = itk.Image[PixelType, Dimension]\n",
    "reader = itk.ImageFileReader[ImageType].New()\n",
    "\n",
    "reader.SetFileName(join(data_dir, imageA_2d_fn))\n",
    "reader.Update()\n",
    "imageA_2d = reader.GetOutput()\n",
    "\n",
    "reader.SetFileName(join(data_dir, imageB_2d_fn))\n",
    "reader.Update()\n",
    "imageB_2d = reader.GetOutput()"
   ]
  },
  {
   "cell_type": "code",
   "execution_count": 22,
   "metadata": {
    "collapsed": true
   },
   "outputs": [
    {
     "data": {
      "application/vnd.jupyter.widget-view+json": {
       "model_id": "8f79f3f365e04cc1bc9a117af44786ee",
       "version_major": 2,
       "version_minor": 0
      },
      "text/plain": [
       "interactive(children=(FloatSlider(value=-41.6, continuous_update=False, description='Translate(x):', min=-100.…"
      ]
     },
     "metadata": {},
     "output_type": "display_data"
    },
    {
     "data": {
      "text/plain": [
       "<function __main__.intermediate_interact_func(t_x, t_y, theta)>"
      ]
     },
     "execution_count": 22,
     "metadata": {},
     "output_type": "execute_result"
    }
   ],
   "source": [
    "# Utility function to resample an image by applying a transform\n",
    " \n",
    "def transform_image(image, ref_image, transform):\n",
    "    \"\"\" Apply a resampling to the reference image using a CosineWindowedSinc interpolator.\n",
    "    \n",
    "    Args:\n",
    "        image (itk.Image): the image to transform\n",
    "        ref_image (itk.Image): The reference image used for resampling\n",
    "        transform (itk.Image): the transform to apply \n",
    "    Returns:\n",
    "        out_img (itk.Image): the transformed image\n",
    "        \n",
    "    \"\"\"\n",
    "    size = ref_image.GetLargestPossibleRegion().GetSize()\n",
    "    spacing = ref_image.GetSpacing()\n",
    "    origin = ref_image.GetOrigin()\n",
    "    \n",
    "    resamplerType = itk.ResampleImageFilter[ImageType, ImageType]\n",
    "    resampleFilter = resamplerType.New()\n",
    "    # I could not find the python api version of windowed sinc, so i am using linear\n",
    "    interpolator = itk.NearestNeighborInterpolateImageFunction[ImageType, itk.D].New() \n",
    "    \n",
    "    resampleFilter.SetInput(image)\n",
    "    resampleFilter.SetTransform(transform)\n",
    "    resampleFilter.SetInterpolator(interpolator)\n",
    "    resampleFilter.SetSize(size)\n",
    "    resampleFilter.SetOutputSpacing(spacing)\n",
    "    resampleFilter.SetOutputOrigin(origin)\n",
    "    resampleFilter.Update()\n",
    "    return resampleFilter.GetOutput()\n",
    "                                \n",
    "    \n",
    "def intermediate_interact_func(t_x, t_y, theta):\n",
    "    #diff_image = itk.subtract_image_filter(image_one, image_two)\n",
    "    my_transform = itk.Euler2DTransform[itk.D].New()\n",
    "    my_transform.SetAngleInDegrees(theta)\n",
    "    my_transform.SetTranslation([t_x, t_y])\n",
    "    trans_image = transform_image(imageA_2d, imageB_2d, my_transform)\n",
    "    plt.imshow(itk.GetArrayViewFromImage(trans_image) - itk.GetArrayViewFromImage(imageB_2d))\n",
    "    plt.show() # I am not sure if this visualizaion will cause users to register in voxel space\n",
    "#     difference_op = itk.SubtractImageFilter[ImageType, ImageType, ImageType].New()\n",
    "#     difference_op.SetInput1(imageB_2d)\n",
    "#     difference_op.SetInput2(trans_image)\n",
    "#     difference_op.Update()\n",
    "#     result_image = difference_op.GetOutput()\n",
    "#     plt.imshow(itk.GetArrayViewFromImage(result_image))\n",
    "#     plt.show()\n",
    "\n",
    "interact(intermediate_interact_func, t_x=t_x_slider, t_y=t_y_slider, theta=theta_slider)"
   ]
  },
  {
   "cell_type": "markdown",
   "metadata": {},
   "source": [
    "### Best parameters I could find:\n",
    "$T_x = -41.6 $     \n",
    "$T_y = -100 $     \n",
    "$\\Theta = -120.5$    "
   ]
  }
 ],
 "metadata": {
  "kernelspec": {
   "display_name": "Python 3",
   "language": "python",
   "name": "python3"
  },
  "language_info": {
   "codemirror_mode": {
    "name": "ipython",
    "version": 3
   },
   "file_extension": ".py",
   "mimetype": "text/x-python",
   "name": "python",
   "nbconvert_exporter": "python",
   "pygments_lexer": "ipython3",
   "version": "3.7.1"
  }
 },
 "nbformat": 4,
 "nbformat_minor": 2
}
