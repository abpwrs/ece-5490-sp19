{
 "cells": [
  {
   "cell_type": "markdown",
   "metadata": {},
   "source": [
    "# Eye Heuristics\n",
    "The data has two normal distributions where one is for images with eyes and one is for images without."
   ]
  },
  {
   "cell_type": "code",
   "execution_count": 125,
   "metadata": {},
   "outputs": [],
   "source": [
    "import SimpleITK as sitk\n",
    "import sklearn\n",
    "from sklearn.model_selection import train_test_split\n",
    "from sklearn.metrics import classification_report\n",
    "from sklearn.tree import DecisionTreeClassifier\n",
    "import matplotlib.pyplot as plt\n",
    "import glob\n",
    "import os\n",
    "import pickle\n",
    "import numpy as np"
   ]
  },
  {
   "cell_type": "code",
   "execution_count": 96,
   "metadata": {},
   "outputs": [],
   "source": [
    "IMG_SAVE_DIR = \"img_viz\"\n",
    "IMG_VIZ_EXT = \"png\""
   ]
  },
  {
   "cell_type": "code",
   "execution_count": 97,
   "metadata": {},
   "outputs": [],
   "source": [
    "all_subject_dirs = glob.glob(os.path.join(EYE_DIR,'*'))\n",
    "all_subject_ids = [ os.path.basename(sd) for sd in all_subject_dirs]"
   ]
  },
  {
   "cell_type": "code",
   "execution_count": 98,
   "metadata": {},
   "outputs": [],
   "source": [
    "img_files = glob.glob(\"./img_viz/*/*\")"
   ]
  },
  {
   "cell_type": "code",
   "execution_count": 99,
   "metadata": {},
   "outputs": [],
   "source": [
    "average_intensities = []\n",
    "for imf in img_files:\n",
    "    im = sitk.ReadImage(imf)\n",
    "    arr = sitk.GetArrayFromImage(im)\n",
    "    average_intensities.append(np.average(arr.flatten()))"
   ]
  },
  {
   "cell_type": "code",
   "execution_count": 100,
   "metadata": {},
   "outputs": [
    {
     "data": {
      "text/plain": [
       "(array([ 3.,  4., 16., 14., 32., 39., 41., 51., 37., 44., 34., 25., 23.,\n",
       "        20., 11., 11., 11.,  3.,  6.,  4.,  3.,  3.,  1.,  2.,  1.,  0.,\n",
       "         0.,  0.,  0.,  1.,  0.,  1.,  1.,  3.,  2.,  1.,  0.,  3.,  1.,\n",
       "         1.,  4.,  6.,  4.,  7.,  7., 11., 13., 16., 18., 16., 29., 31.,\n",
       "        33., 35., 35., 24., 45., 33., 43., 43., 37., 46., 57., 46., 52.,\n",
       "        47., 41., 38., 43., 35., 28., 26., 35., 21., 21., 15., 19., 23.,\n",
       "        12.,  9.,  9.,  8.,  7.,  2.,  4.,  3.,  0.,  4.,  4.,  2.,  2.,\n",
       "         1.,  1.,  2.,  1.,  1.,  1.,  0.,  0.,  1.]),\n",
       " array([ 71.14583333,  71.93715   ,  72.72846667,  73.51978333,\n",
       "         74.3111    ,  75.10241667,  75.89373333,  76.68505   ,\n",
       "         77.47636667,  78.26768333,  79.059     ,  79.85031667,\n",
       "         80.64163333,  81.43295   ,  82.22426667,  83.01558333,\n",
       "         83.8069    ,  84.59821667,  85.38953333,  86.18085   ,\n",
       "         86.97216667,  87.76348333,  88.5548    ,  89.34611667,\n",
       "         90.13743333,  90.92875   ,  91.72006667,  92.51138333,\n",
       "         93.3027    ,  94.09401667,  94.88533333,  95.67665   ,\n",
       "         96.46796667,  97.25928333,  98.0506    ,  98.84191667,\n",
       "         99.63323333, 100.42455   , 101.21586667, 102.00718333,\n",
       "        102.7985    , 103.58981667, 104.38113333, 105.17245   ,\n",
       "        105.96376667, 106.75508333, 107.5464    , 108.33771667,\n",
       "        109.12903333, 109.92035   , 110.71166667, 111.50298333,\n",
       "        112.2943    , 113.08561667, 113.87693333, 114.66825   ,\n",
       "        115.45956667, 116.25088333, 117.0422    , 117.83351667,\n",
       "        118.62483333, 119.41615   , 120.20746667, 120.99878333,\n",
       "        121.7901    , 122.58141667, 123.37273333, 124.16405   ,\n",
       "        124.95536667, 125.74668333, 126.538     , 127.32931667,\n",
       "        128.12063333, 128.91195   , 129.70326667, 130.49458333,\n",
       "        131.2859    , 132.07721667, 132.86853333, 133.65985   ,\n",
       "        134.45116667, 135.24248333, 136.0338    , 136.82511667,\n",
       "        137.61643333, 138.40775   , 139.19906667, 139.99038333,\n",
       "        140.7817    , 141.57301667, 142.36433333, 143.15565   ,\n",
       "        143.94696667, 144.73828333, 145.5296    , 146.32091667,\n",
       "        147.11223333, 147.90355   , 148.69486667, 149.48618333,\n",
       "        150.2775    ]),\n",
       " <a list of 100 Patch objects>)"
      ]
     },
     "execution_count": 100,
     "metadata": {},
     "output_type": "execute_result"
    },
    {
     "data": {
      "image/png": "[encoded data removed]",
      "text/plain": [
       "<Figure size 432x288 with 1 Axes>"
      ]
     },
     "metadata": {
      "needs_background": "light"
     },
     "output_type": "display_data"
    }
   ],
   "source": [
    "plt.hist(average_intensities,bins=100)"
   ]
  },
  {
   "cell_type": "code",
   "execution_count": 101,
   "metadata": {},
   "outputs": [],
   "source": [
    "LE_data = glob.glob(\"./img_viz/LE/*\")\n",
    "LE_data.sort()\n",
    "RE_data = glob.glob(\"./img_viz/RE/*\")\n",
    "RE_data.sort()"
   ]
  },
  {
   "cell_type": "code",
   "execution_count": 102,
   "metadata": {},
   "outputs": [],
   "source": [
    "with open(\"./failed_le.list\",'r') as f:\n",
    "    LE_fails = f.readlines()\n",
    "with open(\"./failed_re.list\",'r') as f:\n",
    "    RE_fails = f.readlines()"
   ]
  },
  {
   "cell_type": "code",
   "execution_count": 103,
   "metadata": {},
   "outputs": [],
   "source": [
    "LE_fails = [a.split('\\n')[0] for a in LE_fails[1:]]\n",
    "LE_fails.sort()\n",
    "RE_fails = [a.split('\\n')[0] for a in RE_fails[1:]]\n",
    "RE_fails.sort()"
   ]
  },
  {
   "cell_type": "markdown",
   "metadata": {},
   "source": [
    "### prep features"
   ]
  },
  {
   "cell_type": "code",
   "execution_count": 108,
   "metadata": {},
   "outputs": [
    {
     "name": "stdout",
     "output_type": "stream",
     "text": [
      "(1610, 1)\n"
     ]
    }
   ],
   "source": [
    "features = []\n",
    "for image_fn in LE_data:\n",
    "    features.append(np.average(sitk.GetArrayFromImage(sitk.ReadImage(image_fn)).flatten()))\n",
    "for image_fn in RE_data:\n",
    "    features.append(np.average(sitk.GetArrayFromImage(sitk.ReadImage(image_fn)).flatten()))\n",
    "features = np.array(features)\n",
    "features = np.reshape(features, (-1,1))\n",
    "print(features.shape)"
   ]
  },
  {
   "cell_type": "markdown",
   "metadata": {},
   "source": [
    "### prep labels"
   ]
  },
  {
   "cell_type": "code",
   "execution_count": 109,
   "metadata": {},
   "outputs": [
    {
     "name": "stdout",
     "output_type": "stream",
     "text": [
      "(1610, 1)\n"
     ]
    }
   ],
   "source": [
    "labels = []\n",
    "for sub in all_subject_ids:\n",
    "    labels.append(sub in LE_fails)\n",
    "for sub in all_subject_ids:\n",
    "    labels.append(sub in RE_fails)\n",
    "labels = np.array(labels)\n",
    "labels = np.reshape(labels, (-1,1))\n",
    "print(labels.shape)"
   ]
  },
  {
   "cell_type": "markdown",
   "metadata": {},
   "source": [
    "### train test split"
   ]
  },
  {
   "cell_type": "code",
   "execution_count": 110,
   "metadata": {},
   "outputs": [],
   "source": [
    "x_train, x_test, y_train, y_test = train_test_split(features, labels, shuffle=True, test_size=0.33)"
   ]
  },
  {
   "cell_type": "code",
   "execution_count": 135,
   "metadata": {},
   "outputs": [
    {
     "data": {
      "text/plain": [
       "DecisionTreeClassifier(class_weight=None, criterion='gini', max_depth=1,\n",
       "            max_features=None, max_leaf_nodes=None,\n",
       "            min_impurity_decrease=0.0, min_impurity_split=None,\n",
       "            min_samples_leaf=1, min_samples_split=2,\n",
       "            min_weight_fraction_leaf=0.0, presort=False, random_state=None,\n",
       "            splitter='best')"
      ]
     },
     "execution_count": 135,
     "metadata": {},
     "output_type": "execute_result"
    }
   ],
   "source": [
    "clf = DecisionTreeClassifier(max_depth=1)  # only one decision\n",
    "clf.fit(x_train, y_train)"
   ]
  },
  {
   "cell_type": "code",
   "execution_count": 136,
   "metadata": {},
   "outputs": [
    {
     "name": "stdout",
     "output_type": "stream",
     "text": [
      "accuracy 99.81203007518798%\n"
     ]
    }
   ],
   "source": [
    "print(\"accuracy {}%\".format(clf.score(x_test, y_test)*100))"
   ]
  },
  {
   "cell_type": "code",
   "execution_count": 137,
   "metadata": {},
   "outputs": [
    {
     "name": "stdout",
     "output_type": "stream",
     "text": [
      "              precision    recall  f1-score   support\n",
      "\n",
      "       False       1.00      1.00      1.00       390\n",
      "        True       0.99      1.00      1.00       142\n",
      "\n",
      "   micro avg       1.00      1.00      1.00       532\n",
      "   macro avg       1.00      1.00      1.00       532\n",
      "weighted avg       1.00      1.00      1.00       532\n",
      "\n"
     ]
    }
   ],
   "source": [
    "print(classification_report(y_test, clf.predict(x_test)))"
   ]
  },
  {
   "cell_type": "code",
   "execution_count": 140,
   "metadata": {},
   "outputs": [],
   "source": [
    "with open(\"./classifier.pickle\", 'wb') as f:\n",
    "    pickle.dump(clf, f)"
   ]
  },
  {
   "cell_type": "code",
   "execution_count": 142,
   "metadata": {},
   "outputs": [
    {
     "data": {
      "text/plain": [
       "array([ True])"
      ]
     },
     "execution_count": 142,
     "metadata": {},
     "output_type": "execute_result"
    }
   ],
   "source": [
    "clf.predict([[3.4]])"
   ]
  },
  {
   "cell_type": "code",
   "execution_count": null,
   "metadata": {},
   "outputs": [],
   "source": []
  }
 ],
 "metadata": {
  "kernelspec": {
   "display_name": "Python 3",
   "language": "python",
   "name": "python3"
  },
  "language_info": {
   "codemirror_mode": {
    "name": "ipython",
    "version": 3
   },
   "file_extension": ".py",
   "mimetype": "text/x-python",
   "name": "python",
   "nbconvert_exporter": "python",
   "pygments_lexer": "ipython3",
   "version": "3.7.1"
  }
 },
 "nbformat": 4,
 "nbformat_minor": 2
}
