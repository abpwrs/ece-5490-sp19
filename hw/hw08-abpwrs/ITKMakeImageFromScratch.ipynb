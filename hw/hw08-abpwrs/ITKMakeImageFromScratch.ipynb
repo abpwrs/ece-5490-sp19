{
 "cells": [
  {
   "cell_type": "code",
   "execution_count": 1,
   "metadata": {
    "collapsed": true
   },
   "outputs": [],
   "source": [
    "import itk\n",
    "import numpy as np\n",
    "from itkwidgets import view\n",
    "%matplotlib inline"
   ]
  },
  {
   "cell_type": "code",
   "execution_count": 2,
   "metadata": {},
   "outputs": [
    {
     "name": "stdout",
     "output_type": "stream",
     "text": [
      "Help on function GetImageFromArray in module itkExtras:\n",
      "\n",
      "GetImageFromArray(arr, is_vector=False)\n",
      "    Get an ITK image from a Python array.\n",
      "\n"
     ]
    },
    {
     "data": {
      "text/plain": [
       "itkImagePython.itkImageUC3"
      ]
     },
     "execution_count": 2,
     "metadata": {},
     "output_type": "execute_result"
    }
   ],
   "source": [
    "help(itk.GetImageFromArray)\n",
    "itk.Image[itk.ctype('unsigned char'),3]"
   ]
  },
  {
   "cell_type": "code",
   "execution_count": 3,
   "metadata": {
    "collapsed": false
   },
   "outputs": [],
   "source": [
    "np_img = np.array([[0,0,0,0,0,0],\n",
    "                   [0,0,1,1,0,0],\n",
    "                   [0,0,1,1,0,0],\n",
    "                   [0,0,0,0,0,0]],dtype=np.uint8)\n",
    "image = itk.GetImageFromArray(np_img.astype(np.float32),is_vector=False)\n",
    "#image2 = itk.GetImageViewFromArray(np_img,is_vector=False)\n",
    "#print(image2)\n",
    "#print(np_img.dtype.type)"
   ]
  },
  {
   "cell_type": "code",
   "execution_count": 4,
   "metadata": {
    "collapsed": false
   },
   "outputs": [],
   "source": [
    "ImageType = itk.Image[itk.ctype('unsigned char'),3]\n",
    "image = ImageType.New()\n",
    "image.SetRegions([100,100,100])\n",
    "image.SetSpacing((1.0,1.0,1.0))\n",
    "image.Allocate()\n",
    "image.FillBuffer(128)"
   ]
  },
  {
   "cell_type": "code",
   "execution_count": 5,
   "metadata": {
    "collapsed": false
   },
   "outputs": [
    {
     "data": {
      "application/vnd.jupyter.widget-view+json": {
       "model_id": "47c31f13d28c4fd190c3d271339b707f",
       "version_major": 2,
       "version_minor": 0
      },
      "text/plain": [
       "Viewer(cmap='Grayscale', gradient_opacity=0.22, mode='y', rendered_image=<itkImagePython.itkImageUC3; proxy of…"
      ]
     },
     "metadata": {},
     "output_type": "display_data"
    }
   ],
   "source": [
    "for i in range(30,40):\n",
    "    for j in range(30,40):\n",
    "        for k in range(30,40):\n",
    "            image.SetPixel( [i,j,k] ,255 )\n",
    "\n",
    "view(image,\n",
    "     ui_collapsed=False, annotations=True, interpolation=True,  cmap='Grayscale',  \n",
    "     mode='y', shadow=True, slicing_planes=True, gradient_opacity=0.22, y = 35)"
   ]
  },
  {
   "cell_type": "code",
   "execution_count": null,
   "metadata": {},
   "outputs": [],
   "source": []
  }
 ],
 "metadata": {
  "kernelspec": {
   "display_name": "Python 3",
   "language": "python",
   "name": "python3"
  },
  "language_info": {
   "codemirror_mode": {
    "name": "ipython",
    "version": 3
   },
   "file_extension": ".py",
   "mimetype": "text/x-python",
   "name": "python",
   "nbconvert_exporter": "python",
   "pygments_lexer": "ipython3",
   "version": "3.6.7"
  }
 },
 "nbformat": 4,
 "nbformat_minor": 2
}
