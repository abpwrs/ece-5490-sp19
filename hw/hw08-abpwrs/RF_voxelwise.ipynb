{
 "cells": [
  {
   "cell_type": "markdown",
   "metadata": {},
   "source": [
    "# Random Forest Voxel-Wise Classification"
   ]
  },
  {
   "cell_type": "code",
   "execution_count": 1,
   "metadata": {},
   "outputs": [],
   "source": [
    "from sklearn.ensemble import RandomForestClassifier\n",
    "from HW8functions import Subject, HCPData, ModeKeys, Evaluator\n",
    "import numpy as np\n",
    "import pickle"
   ]
  },
  {
   "cell_type": "markdown",
   "metadata": {},
   "source": [
    "## The Features\n",
    "The features for randomforest will be \n",
    "* the t1 intensity at the pixel\n",
    "* the edge image intensity at the pixel\n",
    "* the mean value of the intensity image within radius 4\n",
    "* the mean value of the edge image within radius 4"
   ]
  },
  {
   "cell_type": "code",
   "execution_count": 2,
   "metadata": {},
   "outputs": [],
   "source": [
    "dataset = HCPData()"
   ]
  },
  {
   "cell_type": "code",
   "execution_count": 3,
   "metadata": {},
   "outputs": [
    {
     "name": "stdout",
     "output_type": "stream",
     "text": [
      "(2804208, 4)\n",
      "(5313968, 4)\n",
      "(8227302, 4)\n",
      "(10971846, 4)\n",
      "(13747729, 4)\n",
      "(16418833, 4)\n",
      "(19194716, 4)\n",
      "(22042748, 4)\n",
      "(24630380, 4)\n",
      "(27241100, 4)\n"
     ]
    }
   ],
   "source": [
    "subs = dataset.get_subjects(ModeKeys.TRAIN)\n",
    "features = np.empty((0,4))\n",
    "labels = np.empty((0,1))\n",
    "for sub in subs[:200][::20]:\n",
    "    feats, lbls = dataset.extract_engineered_features(sub, train=True)\n",
    "    features = np.vstack((features, feats[::3, :])) # only take every third sample\n",
    "    labels = np.vstack((labels, lbls[::3, :])) # only take every third sample\n",
    "    print(features.shape)\n",
    "\n",
    "    \n",
    "del feats\n",
    "del lbls"
   ]
  },
  {
   "cell_type": "code",
   "execution_count": 4,
   "metadata": {},
   "outputs": [],
   "source": [
    "labels = labels.ravel()"
   ]
  },
  {
   "cell_type": "markdown",
   "metadata": {},
   "source": [
    "## The Shapes"
   ]
  },
  {
   "cell_type": "code",
   "execution_count": 5,
   "metadata": {},
   "outputs": [
    {
     "name": "stdout",
     "output_type": "stream",
     "text": [
      "(27241100, 4) (27241100,)\n"
     ]
    }
   ],
   "source": [
    "print(features.shape, labels.shape)"
   ]
  },
  {
   "cell_type": "code",
   "execution_count": 6,
   "metadata": {},
   "outputs": [],
   "source": [
    "clf = RandomForestClassifier(\n",
    "    n_estimators=100,\n",
    "    n_jobs=-1,\n",
    "    verbose=2,\n",
    ")"
   ]
  },
  {
   "cell_type": "markdown",
   "metadata": {},
   "source": [
    "## Train the model"
   ]
  },
  {
   "cell_type": "code",
   "execution_count": 7,
   "metadata": {},
   "outputs": [
    {
     "name": "stderr",
     "output_type": "stream",
     "text": [
      "[Parallel(n_jobs=-1)]: Using backend ThreadingBackend with 12 concurrent workers.\n"
     ]
    },
    {
     "name": "stdout",
     "output_type": "stream",
     "text": [
      "building tree 3 of 100building tree 4 of 100building tree 5 of 100building tree 6 of 100building tree 2 of 100building tree 7 of 100building tree 8 of 100building tree 1 of 100building tree 9 of 100building tree 10 of 100building tree 11 of 100building tree 12 of 100\n",
      "\n",
      "\n",
      "\n",
      "\n",
      "\n",
      "\n",
      "\n",
      "\n",
      "\n",
      "\n",
      "\n",
      "building tree 13 of 100\n",
      "building tree 14 of 100\n",
      "building tree 15 of 100\n",
      "building tree 16 of 100\n",
      "building tree 17 of 100building tree 18 of 100\n",
      "\n",
      "building tree 20 of 100building tree 19 of 100\n",
      "\n",
      "building tree 21 of 100\n",
      "building tree 22 of 100\n",
      "building tree 23 of 100building tree 24 of 100\n",
      "\n",
      "building tree 25 of 100\n",
      "building tree 26 of 100\n",
      "building tree 27 of 100\n",
      "building tree 28 of 100\n",
      "building tree 29 of 100\n"
     ]
    },
    {
     "name": "stderr",
     "output_type": "stream",
     "text": [
      "[Parallel(n_jobs=-1)]: Done  17 tasks      | elapsed:  2.3min\n"
     ]
    },
    {
     "name": "stdout",
     "output_type": "stream",
     "text": [
      "building tree 30 of 100\n",
      "building tree 31 of 100\n",
      "building tree 32 of 100\n",
      "building tree 33 of 100\n",
      "building tree 34 of 100\n",
      "building tree 35 of 100\n",
      "building tree 36 of 100\n",
      "building tree 37 of 100\n",
      "building tree 38 of 100\n",
      "building tree 39 of 100\n",
      "building tree 40 of 100\n",
      "building tree 41 of 100\n",
      "building tree 42 of 100\n",
      "building tree 43 of 100\n",
      "building tree 44 of 100\n",
      "building tree 45 of 100\n",
      "building tree 46 of 100\n",
      "building tree 47 of 100\n",
      "building tree 48 of 100\n",
      "building tree 49 of 100\n",
      "building tree 50 of 100\n",
      "building tree 51 of 100\n",
      "building tree 52 of 100\n",
      "building tree 53 of 100\n",
      "building tree 54 of 100\n",
      "building tree 55 of 100\n",
      "building tree 56 of 100\n",
      "building tree 57 of 100\n",
      "building tree 58 of 100\n",
      "building tree 59 of 100\n",
      "building tree 60 of 100\n",
      "building tree 61 of 100\n",
      "building tree 62 of 100\n",
      "building tree 63 of 100\n",
      "building tree 64 of 100\n",
      "building tree 65 of 100\n",
      "building tree 66 of 100\n",
      "building tree 67 of 100\n",
      "building tree 68 of 100\n",
      "building tree 69 of 100\n",
      "building tree 70 of 100\n",
      "building tree 71 of 100\n",
      "building tree 72 of 100\n",
      "building tree 73 of 100\n",
      "building tree 74 of 100\n",
      "building tree 75 of 100\n",
      "building tree 76 of 100building tree 77 of 100\n",
      "\n",
      "building tree 78 of 100\n",
      "building tree 79 of 100\n",
      "building tree 80 of 100\n",
      "building tree 81 of 100\n",
      "building tree 82 of 100\n",
      "building tree 83 of 100\n",
      "building tree 84 of 100\n",
      "building tree 85 of 100\n",
      "building tree 86 of 100\n",
      "building tree 87 of 100\n",
      "building tree 88 of 100\n",
      "building tree 89 of 100\n",
      "building tree 90 of 100\n",
      "building tree 91 of 100\n",
      "building tree 92 of 100\n",
      "building tree 93 of 100\n",
      "building tree 94 of 100\n",
      "building tree 95 of 100\n",
      "building tree 96 of 100\n",
      "building tree 97 of 100\n",
      "building tree 98 of 100\n",
      "building tree 99 of 100\n",
      "building tree 100 of 100\n"
     ]
    },
    {
     "name": "stderr",
     "output_type": "stream",
     "text": [
      "[Parallel(n_jobs=-1)]: Done 100 out of 100 | elapsed:  9.9min finished\n"
     ]
    },
    {
     "data": {
      "text/plain": [
       "RandomForestClassifier(bootstrap=True, class_weight=None, criterion='gini',\n",
       "            max_depth=None, max_features='auto', max_leaf_nodes=None,\n",
       "            min_impurity_decrease=0.0, min_impurity_split=None,\n",
       "            min_samples_leaf=1, min_samples_split=2,\n",
       "            min_weight_fraction_leaf=0.0, n_estimators=100, n_jobs=-1,\n",
       "            oob_score=False, random_state=None, verbose=2,\n",
       "            warm_start=False)"
      ]
     },
     "execution_count": 7,
     "metadata": {},
     "output_type": "execute_result"
    }
   ],
   "source": [
    "clf.fit(features, labels)"
   ]
  },
  {
   "cell_type": "markdown",
   "metadata": {},
   "source": [
    "## The Validation\n",
    "I chose to validate on only 5 dataset because it was faster, and I'm not going to see alot of variance at the voxel level"
   ]
  },
  {
   "cell_type": "code",
   "execution_count": 8,
   "metadata": {},
   "outputs": [
    {
     "name": "stdout",
     "output_type": "stream",
     "text": [
      "(0, 4) (0, 1)\n",
      "(8006208, 4) (8006208, 1)\n",
      "(8006208, 4)\n",
      "(8006208, 1)\n",
      "(7074432, 4) (7074432, 1)\n",
      "(15080640, 4)\n",
      "(15080640, 1)\n",
      "(7871520, 4) (7871520, 1)\n",
      "(22952160, 4)\n",
      "(22952160, 1)\n",
      "(7116928, 4) (7116928, 1)\n",
      "(30069088, 4)\n",
      "(30069088, 1)\n",
      "(8426880, 4) (8426880, 1)\n",
      "(38495968, 4)\n",
      "(38495968, 1)\n"
     ]
    }
   ],
   "source": [
    "subs = dataset.get_subjects(ModeKeys.TEST)\n",
    "features = np.empty((0,4))\n",
    "labels = np.empty((0,1))\n",
    "print(features.shape, labels.shape)\n",
    "for sub in subs[:5]:\n",
    "    feats, lbls = dataset.extract_engineered_features(sub, train=True)\n",
    "    print(feats.shape, lbls.shape)\n",
    "    features = np.vstack((features, feats[:, :])) # only take every fifth sample\n",
    "    labels = np.vstack((labels, lbls[:, :])) # only take every fifth sample\n",
    "    print(features.shape)\n",
    "    print(labels.shape)\n",
    "    assert(len(features) == len(labels))\n",
    "    "
   ]
  },
  {
   "cell_type": "code",
   "execution_count": 9,
   "metadata": {},
   "outputs": [
    {
     "name": "stderr",
     "output_type": "stream",
     "text": [
      "[Parallel(n_jobs=12)]: Using backend ThreadingBackend with 12 concurrent workers.\n",
      "[Parallel(n_jobs=12)]: Done  17 tasks      | elapsed:   16.6s\n",
      "[Parallel(n_jobs=12)]: Done 100 out of 100 | elapsed:  1.2min finished\n"
     ]
    }
   ],
   "source": [
    "prediction = clf.predict(features)"
   ]
  },
  {
   "cell_type": "code",
   "execution_count": 10,
   "metadata": {},
   "outputs": [],
   "source": [
    "prediction = np.round(prediction).astype(np.uint8)\n",
    "labels = labels.astype(np.uint8)"
   ]
  },
  {
   "cell_type": "markdown",
   "metadata": {},
   "source": [
    "## sklearn classification report\n",
    "Note the poor recall on CSF tissues"
   ]
  },
  {
   "cell_type": "code",
   "execution_count": 11,
   "metadata": {},
   "outputs": [
    {
     "name": "stdout",
     "output_type": "stream",
     "text": [
      "              precision    recall  f1-score   support\n",
      "\n",
      "           0       0.92      0.96      0.94  30862612\n",
      "           1       0.70      0.61      0.65   3879387\n",
      "           2       0.78      0.80      0.79   2356712\n",
      "           3       0.58      0.20      0.29   1397257\n",
      "\n",
      "   micro avg       0.89      0.89      0.89  38495968\n",
      "   macro avg       0.75      0.64      0.67  38495968\n",
      "weighted avg       0.88      0.89      0.88  38495968\n",
      "\n"
     ]
    }
   ],
   "source": [
    "print(Evaluator.classification_report(labels, prediction))"
   ]
  },
  {
   "cell_type": "markdown",
   "metadata": {},
   "source": [
    "## sklearn confusion matrix\n",
    "we can now see that our algorithm is confusing the background with csf, because both of them are very dark in these t1 images "
   ]
  },
  {
   "cell_type": "code",
   "execution_count": 12,
   "metadata": {},
   "outputs": [
    {
     "name": "stdout",
     "output_type": "stream",
     "text": [
      "Normalized confusion matrix\n",
      "[[9.62985246e-01 2.28690624e-02 8.38328266e-03 5.76240922e-03]\n",
      " [3.08065682e-01 6.14428517e-01 7.30924757e-02 4.41332613e-03]\n",
      " [9.13314822e-02 1.12588640e-01 7.96079029e-01 8.48639970e-07]\n",
      " [7.60451370e-01 4.32325621e-02 6.94217313e-05 1.96246646e-01]]\n"
     ]
    },
    {
     "data": {
      "text/plain": [
       "<matplotlib.axes._subplots.AxesSubplot at 0x7fef3d21b860>"
      ]
     },
     "execution_count": 12,
     "metadata": {},
     "output_type": "execute_result"
    },
    {
     "data": {
      "image/png": "[encoded data removed]",
      "text/plain": [
       "<matplotlib.figure.Figure at 0x7fef3d21beb8>"
      ]
     },
     "metadata": {},
     "output_type": "display_data"
    }
   ],
   "source": [
    "%matplotlib inline\n",
    "Evaluator.plot_confusion_matrix(labels.ravel(), prediction, np.array(['bg','gm','wm','csf']), normalize=True, title=\"Brain Tissue Classification\")"
   ]
  },
  {
   "cell_type": "markdown",
   "metadata": {},
   "source": [
    "## pickle the model for later use"
   ]
  },
  {
   "cell_type": "code",
   "execution_count": 13,
   "metadata": {},
   "outputs": [],
   "source": [
    "with open('RF.pickle', 'wb') as f:\n",
    "    pickle.dump(clf, f)"
   ]
  },
  {
   "cell_type": "code",
   "execution_count": 14,
   "metadata": {},
   "outputs": [
    {
     "name": "stdout",
     "output_type": "stream",
     "text": [
      "DONE\n"
     ]
    }
   ],
   "source": [
    "print(\"DONE\")"
   ]
  },
  {
   "cell_type": "code",
   "execution_count": null,
   "metadata": {},
   "outputs": [],
   "source": []
  },
  {
   "cell_type": "code",
   "execution_count": null,
   "metadata": {},
   "outputs": [],
   "source": []
  }
 ],
 "metadata": {
  "kernelspec": {
   "display_name": "Python 3",
   "language": "python",
   "name": "python3"
  },
  "language_info": {
   "codemirror_mode": {
    "name": "ipython",
    "version": 3
   },
   "file_extension": ".py",
   "mimetype": "text/x-python",
   "name": "python",
   "nbconvert_exporter": "python",
   "pygments_lexer": "ipython3",
   "version": "3.6.5"
  }
 },
 "nbformat": 4,
 "nbformat_minor": 2
}
