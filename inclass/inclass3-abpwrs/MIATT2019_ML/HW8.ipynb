{
 "cells": [
  {
   "cell_type": "markdown",
   "metadata": {},
   "source": [
    "# Final Homework & In Class Assignment \n",
    "### This will be graded as a homework assignment, Due May 3, 2019 at 11:59pm\n",
    "\n",
    "Over the next 4 lectures you will develop a machine learning algorithm to\n",
    "classify Gray, White and CSF segmentatoin maps from t1 and t2 weighted images.\n",
    "\n",
    "This assignment is an extension of the MIATT_INCLASS work that we have been performing over the past several lectures. Your challenge is to develop a medical imaging machine learning algorithm to segment brains into gray, white, and csf segmentations.  A segmentation image is one where values greater to 0.5 are considered to be part of the segmentation, and values less or equal to 0.5 are not part of the segmentation.\n",
    "\n",
    "The files `HW8.ipynb` and `HW8functions.py` should be placed in your `inclass3-abpwrs/MIATT2019_ML` directory\n",
    "\n",
    "## GRADING:\n",
    "\n",
    "| Points  | Description           |\n",
    "|---------|-----------------------|\n",
    "| 60      | The documentation that describes why and what you are attempting to do |\n",
    "| 15      | Employing reproducable science techniques |\n",
    "| 10      | Quality of the segmentations on the hidden data sets |\n",
    "| 15      | Quality of the analytics used to evaluate the intermediate results |\n",
    "| | |\n",
    "| 33 | Extra credit for the best solutions |\n",
    "| 20 | Extra credit for the second best solutions |\n",
    "| 10 | Extra credit for the third place best solutions |\n",
    "\n",
    "There will be at least 3 extra credit prizes given to the best solutions.\n",
    "\n",
    "\n",
    "## Data\n",
    "\n",
    "A large data set has been organized in '/nfsscratch/opt/ece5490/data/MIATT_EYES' (This is too large to download)\n",
    "\n",
    "Within this directory there are subjectories named with a 4 digit subject identifier, followed by a session directory indicating the when the scan was collected (always '_hcpy1' in this assignment).\n",
    "\n",
    "| Image data paths for subject 0144 |\n",
    "|------------------------------------|\n",
    "|0144/0144_hcpy1/ACPCAlign/BCD_ACPC_Landmarks.fcsv|\n",
    "|0144/0144_hcpy1/ACPCAlign/Cropped_BCD_ACPC_Aligned.nii.gz|\n",
    "|0144/0144_hcpy1/ACCUMULATED_POSTERIORS/POSTERIOR_BACKGROUND_TOTAL.nii.gz|\n",
    "|0144/0144_hcpy1/ACCUMULATED_POSTERIORS/POSTERIOR_CSF_TOTAL.nii.gz|\n",
    "|0144/0144_hcpy1/ACCUMULATED_POSTERIORS/POSTERIOR_GLOBUS_TOTAL.nii.gz|\n",
    "|0144/0144_hcpy1/ACCUMULATED_POSTERIORS/POSTERIOR_GM_TOTAL.nii.gz|\n",
    "|0144/0144_hcpy1/ACCUMULATED_POSTERIORS/POSTERIOR_VB_TOTAL.nii.gz|\n",
    "|0144/0144_hcpy1/ACCUMULATED_POSTERIORS/POSTERIOR_WM_TOTAL.nii.gz|\n",
    "|0144/0144_hcpy1/TissueClassify/t1_average_BRAINSABC.nii.gz|\n",
    "|0144/0144_hcpy1/TissueClassify/t2_average_BRAINSABC.nii.gz|\n",
    "\n",
    "\n",
    "The data shall be partitioned into the following sets:\n",
    "\n",
    "| Image Range   | Description     |\n",
    "| ------------- | -------------   |\n",
    "| 0001 - 0100   | Hidden Tests    (You won't have access to these until class on May 2nd, they will be used for grading)  |\n",
    "| 0101 - 0200   | Test Data       (Used for testing your models before submission)|\n",
    "| 0201 - 0300   | Validation Data (Used for validating your models during training)|\n",
    "| 0301 - 0804   | Trainging Data  (Used for training your models) |\n",
    "\n"
   ]
  },
  {
   "cell_type": "markdown",
   "metadata": {},
   "source": [
    "## My model does not fit inside of a git repo, run the command below to download it."
   ]
  },
  {
   "cell_type": "code",
   "execution_count": 3,
   "metadata": {},
   "outputs": [
    {
     "name": "stdout",
     "output_type": "stream",
     "text": [
      "  % Total    % Received % Xferd  Average Speed   Time    Time     Time  Current\n",
      "                                 Dload  Upload   Total   Spent    Left  Speed\n",
      "100  534M  100  534M    0     0   112M      0  0:00:04  0:00:04 --:--:--  112M\n"
     ]
    }
   ],
   "source": [
    "!curl http://user.engineering.uiowa.edu/~abpwrs/RF.pickle -o RF.pickle"
   ]
  },
  {
   "cell_type": "markdown",
   "metadata": {},
   "source": [
    "## My Approach"
   ]
  },
  {
   "cell_type": "markdown",
   "metadata": {},
   "source": [
    "I treated this as a classification problem and **NOT** a regression problem.\n",
    "\n",
    "\n",
    "\n",
    "My first attempt was a fully convolutional neural network consisting of 5 convolutional layers. I set the padding to `same` so that the image size wouldn't decrease with each `Conv3D`. I also used `Dropout` in an attempt to avoid overfitting of my model. I initially thought this model performed okay, but when I attempted to replicate the inference phase, I ran into lots of issues of inconsistent classifications and model loading failures. This model is **NOT** used for the inference below. You are welcome to look at the [STRAIGHT_CONV.ipynb](./STRAIGHT_CONV.ipynb), but it is a mess of me debugging the reproducibility error... This attempt is included to record my work on this hw.\n",
    "\n",
    "\n",
    "\n",
    "My second attempt was a pretty traditional feature engineering approach. I selected features (t1 pixel intensity, t1 neighborhood avg, edge image pixel intensity, edge image neighborhood avg). I then trained a random forest model on these engineered features. The code for this classifier training validation and saving can be found in [RF_voxelwise.ipynb](./RF_voxelwise.ipynb)."
   ]
  },
  {
   "cell_type": "markdown",
   "metadata": {},
   "source": [
    "## Label Mask Generation"
   ]
  },
  {
   "cell_type": "markdown",
   "metadata": {},
   "source": [
    "The label mask is a 3D image of the same size, spacing, direction, and origin as the origional images, but each pixel intensity represents a class of tissue.     \n",
    "I arbitrarily chose the following scalars to represent each tissue class:\n",
    "```text\n",
    "background -> 0\n",
    "gm -> 1\n",
    "wm -> 2\n",
    "csf -> 3                \n",
    "```\n",
    "\n",
    "I created a `get_label_mask` method for my `Subject` class, so that retrieving the label mask would feel natural and be very intuitive (the same as `get_t1_image`).       \n",
    "Below is the method I used to generate a label mask from probability masks:   \n",
    "```python\n",
    "# generate a label mask of the image based on the probabilities \n",
    "    def get_label_mask(self):\n",
    "        \"\"\"\n",
    "        OUTPUTS:\n",
    "            label_mask where\n",
    "                background -> 0\n",
    "                gm -> 1\n",
    "                wm -> 2\n",
    "                csf -> 3\n",
    "\n",
    "        Processing:\n",
    "            - highest probability wins the voxel\n",
    "            - background probability mask will be used to exclude extraneous labels\n",
    "        \"\"\"\n",
    "        # if the label mask as been computed, don't recompute\n",
    "        if self.label_mask:\n",
    "            return self.label_mask\n",
    "\n",
    "        # threshold of acceptable background probability\n",
    "        bg_thresh = 0.0001  # less that 1/100 % probability of background\n",
    "\n",
    "        # get numpy array versions of all probability masks as floating point\n",
    "        def get_im_as_float_arr(im):\n",
    "            return sitk.GetArrayFromImage(im).astype(np.float)\n",
    "        \n",
    "        gm = get_im_as_float_arr(self.get_gm_prob_mask())\n",
    "        wm = get_im_as_float_arr(self.get_wm_prob_mask())\n",
    "        csf = get_im_as_float_arr(self.get_csf_prob_mask())\n",
    "        bg = get_im_as_float_arr(self.get_bg_prob_mask())\n",
    "\n",
    "        # mask where grey matter has the highest probability\n",
    "        gm_mask = sitk.GetImageFromArray((gm > 0.5) * 1)\n",
    "        # gm has a label value of 1\n",
    "\n",
    "        # mask where white matter has the highest probability\n",
    "        wm_mask = sitk.GetImageFromArray((wm > 0.5) * 2)\n",
    "        # wm has a label value of 2\n",
    "\n",
    "        # mask where csf has the highest probability\n",
    "        csf_mask = sitk.GetImageFromArray((csf > 0.5) * 3)\n",
    "        # csf has a label value of 3\n",
    "\n",
    "        # copy over information using t1 image\n",
    "        t1_im = self.get_t1_image()\n",
    "        gm_mask.CopyInformation(t1_im)\n",
    "        wm_mask.CopyInformation(t1_im)\n",
    "        csf_mask.CopyInformation(t1_im)\n",
    "\n",
    "        # masks will not overlap because we created them based on the\n",
    "        # highest probability values\n",
    "        self.label_mask = sitk.Cast(gm_mask + wm_mask + csf_mask, sitk.sitkUInt8)\n",
    "        return self.label_mask\n",
    "```"
   ]
  },
  {
   "cell_type": "markdown",
   "metadata": {},
   "source": [
    "# First Attempt --> CNN w/ keras (reproducability failure)"
   ]
  },
  {
   "cell_type": "markdown",
   "metadata": {},
   "source": [
    "### The Model (purely convolutional network on the image level)\n",
    "``` text\n",
    "_________________________________________________________________\n",
    "Layer (type)                 Output Shape              Param #   \n",
    "=================================================================\n",
    "conv3d (Conv3D)              (None, 128, 128, 128, 32) 896       \n",
    "_________________________________________________________________\n",
    "conv3d_1 (Conv3D)            (None, 128, 128, 128, 32) 27680     \n",
    "_________________________________________________________________\n",
    "dropout (Dropout)            (None, 128, 128, 128, 32) 0         \n",
    "_________________________________________________________________\n",
    "conv3d_2 (Conv3D)            (None, 128, 128, 128, 32) 27680     \n",
    "_________________________________________________________________\n",
    "dropout_1 (Dropout)          (None, 128, 128, 128, 32) 0         \n",
    "_________________________________________________________________\n",
    "conv3d_3 (Conv3D)            (None, 128, 128, 128, 32) 27680     \n",
    "_________________________________________________________________\n",
    "dropout_2 (Dropout)          (None, 128, 128, 128, 32) 0         \n",
    "_________________________________________________________________\n",
    "conv3d_4 (Conv3D)            (None, 128, 128, 128, 1)  865       \n",
    "=================================================================\n",
    "Total params: 84,801\n",
    "Trainable params: 84,801\n",
    "Non-trainable params: 0\n",
    "_________________________________________________________________\n",
    "```\n",
    "\n",
    "### Issues I Ran Into\n",
    "* Memory Issues\n",
    "    * Can only load a limited number of images into RAM, which would force me to use a method that loads and cleans images right before the image is fed into the network.\n",
    "   \n",
    "* Reproducable science issues\n",
    "    * I noticed inconsistent segmentations for the same image across multiple runs\n",
    "    * The model also failed to load depending on the run\n",
    "    * The model also gave lots of `out of memory` errors when it was nowhere near it's RAM limits\n",
    "\n",
    "\n",
    "Due to these issues, I only used 100 images as my training data and 10 images as validation. In addition, this model is not used for my final classifcation, a much more naive sklearn model is used.\n",
    "    \n",
    "### Performance\n",
    "**THIS MODEL PERFORMED POORLY!!!!!**   \n",
    "**AS THIS IS NOT REPRODUCIBLE ALL PERFORMANCE METRICS SHOULD BE TAKEN WITH A GRAIN OF SALT.**       \n",
    "It \"achieved\" 87% validation accuracy during training without actually learning the segmentations.     \n",
    "Around the $ {68}^{th} $ iteration the model training hit an error and I got unexpected behavior that plateaued the loss and accuracy at relatively bad values. This is likely due to a weight getting set to zero or some other fault in the network weights.\n",
    "\n",
    "#### Loss (Mean Squared Error)\n",
    "![](./imgs/e-loss-miatt-hw8.png)\n",
    "![](./imgs/e-val-loss-miatt-hw8.png)\n",
    "\n",
    "#### Accuracy\n",
    "![](./imgs/e-acc-miatt-hw8.png)\n",
    "![](./imgs/e-val-acc-miatt-hw8.png)\n",
    "\n",
    "#### The Segmentation at Iteration 65 \n",
    "![](./imgs/STRAIGHT_CONV_RESULT.png)"
   ]
  },
  {
   "cell_type": "markdown",
   "metadata": {},
   "source": [
    "### Quantitative Analysis of CNN Segmentation\n",
    "These metrics however come from the **attempt** at reproducing these result. The reproductions labeled the majority of pixels as background, and I would image that this is what could have caused the flatline that I saw in my loss function above.\n",
    "     \n",
    "$$\n",
    "\\begin{bmatrix}\n",
    "label &       jaccard &          dice &  false\\_negative &  false\\_positive \\\\\n",
    "bg &  0.634772 &  0.776588 &        0.360939 &        0.010464 \\\\\n",
    "gm &  0.213391 &  0.351727 &        0.044455 &        0.784469 \\\\\n",
    "wm &  0.000648 &  0.001295 &        0.999218 &        0.996244 \\\\\n",
    "csf &  0.016420 &  0.032310 &        0.976966 &        0.945908 \\\\\n",
    "\\end{bmatrix}\n",
    "$$\n",
    "\n"
   ]
  },
  {
   "cell_type": "markdown",
   "metadata": {},
   "source": [
    " "
   ]
  },
  {
   "cell_type": "markdown",
   "metadata": {},
   "source": [
    "# Second Attempt --> sklearn RF classifier"
   ]
  },
  {
   "cell_type": "markdown",
   "metadata": {},
   "source": [
    "## Feature Engineering\n",
    "* single pixel t1 intensities\n",
    "* single pixel edge image intensities\n",
    "* scalar for the **average** of a radius 4 region of intensities\n",
    "* scalar for the **average** of a radius 4 region of edge image intensities\n",
    "\n",
    "NOTE: I wanted to do neighborhood extraction, but it wasn't going to work with my time management of other courses.\n",
    "\n",
    "\n",
    "## Expected Shapes\n",
    "#### x_train.shape = (n_samples, 4)\n",
    "#### y_train.shape = (n_samples, 1) --> These are not one hot encoded"
   ]
  },
  {
   "cell_type": "markdown",
   "metadata": {},
   "source": [
    "## Quantitative Analysis\n",
    "\n",
    "\n",
    "\n",
    "\n",
    "#### Confusion Matrix (single image)\n",
    "![](./imgs/rf_confusion_matrix.png)\n",
    "\n",
    "\n",
    "\n",
    "\n",
    "#### Classification Report (single image)\n",
    "![](./imgs/random_forest_clf_report.png)\n",
    "\n",
    "\n",
    "\n",
    "\n",
    "#### Metrics on All TEST Data\n",
    "$\n",
    "\\begin{bmatrix}\n",
    "label & jaccard & dice & false\\_negative & false\\_positive\\\\\n",
    "0 & 0.877616 & 0.934522 & 0.042732 & 0.086233 \\\\\n",
    "1 & 0.437436 & 0.592840 & 0.436986 & 0.368031 \\\\\n",
    "2 & 0.567557 & 0.694469 & 0.275988 & 0.295521 \\\\\n",
    "3 & 0.162507 & 0.275819 & 0.808682 & 0.464798 \\\\ \n",
    "\\end{bmatrix}\n",
    "$\n",
    "\n",
    "\n",
    "\n",
    "Plot of the above metrics: \n",
    "\n",
    "![](./imgs/all-test-data-metrics.png)\n",
    "\n",
    "### Interpretation of Quantitative results\n",
    "The CSF is commonly being confused for the background of the image. This could be improved by providing a neighborhood feature to give insight about csf location within the image. I could also do a binary classification on the background first and then do categorical classification on CSF, GM, WM.\n",
    "\n",
    "## Qualitative Analysis\n",
    "\n",
    "It's not bad. It isn't the quality of segmentation that I would want, but for just a random forest model on the voxel level it performs suprisingly well.   \n",
    "\n",
    "\n",
    "\n",
    "\n",
    "![](./imgs/qualitative-analysis-rf.png)"
   ]
  },
  {
   "cell_type": "markdown",
   "metadata": {},
   "source": [
    "# Future Considerations\n",
    "If this problem were to be continued further I would do the following things:\n",
    "* Histogram normalization across the entire dataset --> this would just be another preprocessing step\n",
    "* Fix the Deep Learning model loading issue. --> this would open doors to more complex Deep Learning models\n",
    "* Neighboorhood level feature extraction --> this would provide more spatial context to the traditional ML models\n",
    "* Hierarchical learning --> this could help fix my CSF misclassification by first classifying the background, which has both high precision and recall and then moving on to the CSF as a secondary segmentation"
   ]
  },
  {
   "cell_type": "code",
   "execution_count": 12,
   "metadata": {},
   "outputs": [],
   "source": [
    "# for auto-reloading external modules\n",
    "# see http://stackoverflow.com/questions/1907993/autoreload-of-modules-in-ipython\n",
    "%load_ext autoreload\n",
    "%autoreload 2"
   ]
  },
  {
   "cell_type": "code",
   "execution_count": 11,
   "metadata": {},
   "outputs": [
    {
     "name": "stderr",
     "output_type": "stream",
     "text": [
      "[Parallel(n_jobs=12)]: Using backend ThreadingBackend with 12 concurrent workers.\n",
      "[Parallel(n_jobs=12)]: Done  17 tasks      | elapsed:    3.9s\n",
      "[Parallel(n_jobs=12)]: Done 100 out of 100 | elapsed:   18.1s finished\n"
     ]
    }
   ],
   "source": [
    "import os\n",
    "import itk\n",
    "import glob\n",
    "import sys\n",
    "\n",
    "from itkwidgets import view\n",
    "import numpy as np\n",
    "\n",
    "from ipywidgets import interact, fixed\n",
    "from ipywidgets import interactive\n",
    "import ipywidgets as widgets\n",
    "import SimpleITK as sitk\n",
    "import pandas as pd\n",
    "from matplotlib import pyplot as plt\n",
    "\n",
    "# Place utility functions in the HW8functions.py file as you complete them\n",
    "# you may want to put them inline the in the notebook for initial testing\n",
    "# but only your HW8functions file will be used for final validation.\n",
    "from HW8functions import Subject, GLB_DATA_DIR, estimate_gray_white_csf, HCPData, ModeKeys, Evaluator, OverlapMeasures\n",
    "\n",
    "current_subject = Subject('0100')\n",
    "t1_fn = current_subject.get_t1_filename()\n",
    "t1_im = sitk.ReadImage(t1_fn, sitk.sitkFloat32)\n",
    "\n",
    "t2_fn = current_subject.get_t2_filename() \n",
    "t2_im = sitk.ReadImage(t1_fn, sitk.sitkFloat32)\n",
    "\n",
    "gray_matter_im, white_matter_im, csf_im = estimate_gray_white_csf(t1_im, t2_im)\n",
    "# sitk.WriteImage(t1_im,\"/tmp/t1.nii.gz\")\n",
    "# sitk.WriteImage(gray_matter_im,\"/tmp/gm.seg.nii.gz\")\n",
    "# sitk.WriteImage(white_matter_im,\"/tmp/wm.seg.nii.gz\")\n",
    "# sitk.WriteImage(csf_im,\"/tmp/csf.seg.nii.gz\")\n",
    "# sitk.WriteImage(((csf_im*3)+(white_matter_im*2)+(gray_matter_im*1)), \"/tmp/pred.seg.nii.gz\")"
   ]
  },
  {
   "cell_type": "code",
   "execution_count": 2,
   "metadata": {},
   "outputs": [
    {
     "name": "stdout",
     "output_type": "stream",
     "text": [
      "HCPData Overview:\n",
      "805 total subjects\n",
      "100 hidden test subjects\n",
      "100 test subjects\n",
      "100 validation subjects\n",
      "505 training subjects\n"
     ]
    }
   ],
   "source": [
    "dataset = HCPData()\n",
    "print(\"HCPData Overview:\")\n",
    "print(\"{0} total subjects\".format(len(dataset.get_subjects())))\n",
    "print(\"{0} hidden test subjects\".format(len(dataset.get_subjects(ModeKeys.HIDDEN_TEST))))\n",
    "print(\"{0} test subjects\".format(len(dataset.get_subjects(ModeKeys.TEST))))\n",
    "print(\"{0} validation subjects\".format(len(dataset.get_subjects(ModeKeys.VAL))))\n",
    "print(\"{0} training subjects\".format(len(dataset.get_subjects(ModeKeys.TRAIN))))"
   ]
  },
  {
   "cell_type": "code",
   "execution_count": 3,
   "metadata": {},
   "outputs": [
    {
     "data": {
      "image/png": "[encoded data removed]",
      "text/plain": [
       "<matplotlib.figure.Figure at 0x7ff4bea255c0>"
      ]
     },
     "metadata": {},
     "output_type": "display_data"
    }
   ],
   "source": [
    "Evaluator.display_with_overlay(image=t1_im,segs=[gray_matter_im, white_matter_im, csf_im], slice_number=100, segmentation_number=1)"
   ]
  },
  {
   "cell_type": "code",
   "execution_count": 4,
   "metadata": {},
   "outputs": [
    {
     "name": "stdout",
     "output_type": "stream",
     "text": [
      "\\begin{tabular}{lrrrr}\n",
      "\\toprule\n",
      "{} &   jaccard &      dice &  false\\_negative &  false\\_positive \\\\\n",
      "\\midrule\n",
      "0 &  0.905418 &  0.950362 &        0.030962 &        0.067609 \\\\\n",
      "1 &  0.471393 &  0.640744 &        0.443716 &        0.244557 \\\\\n",
      "2 &  0.597857 &  0.748323 &        0.113436 &        0.352622 \\\\\n",
      "3 &  0.172547 &  0.294312 &        0.804466 &        0.405227 \\\\\n",
      "\\bottomrule\n",
      "\\end{tabular}\n",
      "\n"
     ]
    },
    {
     "data": {
      "image/png": "[encoded data removed]",
      "text/plain": [
       "<matplotlib.figure.Figure at 0x7ff4ba7e7dd8>"
      ]
     },
     "metadata": {},
     "output_type": "display_data"
    },
    {
     "data": {
      "text/html": [
       "<div>\n",
       "<style scoped>\n",
       "    .dataframe tbody tr th:only-of-type {\n",
       "        vertical-align: middle;\n",
       "    }\n",
       "\n",
       "    .dataframe tbody tr th {\n",
       "        vertical-align: top;\n",
       "    }\n",
       "\n",
       "    .dataframe thead th {\n",
       "        text-align: right;\n",
       "    }\n",
       "</style>\n",
       "<table border=\"1\" class=\"dataframe\">\n",
       "  <thead>\n",
       "    <tr style=\"text-align: right;\">\n",
       "      <th></th>\n",
       "      <th>jaccard</th>\n",
       "      <th>dice</th>\n",
       "      <th>false_negative</th>\n",
       "      <th>false_positive</th>\n",
       "    </tr>\n",
       "  </thead>\n",
       "  <tbody>\n",
       "    <tr>\n",
       "      <th>0</th>\n",
       "      <td>0.905418</td>\n",
       "      <td>0.950362</td>\n",
       "      <td>0.030962</td>\n",
       "      <td>0.067609</td>\n",
       "    </tr>\n",
       "    <tr>\n",
       "      <th>1</th>\n",
       "      <td>0.471393</td>\n",
       "      <td>0.640744</td>\n",
       "      <td>0.443716</td>\n",
       "      <td>0.244557</td>\n",
       "    </tr>\n",
       "    <tr>\n",
       "      <th>2</th>\n",
       "      <td>0.597857</td>\n",
       "      <td>0.748323</td>\n",
       "      <td>0.113436</td>\n",
       "      <td>0.352622</td>\n",
       "    </tr>\n",
       "    <tr>\n",
       "      <th>3</th>\n",
       "      <td>0.172547</td>\n",
       "      <td>0.294312</td>\n",
       "      <td>0.804466</td>\n",
       "      <td>0.405227</td>\n",
       "    </tr>\n",
       "  </tbody>\n",
       "</table>\n",
       "</div>"
      ],
      "text/plain": [
       "    jaccard      dice  false_negative  false_positive\n",
       "0  0.905418  0.950362        0.030962        0.067609\n",
       "1  0.471393  0.640744        0.443716        0.244557\n",
       "2  0.597857  0.748323        0.113436        0.352622\n",
       "3  0.172547  0.294312        0.804466        0.405227"
      ]
     },
     "execution_count": 4,
     "metadata": {},
     "output_type": "execute_result"
    }
   ],
   "source": [
    "lbl_mask = current_subject.get_label_mask()\n",
    "background = ((gray_matter_im + white_matter_im + csf_im) < 1)\n",
    "preds = [background, gray_matter_im, white_matter_im, csf_im]\n",
    "ground_truth = [lbl_mask==0, lbl_mask==1,lbl_mask==2,lbl_mask==3]\n",
    "Evaluator.get_segmentation_stats(ground_truth_segmentations=ground_truth, predicted_segmentations=preds, graph=True, latex=True)"
   ]
  },
  {
   "cell_type": "markdown",
   "metadata": {},
   "source": [
    "## Compute Average of all metrics across all subjects"
   ]
  },
  {
   "cell_type": "code",
   "execution_count": 5,
   "metadata": {},
   "outputs": [
    {
     "name": "stdout",
     "output_type": "stream",
     "text": [
      "0.0%\n"
     ]
    },
    {
     "name": "stderr",
     "output_type": "stream",
     "text": [
      "[Parallel(n_jobs=12)]: Using backend ThreadingBackend with 12 concurrent workers.\n",
      "[Parallel(n_jobs=12)]: Done  17 tasks      | elapsed:    3.9s\n",
      "[Parallel(n_jobs=12)]: Done 100 out of 100 | elapsed:   18.6s finished\n"
     ]
    },
    {
     "name": "stdout",
     "output_type": "stream",
     "text": [
      "1.0%\n"
     ]
    },
    {
     "name": "stderr",
     "output_type": "stream",
     "text": [
      "[Parallel(n_jobs=12)]: Using backend ThreadingBackend with 12 concurrent workers.\n",
      "[Parallel(n_jobs=12)]: Done  17 tasks      | elapsed:    3.3s\n",
      "[Parallel(n_jobs=12)]: Done 100 out of 100 | elapsed:   16.1s finished\n"
     ]
    },
    {
     "name": "stdout",
     "output_type": "stream",
     "text": [
      "2.0%\n"
     ]
    },
    {
     "name": "stderr",
     "output_type": "stream",
     "text": [
      "[Parallel(n_jobs=12)]: Using backend ThreadingBackend with 12 concurrent workers.\n",
      "[Parallel(n_jobs=12)]: Done  17 tasks      | elapsed:    3.6s\n",
      "[Parallel(n_jobs=12)]: Done 100 out of 100 | elapsed:   17.0s finished\n"
     ]
    },
    {
     "name": "stdout",
     "output_type": "stream",
     "text": [
      "3.0%\n"
     ]
    },
    {
     "name": "stderr",
     "output_type": "stream",
     "text": [
      "[Parallel(n_jobs=12)]: Using backend ThreadingBackend with 12 concurrent workers.\n",
      "[Parallel(n_jobs=12)]: Done  17 tasks      | elapsed:    3.2s\n",
      "[Parallel(n_jobs=12)]: Done 100 out of 100 | elapsed:   15.6s finished\n"
     ]
    },
    {
     "name": "stdout",
     "output_type": "stream",
     "text": [
      "4.0%\n"
     ]
    },
    {
     "name": "stderr",
     "output_type": "stream",
     "text": [
      "[Parallel(n_jobs=12)]: Using backend ThreadingBackend with 12 concurrent workers.\n",
      "[Parallel(n_jobs=12)]: Done  17 tasks      | elapsed:    4.0s\n",
      "[Parallel(n_jobs=12)]: Done 100 out of 100 | elapsed:   19.1s finished\n"
     ]
    },
    {
     "name": "stdout",
     "output_type": "stream",
     "text": [
      "5.0%\n"
     ]
    },
    {
     "name": "stderr",
     "output_type": "stream",
     "text": [
      "[Parallel(n_jobs=12)]: Using backend ThreadingBackend with 12 concurrent workers.\n",
      "[Parallel(n_jobs=12)]: Done  17 tasks      | elapsed:    3.4s\n",
      "[Parallel(n_jobs=12)]: Done 100 out of 100 | elapsed:   15.9s finished\n"
     ]
    },
    {
     "name": "stdout",
     "output_type": "stream",
     "text": [
      "6.0%\n"
     ]
    },
    {
     "name": "stderr",
     "output_type": "stream",
     "text": [
      "[Parallel(n_jobs=12)]: Using backend ThreadingBackend with 12 concurrent workers.\n",
      "[Parallel(n_jobs=12)]: Done  17 tasks      | elapsed:    3.6s\n",
      "[Parallel(n_jobs=12)]: Done 100 out of 100 | elapsed:   17.2s finished\n"
     ]
    },
    {
     "name": "stdout",
     "output_type": "stream",
     "text": [
      "7.000000000000001%\n"
     ]
    },
    {
     "name": "stderr",
     "output_type": "stream",
     "text": [
      "[Parallel(n_jobs=12)]: Using backend ThreadingBackend with 12 concurrent workers.\n",
      "[Parallel(n_jobs=12)]: Done  17 tasks      | elapsed:    4.1s\n",
      "[Parallel(n_jobs=12)]: Done 100 out of 100 | elapsed:   18.8s finished\n"
     ]
    },
    {
     "name": "stdout",
     "output_type": "stream",
     "text": [
      "8.0%\n"
     ]
    },
    {
     "name": "stderr",
     "output_type": "stream",
     "text": [
      "[Parallel(n_jobs=12)]: Using backend ThreadingBackend with 12 concurrent workers.\n",
      "[Parallel(n_jobs=12)]: Done  17 tasks      | elapsed:    4.1s\n",
      "[Parallel(n_jobs=12)]: Done 100 out of 100 | elapsed:   19.1s finished\n"
     ]
    },
    {
     "name": "stdout",
     "output_type": "stream",
     "text": [
      "9.0%\n"
     ]
    },
    {
     "name": "stderr",
     "output_type": "stream",
     "text": [
      "[Parallel(n_jobs=12)]: Using backend ThreadingBackend with 12 concurrent workers.\n",
      "[Parallel(n_jobs=12)]: Done  17 tasks      | elapsed:    3.6s\n",
      "[Parallel(n_jobs=12)]: Done 100 out of 100 | elapsed:   16.8s finished\n"
     ]
    },
    {
     "name": "stdout",
     "output_type": "stream",
     "text": [
      "10.0%\n"
     ]
    },
    {
     "name": "stderr",
     "output_type": "stream",
     "text": [
      "[Parallel(n_jobs=12)]: Using backend ThreadingBackend with 12 concurrent workers.\n",
      "[Parallel(n_jobs=12)]: Done  17 tasks      | elapsed:    4.0s\n",
      "[Parallel(n_jobs=12)]: Done 100 out of 100 | elapsed:   18.2s finished\n"
     ]
    },
    {
     "name": "stdout",
     "output_type": "stream",
     "text": [
      "11.0%\n"
     ]
    },
    {
     "name": "stderr",
     "output_type": "stream",
     "text": [
      "[Parallel(n_jobs=12)]: Using backend ThreadingBackend with 12 concurrent workers.\n",
      "[Parallel(n_jobs=12)]: Done  17 tasks      | elapsed:    3.8s\n",
      "[Parallel(n_jobs=12)]: Done 100 out of 100 | elapsed:   17.8s finished\n"
     ]
    },
    {
     "name": "stdout",
     "output_type": "stream",
     "text": [
      "12.0%\n"
     ]
    },
    {
     "name": "stderr",
     "output_type": "stream",
     "text": [
      "[Parallel(n_jobs=12)]: Using backend ThreadingBackend with 12 concurrent workers.\n",
      "[Parallel(n_jobs=12)]: Done  17 tasks      | elapsed:    4.0s\n",
      "[Parallel(n_jobs=12)]: Done 100 out of 100 | elapsed:   18.8s finished\n"
     ]
    },
    {
     "name": "stdout",
     "output_type": "stream",
     "text": [
      "13.0%\n"
     ]
    },
    {
     "name": "stderr",
     "output_type": "stream",
     "text": [
      "[Parallel(n_jobs=12)]: Using backend ThreadingBackend with 12 concurrent workers.\n",
      "[Parallel(n_jobs=12)]: Done  17 tasks      | elapsed:    3.7s\n",
      "[Parallel(n_jobs=12)]: Done 100 out of 100 | elapsed:   17.5s finished\n"
     ]
    },
    {
     "name": "stdout",
     "output_type": "stream",
     "text": [
      "14.000000000000002%\n"
     ]
    },
    {
     "name": "stderr",
     "output_type": "stream",
     "text": [
      "[Parallel(n_jobs=12)]: Using backend ThreadingBackend with 12 concurrent workers.\n",
      "[Parallel(n_jobs=12)]: Done  17 tasks      | elapsed:    3.4s\n",
      "[Parallel(n_jobs=12)]: Done 100 out of 100 | elapsed:   15.8s finished\n"
     ]
    },
    {
     "name": "stdout",
     "output_type": "stream",
     "text": [
      "15.0%\n"
     ]
    },
    {
     "name": "stderr",
     "output_type": "stream",
     "text": [
      "[Parallel(n_jobs=12)]: Using backend ThreadingBackend with 12 concurrent workers.\n",
      "[Parallel(n_jobs=12)]: Done  17 tasks      | elapsed:    3.8s\n",
      "[Parallel(n_jobs=12)]: Done 100 out of 100 | elapsed:   18.1s finished\n"
     ]
    },
    {
     "name": "stdout",
     "output_type": "stream",
     "text": [
      "16.0%\n"
     ]
    },
    {
     "name": "stderr",
     "output_type": "stream",
     "text": [
      "[Parallel(n_jobs=12)]: Using backend ThreadingBackend with 12 concurrent workers.\n",
      "[Parallel(n_jobs=12)]: Done  17 tasks      | elapsed:    3.9s\n",
      "[Parallel(n_jobs=12)]: Done 100 out of 100 | elapsed:   17.6s finished\n"
     ]
    },
    {
     "name": "stdout",
     "output_type": "stream",
     "text": [
      "17.0%\n"
     ]
    },
    {
     "name": "stderr",
     "output_type": "stream",
     "text": [
      "[Parallel(n_jobs=12)]: Using backend ThreadingBackend with 12 concurrent workers.\n",
      "[Parallel(n_jobs=12)]: Done  17 tasks      | elapsed:    3.5s\n",
      "[Parallel(n_jobs=12)]: Done 100 out of 100 | elapsed:   16.6s finished\n"
     ]
    },
    {
     "name": "stdout",
     "output_type": "stream",
     "text": [
      "18.0%\n"
     ]
    },
    {
     "name": "stderr",
     "output_type": "stream",
     "text": [
      "[Parallel(n_jobs=12)]: Using backend ThreadingBackend with 12 concurrent workers.\n",
      "[Parallel(n_jobs=12)]: Done  17 tasks      | elapsed:    3.6s\n",
      "[Parallel(n_jobs=12)]: Done 100 out of 100 | elapsed:   17.5s finished\n"
     ]
    },
    {
     "name": "stdout",
     "output_type": "stream",
     "text": [
      "19.0%\n"
     ]
    },
    {
     "name": "stderr",
     "output_type": "stream",
     "text": [
      "[Parallel(n_jobs=12)]: Using backend ThreadingBackend with 12 concurrent workers.\n",
      "[Parallel(n_jobs=12)]: Done  17 tasks      | elapsed:    3.8s\n",
      "[Parallel(n_jobs=12)]: Done 100 out of 100 | elapsed:   17.9s finished\n"
     ]
    },
    {
     "name": "stdout",
     "output_type": "stream",
     "text": [
      "20.0%\n"
     ]
    },
    {
     "name": "stderr",
     "output_type": "stream",
     "text": [
      "[Parallel(n_jobs=12)]: Using backend ThreadingBackend with 12 concurrent workers.\n",
      "[Parallel(n_jobs=12)]: Done  17 tasks      | elapsed:    3.9s\n",
      "[Parallel(n_jobs=12)]: Done 100 out of 100 | elapsed:   18.4s finished\n"
     ]
    },
    {
     "name": "stdout",
     "output_type": "stream",
     "text": [
      "21.0%\n"
     ]
    },
    {
     "name": "stderr",
     "output_type": "stream",
     "text": [
      "[Parallel(n_jobs=12)]: Using backend ThreadingBackend with 12 concurrent workers.\n",
      "[Parallel(n_jobs=12)]: Done  17 tasks      | elapsed:    3.8s\n",
      "[Parallel(n_jobs=12)]: Done 100 out of 100 | elapsed:   17.7s finished\n"
     ]
    },
    {
     "name": "stdout",
     "output_type": "stream",
     "text": [
      "22.0%\n"
     ]
    },
    {
     "name": "stderr",
     "output_type": "stream",
     "text": [
      "[Parallel(n_jobs=12)]: Using backend ThreadingBackend with 12 concurrent workers.\n",
      "[Parallel(n_jobs=12)]: Done  17 tasks      | elapsed:    3.3s\n",
      "[Parallel(n_jobs=12)]: Done 100 out of 100 | elapsed:   15.9s finished\n"
     ]
    },
    {
     "name": "stdout",
     "output_type": "stream",
     "text": [
      "23.0%\n"
     ]
    },
    {
     "name": "stderr",
     "output_type": "stream",
     "text": [
      "[Parallel(n_jobs=12)]: Using backend ThreadingBackend with 12 concurrent workers.\n",
      "[Parallel(n_jobs=12)]: Done  17 tasks      | elapsed:    3.7s\n",
      "[Parallel(n_jobs=12)]: Done 100 out of 100 | elapsed:   17.8s finished\n"
     ]
    },
    {
     "name": "stdout",
     "output_type": "stream",
     "text": [
      "24.0%\n"
     ]
    },
    {
     "name": "stderr",
     "output_type": "stream",
     "text": [
      "[Parallel(n_jobs=12)]: Using backend ThreadingBackend with 12 concurrent workers.\n",
      "[Parallel(n_jobs=12)]: Done  17 tasks      | elapsed:    3.4s\n",
      "[Parallel(n_jobs=12)]: Done 100 out of 100 | elapsed:   16.5s finished\n"
     ]
    },
    {
     "name": "stdout",
     "output_type": "stream",
     "text": [
      "25.0%\n"
     ]
    },
    {
     "name": "stderr",
     "output_type": "stream",
     "text": [
      "[Parallel(n_jobs=12)]: Using backend ThreadingBackend with 12 concurrent workers.\n",
      "[Parallel(n_jobs=12)]: Done  17 tasks      | elapsed:    3.7s\n",
      "[Parallel(n_jobs=12)]: Done 100 out of 100 | elapsed:   17.4s finished\n"
     ]
    },
    {
     "name": "stdout",
     "output_type": "stream",
     "text": [
      "26.0%\n"
     ]
    },
    {
     "name": "stderr",
     "output_type": "stream",
     "text": [
      "[Parallel(n_jobs=12)]: Using backend ThreadingBackend with 12 concurrent workers.\n",
      "[Parallel(n_jobs=12)]: Done  17 tasks      | elapsed:    3.9s\n",
      "[Parallel(n_jobs=12)]: Done 100 out of 100 | elapsed:   18.6s finished\n"
     ]
    },
    {
     "name": "stdout",
     "output_type": "stream",
     "text": [
      "27.0%\n"
     ]
    },
    {
     "name": "stderr",
     "output_type": "stream",
     "text": [
      "[Parallel(n_jobs=12)]: Using backend ThreadingBackend with 12 concurrent workers.\n",
      "[Parallel(n_jobs=12)]: Done  17 tasks      | elapsed:    3.5s\n",
      "[Parallel(n_jobs=12)]: Done 100 out of 100 | elapsed:   16.5s finished\n"
     ]
    },
    {
     "name": "stdout",
     "output_type": "stream",
     "text": [
      "28.000000000000004%\n"
     ]
    },
    {
     "name": "stderr",
     "output_type": "stream",
     "text": [
      "[Parallel(n_jobs=12)]: Using backend ThreadingBackend with 12 concurrent workers.\n",
      "[Parallel(n_jobs=12)]: Done  17 tasks      | elapsed:    3.6s\n",
      "[Parallel(n_jobs=12)]: Done 100 out of 100 | elapsed:   17.4s finished\n"
     ]
    },
    {
     "name": "stdout",
     "output_type": "stream",
     "text": [
      "28.999999999999996%\n"
     ]
    },
    {
     "name": "stderr",
     "output_type": "stream",
     "text": [
      "[Parallel(n_jobs=12)]: Using backend ThreadingBackend with 12 concurrent workers.\n",
      "[Parallel(n_jobs=12)]: Done  17 tasks      | elapsed:    3.8s\n",
      "[Parallel(n_jobs=12)]: Done 100 out of 100 | elapsed:   18.3s finished\n"
     ]
    },
    {
     "name": "stdout",
     "output_type": "stream",
     "text": [
      "30.0%\n"
     ]
    },
    {
     "name": "stderr",
     "output_type": "stream",
     "text": [
      "[Parallel(n_jobs=12)]: Using backend ThreadingBackend with 12 concurrent workers.\n",
      "[Parallel(n_jobs=12)]: Done  17 tasks      | elapsed:    4.2s\n",
      "[Parallel(n_jobs=12)]: Done 100 out of 100 | elapsed:   18.9s finished\n"
     ]
    },
    {
     "name": "stdout",
     "output_type": "stream",
     "text": [
      "31.0%\n"
     ]
    },
    {
     "name": "stderr",
     "output_type": "stream",
     "text": [
      "[Parallel(n_jobs=12)]: Using backend ThreadingBackend with 12 concurrent workers.\n",
      "[Parallel(n_jobs=12)]: Done  17 tasks      | elapsed:    3.9s\n",
      "[Parallel(n_jobs=12)]: Done 100 out of 100 | elapsed:   18.2s finished\n"
     ]
    },
    {
     "name": "stdout",
     "output_type": "stream",
     "text": [
      "32.0%\n"
     ]
    },
    {
     "name": "stderr",
     "output_type": "stream",
     "text": [
      "[Parallel(n_jobs=12)]: Using backend ThreadingBackend with 12 concurrent workers.\n",
      "[Parallel(n_jobs=12)]: Done  17 tasks      | elapsed:    3.8s\n",
      "[Parallel(n_jobs=12)]: Done 100 out of 100 | elapsed:   18.0s finished\n"
     ]
    },
    {
     "name": "stdout",
     "output_type": "stream",
     "text": [
      "33.0%\n"
     ]
    },
    {
     "name": "stderr",
     "output_type": "stream",
     "text": [
      "[Parallel(n_jobs=12)]: Using backend ThreadingBackend with 12 concurrent workers.\n",
      "[Parallel(n_jobs=12)]: Done  17 tasks      | elapsed:    3.9s\n",
      "[Parallel(n_jobs=12)]: Done 100 out of 100 | elapsed:   18.1s finished\n"
     ]
    },
    {
     "name": "stdout",
     "output_type": "stream",
     "text": [
      "34.0%\n"
     ]
    },
    {
     "name": "stderr",
     "output_type": "stream",
     "text": [
      "[Parallel(n_jobs=12)]: Using backend ThreadingBackend with 12 concurrent workers.\n",
      "[Parallel(n_jobs=12)]: Done  17 tasks      | elapsed:    3.9s\n",
      "[Parallel(n_jobs=12)]: Done 100 out of 100 | elapsed:   18.5s finished\n"
     ]
    },
    {
     "name": "stdout",
     "output_type": "stream",
     "text": [
      "35.0%\n"
     ]
    },
    {
     "name": "stderr",
     "output_type": "stream",
     "text": [
      "[Parallel(n_jobs=12)]: Using backend ThreadingBackend with 12 concurrent workers.\n",
      "[Parallel(n_jobs=12)]: Done  17 tasks      | elapsed:    3.4s\n",
      "[Parallel(n_jobs=12)]: Done 100 out of 100 | elapsed:   16.7s finished\n"
     ]
    },
    {
     "name": "stdout",
     "output_type": "stream",
     "text": [
      "36.0%\n"
     ]
    },
    {
     "name": "stderr",
     "output_type": "stream",
     "text": [
      "[Parallel(n_jobs=12)]: Using backend ThreadingBackend with 12 concurrent workers.\n",
      "[Parallel(n_jobs=12)]: Done  17 tasks      | elapsed:    3.8s\n",
      "[Parallel(n_jobs=12)]: Done 100 out of 100 | elapsed:   17.9s finished\n"
     ]
    },
    {
     "name": "stdout",
     "output_type": "stream",
     "text": [
      "37.0%\n"
     ]
    },
    {
     "name": "stderr",
     "output_type": "stream",
     "text": [
      "[Parallel(n_jobs=12)]: Using backend ThreadingBackend with 12 concurrent workers.\n",
      "[Parallel(n_jobs=12)]: Done  17 tasks      | elapsed:    3.7s\n",
      "[Parallel(n_jobs=12)]: Done 100 out of 100 | elapsed:   18.2s finished\n"
     ]
    },
    {
     "name": "stdout",
     "output_type": "stream",
     "text": [
      "38.0%\n"
     ]
    },
    {
     "name": "stderr",
     "output_type": "stream",
     "text": [
      "[Parallel(n_jobs=12)]: Using backend ThreadingBackend with 12 concurrent workers.\n",
      "[Parallel(n_jobs=12)]: Done  17 tasks      | elapsed:    4.1s\n",
      "[Parallel(n_jobs=12)]: Done 100 out of 100 | elapsed:   18.9s finished\n"
     ]
    },
    {
     "name": "stdout",
     "output_type": "stream",
     "text": [
      "39.0%\n"
     ]
    },
    {
     "name": "stderr",
     "output_type": "stream",
     "text": [
      "[Parallel(n_jobs=12)]: Using backend ThreadingBackend with 12 concurrent workers.\n",
      "[Parallel(n_jobs=12)]: Done  17 tasks      | elapsed:    3.8s\n",
      "[Parallel(n_jobs=12)]: Done 100 out of 100 | elapsed:   18.4s finished\n"
     ]
    },
    {
     "name": "stdout",
     "output_type": "stream",
     "text": [
      "40.0%\n"
     ]
    },
    {
     "name": "stderr",
     "output_type": "stream",
     "text": [
      "[Parallel(n_jobs=12)]: Using backend ThreadingBackend with 12 concurrent workers.\n",
      "[Parallel(n_jobs=12)]: Done  17 tasks      | elapsed:    4.1s\n",
      "[Parallel(n_jobs=12)]: Done 100 out of 100 | elapsed:   19.2s finished\n"
     ]
    },
    {
     "name": "stdout",
     "output_type": "stream",
     "text": [
      "41.0%\n"
     ]
    },
    {
     "name": "stderr",
     "output_type": "stream",
     "text": [
      "[Parallel(n_jobs=12)]: Using backend ThreadingBackend with 12 concurrent workers.\n",
      "[Parallel(n_jobs=12)]: Done  17 tasks      | elapsed:    3.5s\n",
      "[Parallel(n_jobs=12)]: Done 100 out of 100 | elapsed:   16.6s finished\n"
     ]
    },
    {
     "name": "stdout",
     "output_type": "stream",
     "text": [
      "42.0%\n"
     ]
    },
    {
     "name": "stderr",
     "output_type": "stream",
     "text": [
      "[Parallel(n_jobs=12)]: Using backend ThreadingBackend with 12 concurrent workers.\n",
      "[Parallel(n_jobs=12)]: Done  17 tasks      | elapsed:    3.6s\n",
      "[Parallel(n_jobs=12)]: Done 100 out of 100 | elapsed:   17.4s finished\n"
     ]
    },
    {
     "name": "stdout",
     "output_type": "stream",
     "text": [
      "43.0%\n"
     ]
    },
    {
     "name": "stderr",
     "output_type": "stream",
     "text": [
      "[Parallel(n_jobs=12)]: Using backend ThreadingBackend with 12 concurrent workers.\n",
      "[Parallel(n_jobs=12)]: Done  17 tasks      | elapsed:    3.4s\n",
      "[Parallel(n_jobs=12)]: Done 100 out of 100 | elapsed:   16.4s finished\n"
     ]
    },
    {
     "name": "stdout",
     "output_type": "stream",
     "text": [
      "44.0%\n"
     ]
    },
    {
     "name": "stderr",
     "output_type": "stream",
     "text": [
      "[Parallel(n_jobs=12)]: Using backend ThreadingBackend with 12 concurrent workers.\n",
      "[Parallel(n_jobs=12)]: Done  17 tasks      | elapsed:    4.1s\n",
      "[Parallel(n_jobs=12)]: Done 100 out of 100 | elapsed:   19.2s finished\n"
     ]
    },
    {
     "name": "stdout",
     "output_type": "stream",
     "text": [
      "45.0%\n"
     ]
    },
    {
     "name": "stderr",
     "output_type": "stream",
     "text": [
      "[Parallel(n_jobs=12)]: Using backend ThreadingBackend with 12 concurrent workers.\n",
      "[Parallel(n_jobs=12)]: Done  17 tasks      | elapsed:    3.8s\n",
      "[Parallel(n_jobs=12)]: Done 100 out of 100 | elapsed:   17.7s finished\n"
     ]
    },
    {
     "name": "stdout",
     "output_type": "stream",
     "text": [
      "46.0%\n"
     ]
    },
    {
     "name": "stderr",
     "output_type": "stream",
     "text": [
      "[Parallel(n_jobs=12)]: Using backend ThreadingBackend with 12 concurrent workers.\n",
      "[Parallel(n_jobs=12)]: Done  17 tasks      | elapsed:    3.8s\n",
      "[Parallel(n_jobs=12)]: Done 100 out of 100 | elapsed:   18.4s finished\n"
     ]
    },
    {
     "name": "stdout",
     "output_type": "stream",
     "text": [
      "47.0%\n"
     ]
    },
    {
     "name": "stderr",
     "output_type": "stream",
     "text": [
      "[Parallel(n_jobs=12)]: Using backend ThreadingBackend with 12 concurrent workers.\n",
      "[Parallel(n_jobs=12)]: Done  17 tasks      | elapsed:    3.7s\n",
      "[Parallel(n_jobs=12)]: Done 100 out of 100 | elapsed:   17.2s finished\n"
     ]
    },
    {
     "name": "stdout",
     "output_type": "stream",
     "text": [
      "48.0%\n"
     ]
    },
    {
     "name": "stderr",
     "output_type": "stream",
     "text": [
      "[Parallel(n_jobs=12)]: Using backend ThreadingBackend with 12 concurrent workers.\n",
      "[Parallel(n_jobs=12)]: Done  17 tasks      | elapsed:    4.0s\n",
      "[Parallel(n_jobs=12)]: Done 100 out of 100 | elapsed:   18.7s finished\n"
     ]
    },
    {
     "name": "stdout",
     "output_type": "stream",
     "text": [
      "49.0%\n"
     ]
    },
    {
     "name": "stderr",
     "output_type": "stream",
     "text": [
      "[Parallel(n_jobs=12)]: Using backend ThreadingBackend with 12 concurrent workers.\n",
      "[Parallel(n_jobs=12)]: Done  17 tasks      | elapsed:    3.4s\n",
      "[Parallel(n_jobs=12)]: Done 100 out of 100 | elapsed:   16.3s finished\n"
     ]
    },
    {
     "name": "stdout",
     "output_type": "stream",
     "text": [
      "50.0%\n"
     ]
    },
    {
     "name": "stderr",
     "output_type": "stream",
     "text": [
      "[Parallel(n_jobs=12)]: Using backend ThreadingBackend with 12 concurrent workers.\n",
      "[Parallel(n_jobs=12)]: Done  17 tasks      | elapsed:    4.1s\n",
      "[Parallel(n_jobs=12)]: Done 100 out of 100 | elapsed:   18.7s finished\n"
     ]
    },
    {
     "name": "stdout",
     "output_type": "stream",
     "text": [
      "51.0%\n"
     ]
    },
    {
     "name": "stderr",
     "output_type": "stream",
     "text": [
      "[Parallel(n_jobs=12)]: Using backend ThreadingBackend with 12 concurrent workers.\n",
      "[Parallel(n_jobs=12)]: Done  17 tasks      | elapsed:    3.8s\n",
      "[Parallel(n_jobs=12)]: Done 100 out of 100 | elapsed:   17.8s finished\n"
     ]
    },
    {
     "name": "stdout",
     "output_type": "stream",
     "text": [
      "52.0%\n"
     ]
    },
    {
     "name": "stderr",
     "output_type": "stream",
     "text": [
      "[Parallel(n_jobs=12)]: Using backend ThreadingBackend with 12 concurrent workers.\n",
      "[Parallel(n_jobs=12)]: Done  17 tasks      | elapsed:    4.0s\n",
      "[Parallel(n_jobs=12)]: Done 100 out of 100 | elapsed:   18.6s finished\n"
     ]
    },
    {
     "name": "stdout",
     "output_type": "stream",
     "text": [
      "53.0%\n"
     ]
    },
    {
     "name": "stderr",
     "output_type": "stream",
     "text": [
      "[Parallel(n_jobs=12)]: Using backend ThreadingBackend with 12 concurrent workers.\n",
      "[Parallel(n_jobs=12)]: Done  17 tasks      | elapsed:    3.9s\n",
      "[Parallel(n_jobs=12)]: Done 100 out of 100 | elapsed:   18.3s finished\n"
     ]
    },
    {
     "name": "stdout",
     "output_type": "stream",
     "text": [
      "54.0%\n"
     ]
    },
    {
     "name": "stderr",
     "output_type": "stream",
     "text": [
      "[Parallel(n_jobs=12)]: Using backend ThreadingBackend with 12 concurrent workers.\n",
      "[Parallel(n_jobs=12)]: Done  17 tasks      | elapsed:    3.7s\n",
      "[Parallel(n_jobs=12)]: Done 100 out of 100 | elapsed:   18.0s finished\n"
     ]
    },
    {
     "name": "stdout",
     "output_type": "stream",
     "text": [
      "55.00000000000001%\n"
     ]
    },
    {
     "name": "stderr",
     "output_type": "stream",
     "text": [
      "[Parallel(n_jobs=12)]: Using backend ThreadingBackend with 12 concurrent workers.\n",
      "[Parallel(n_jobs=12)]: Done  17 tasks      | elapsed:    3.8s\n",
      "[Parallel(n_jobs=12)]: Done 100 out of 100 | elapsed:   18.1s finished\n"
     ]
    },
    {
     "name": "stdout",
     "output_type": "stream",
     "text": [
      "56.00000000000001%\n"
     ]
    },
    {
     "name": "stderr",
     "output_type": "stream",
     "text": [
      "[Parallel(n_jobs=12)]: Using backend ThreadingBackend with 12 concurrent workers.\n",
      "[Parallel(n_jobs=12)]: Done  17 tasks      | elapsed:    3.9s\n",
      "[Parallel(n_jobs=12)]: Done 100 out of 100 | elapsed:   18.4s finished\n"
     ]
    },
    {
     "name": "stdout",
     "output_type": "stream",
     "text": [
      "56.99999999999999%\n"
     ]
    },
    {
     "name": "stderr",
     "output_type": "stream",
     "text": [
      "[Parallel(n_jobs=12)]: Using backend ThreadingBackend with 12 concurrent workers.\n",
      "[Parallel(n_jobs=12)]: Done  17 tasks      | elapsed:    3.5s\n",
      "[Parallel(n_jobs=12)]: Done 100 out of 100 | elapsed:   16.7s finished\n"
     ]
    },
    {
     "name": "stdout",
     "output_type": "stream",
     "text": [
      "57.99999999999999%\n"
     ]
    },
    {
     "name": "stderr",
     "output_type": "stream",
     "text": [
      "[Parallel(n_jobs=12)]: Using backend ThreadingBackend with 12 concurrent workers.\n",
      "[Parallel(n_jobs=12)]: Done  17 tasks      | elapsed:    3.4s\n",
      "[Parallel(n_jobs=12)]: Done 100 out of 100 | elapsed:   16.2s finished\n"
     ]
    },
    {
     "name": "stdout",
     "output_type": "stream",
     "text": [
      "59.0%\n"
     ]
    },
    {
     "name": "stderr",
     "output_type": "stream",
     "text": [
      "[Parallel(n_jobs=12)]: Using backend ThreadingBackend with 12 concurrent workers.\n",
      "[Parallel(n_jobs=12)]: Done  17 tasks      | elapsed:    4.0s\n",
      "[Parallel(n_jobs=12)]: Done 100 out of 100 | elapsed:   18.8s finished\n"
     ]
    },
    {
     "name": "stdout",
     "output_type": "stream",
     "text": [
      "60.0%\n"
     ]
    },
    {
     "name": "stderr",
     "output_type": "stream",
     "text": [
      "[Parallel(n_jobs=12)]: Using backend ThreadingBackend with 12 concurrent workers.\n",
      "[Parallel(n_jobs=12)]: Done  17 tasks      | elapsed:    3.8s\n",
      "[Parallel(n_jobs=12)]: Done 100 out of 100 | elapsed:   17.9s finished\n"
     ]
    },
    {
     "name": "stdout",
     "output_type": "stream",
     "text": [
      "61.0%\n"
     ]
    },
    {
     "name": "stderr",
     "output_type": "stream",
     "text": [
      "[Parallel(n_jobs=12)]: Using backend ThreadingBackend with 12 concurrent workers.\n",
      "[Parallel(n_jobs=12)]: Done  17 tasks      | elapsed:    3.6s\n",
      "[Parallel(n_jobs=12)]: Done 100 out of 100 | elapsed:   17.1s finished\n"
     ]
    },
    {
     "name": "stdout",
     "output_type": "stream",
     "text": [
      "62.0%\n"
     ]
    },
    {
     "name": "stderr",
     "output_type": "stream",
     "text": [
      "[Parallel(n_jobs=12)]: Using backend ThreadingBackend with 12 concurrent workers.\n",
      "[Parallel(n_jobs=12)]: Done  17 tasks      | elapsed:    3.8s\n",
      "[Parallel(n_jobs=12)]: Done 100 out of 100 | elapsed:   17.6s finished\n"
     ]
    },
    {
     "name": "stdout",
     "output_type": "stream",
     "text": [
      "63.0%\n"
     ]
    },
    {
     "name": "stderr",
     "output_type": "stream",
     "text": [
      "[Parallel(n_jobs=12)]: Using backend ThreadingBackend with 12 concurrent workers.\n",
      "[Parallel(n_jobs=12)]: Done  17 tasks      | elapsed:    3.8s\n",
      "[Parallel(n_jobs=12)]: Done 100 out of 100 | elapsed:   17.8s finished\n"
     ]
    },
    {
     "name": "stdout",
     "output_type": "stream",
     "text": [
      "64.0%\n"
     ]
    },
    {
     "name": "stderr",
     "output_type": "stream",
     "text": [
      "[Parallel(n_jobs=12)]: Using backend ThreadingBackend with 12 concurrent workers.\n",
      "[Parallel(n_jobs=12)]: Done  17 tasks      | elapsed:    4.1s\n",
      "[Parallel(n_jobs=12)]: Done 100 out of 100 | elapsed:   19.0s finished\n"
     ]
    },
    {
     "name": "stdout",
     "output_type": "stream",
     "text": [
      "65.0%\n"
     ]
    },
    {
     "name": "stderr",
     "output_type": "stream",
     "text": [
      "[Parallel(n_jobs=12)]: Using backend ThreadingBackend with 12 concurrent workers.\n",
      "[Parallel(n_jobs=12)]: Done  17 tasks      | elapsed:    3.6s\n",
      "[Parallel(n_jobs=12)]: Done 100 out of 100 | elapsed:   16.9s finished\n"
     ]
    },
    {
     "name": "stdout",
     "output_type": "stream",
     "text": [
      "66.0%\n"
     ]
    },
    {
     "name": "stderr",
     "output_type": "stream",
     "text": [
      "[Parallel(n_jobs=12)]: Using backend ThreadingBackend with 12 concurrent workers.\n",
      "[Parallel(n_jobs=12)]: Done  17 tasks      | elapsed:    3.7s\n",
      "[Parallel(n_jobs=12)]: Done 100 out of 100 | elapsed:   17.6s finished\n"
     ]
    },
    {
     "name": "stdout",
     "output_type": "stream",
     "text": [
      "67.0%\n"
     ]
    },
    {
     "name": "stderr",
     "output_type": "stream",
     "text": [
      "[Parallel(n_jobs=12)]: Using backend ThreadingBackend with 12 concurrent workers.\n",
      "[Parallel(n_jobs=12)]: Done  17 tasks      | elapsed:    4.2s\n",
      "[Parallel(n_jobs=12)]: Done 100 out of 100 | elapsed:   19.8s finished\n"
     ]
    },
    {
     "name": "stdout",
     "output_type": "stream",
     "text": [
      "68.0%\n"
     ]
    },
    {
     "name": "stderr",
     "output_type": "stream",
     "text": [
      "[Parallel(n_jobs=12)]: Using backend ThreadingBackend with 12 concurrent workers.\n",
      "[Parallel(n_jobs=12)]: Done  17 tasks      | elapsed:    4.0s\n",
      "[Parallel(n_jobs=12)]: Done 100 out of 100 | elapsed:   18.9s finished\n"
     ]
    },
    {
     "name": "stdout",
     "output_type": "stream",
     "text": [
      "69.0%\n"
     ]
    },
    {
     "name": "stderr",
     "output_type": "stream",
     "text": [
      "[Parallel(n_jobs=12)]: Using backend ThreadingBackend with 12 concurrent workers.\n",
      "[Parallel(n_jobs=12)]: Done  17 tasks      | elapsed:    3.5s\n",
      "[Parallel(n_jobs=12)]: Done 100 out of 100 | elapsed:   16.6s finished\n"
     ]
    },
    {
     "name": "stdout",
     "output_type": "stream",
     "text": [
      "70.0%\n"
     ]
    },
    {
     "name": "stderr",
     "output_type": "stream",
     "text": [
      "[Parallel(n_jobs=12)]: Using backend ThreadingBackend with 12 concurrent workers.\n",
      "[Parallel(n_jobs=12)]: Done  17 tasks      | elapsed:    4.0s\n",
      "[Parallel(n_jobs=12)]: Done 100 out of 100 | elapsed:   19.1s finished\n"
     ]
    },
    {
     "name": "stdout",
     "output_type": "stream",
     "text": [
      "71.0%\n"
     ]
    },
    {
     "name": "stderr",
     "output_type": "stream",
     "text": [
      "[Parallel(n_jobs=12)]: Using backend ThreadingBackend with 12 concurrent workers.\n",
      "[Parallel(n_jobs=12)]: Done  17 tasks      | elapsed:    3.4s\n",
      "[Parallel(n_jobs=12)]: Done 100 out of 100 | elapsed:   16.6s finished\n"
     ]
    },
    {
     "name": "stdout",
     "output_type": "stream",
     "text": [
      "72.0%\n"
     ]
    },
    {
     "name": "stderr",
     "output_type": "stream",
     "text": [
      "[Parallel(n_jobs=12)]: Using backend ThreadingBackend with 12 concurrent workers.\n",
      "[Parallel(n_jobs=12)]: Done  17 tasks      | elapsed:    3.6s\n",
      "[Parallel(n_jobs=12)]: Done 100 out of 100 | elapsed:   17.1s finished\n"
     ]
    },
    {
     "name": "stdout",
     "output_type": "stream",
     "text": [
      "73.0%\n"
     ]
    },
    {
     "name": "stderr",
     "output_type": "stream",
     "text": [
      "[Parallel(n_jobs=12)]: Using backend ThreadingBackend with 12 concurrent workers.\n",
      "[Parallel(n_jobs=12)]: Done  17 tasks      | elapsed:    3.7s\n",
      "[Parallel(n_jobs=12)]: Done 100 out of 100 | elapsed:   17.3s finished\n"
     ]
    },
    {
     "name": "stdout",
     "output_type": "stream",
     "text": [
      "74.0%\n"
     ]
    },
    {
     "name": "stderr",
     "output_type": "stream",
     "text": [
      "[Parallel(n_jobs=12)]: Using backend ThreadingBackend with 12 concurrent workers.\n",
      "[Parallel(n_jobs=12)]: Done  17 tasks      | elapsed:    4.1s\n",
      "[Parallel(n_jobs=12)]: Done 100 out of 100 | elapsed:   19.1s finished\n"
     ]
    },
    {
     "name": "stdout",
     "output_type": "stream",
     "text": [
      "75.0%\n"
     ]
    },
    {
     "name": "stderr",
     "output_type": "stream",
     "text": [
      "[Parallel(n_jobs=12)]: Using backend ThreadingBackend with 12 concurrent workers.\n",
      "[Parallel(n_jobs=12)]: Done  17 tasks      | elapsed:    4.1s\n",
      "[Parallel(n_jobs=12)]: Done 100 out of 100 | elapsed:   18.9s finished\n"
     ]
    },
    {
     "name": "stdout",
     "output_type": "stream",
     "text": [
      "76.0%\n"
     ]
    },
    {
     "name": "stderr",
     "output_type": "stream",
     "text": [
      "[Parallel(n_jobs=12)]: Using backend ThreadingBackend with 12 concurrent workers.\n",
      "[Parallel(n_jobs=12)]: Done  17 tasks      | elapsed:    3.6s\n",
      "[Parallel(n_jobs=12)]: Done 100 out of 100 | elapsed:   17.5s finished\n"
     ]
    },
    {
     "name": "stdout",
     "output_type": "stream",
     "text": [
      "77.0%\n"
     ]
    },
    {
     "name": "stderr",
     "output_type": "stream",
     "text": [
      "[Parallel(n_jobs=12)]: Using backend ThreadingBackend with 12 concurrent workers.\n",
      "[Parallel(n_jobs=12)]: Done  17 tasks      | elapsed:    3.3s\n",
      "[Parallel(n_jobs=12)]: Done 100 out of 100 | elapsed:   15.6s finished\n"
     ]
    },
    {
     "name": "stdout",
     "output_type": "stream",
     "text": [
      "78.0%\n"
     ]
    },
    {
     "name": "stderr",
     "output_type": "stream",
     "text": [
      "[Parallel(n_jobs=12)]: Using backend ThreadingBackend with 12 concurrent workers.\n",
      "[Parallel(n_jobs=12)]: Done  17 tasks      | elapsed:    3.5s\n",
      "[Parallel(n_jobs=12)]: Done 100 out of 100 | elapsed:   16.8s finished\n"
     ]
    },
    {
     "name": "stdout",
     "output_type": "stream",
     "text": [
      "79.0%\n"
     ]
    },
    {
     "name": "stderr",
     "output_type": "stream",
     "text": [
      "[Parallel(n_jobs=12)]: Using backend ThreadingBackend with 12 concurrent workers.\n",
      "[Parallel(n_jobs=12)]: Done  17 tasks      | elapsed:    3.4s\n",
      "[Parallel(n_jobs=12)]: Done 100 out of 100 | elapsed:   16.3s finished\n"
     ]
    },
    {
     "name": "stdout",
     "output_type": "stream",
     "text": [
      "80.0%\n"
     ]
    },
    {
     "name": "stderr",
     "output_type": "stream",
     "text": [
      "[Parallel(n_jobs=12)]: Using backend ThreadingBackend with 12 concurrent workers.\n",
      "[Parallel(n_jobs=12)]: Done  17 tasks      | elapsed:    3.6s\n",
      "[Parallel(n_jobs=12)]: Done 100 out of 100 | elapsed:   17.3s finished\n"
     ]
    },
    {
     "name": "stdout",
     "output_type": "stream",
     "text": [
      "81.0%\n"
     ]
    },
    {
     "name": "stderr",
     "output_type": "stream",
     "text": [
      "[Parallel(n_jobs=12)]: Using backend ThreadingBackend with 12 concurrent workers.\n",
      "[Parallel(n_jobs=12)]: Done  17 tasks      | elapsed:    3.9s\n",
      "[Parallel(n_jobs=12)]: Done 100 out of 100 | elapsed:   18.1s finished\n"
     ]
    },
    {
     "name": "stdout",
     "output_type": "stream",
     "text": [
      "82.0%\n"
     ]
    },
    {
     "name": "stderr",
     "output_type": "stream",
     "text": [
      "[Parallel(n_jobs=12)]: Using backend ThreadingBackend with 12 concurrent workers.\n",
      "[Parallel(n_jobs=12)]: Done  17 tasks      | elapsed:    3.9s\n",
      "[Parallel(n_jobs=12)]: Done 100 out of 100 | elapsed:   18.4s finished\n"
     ]
    },
    {
     "name": "stdout",
     "output_type": "stream",
     "text": [
      "83.0%\n"
     ]
    },
    {
     "name": "stderr",
     "output_type": "stream",
     "text": [
      "[Parallel(n_jobs=12)]: Using backend ThreadingBackend with 12 concurrent workers.\n",
      "[Parallel(n_jobs=12)]: Done  17 tasks      | elapsed:    3.7s\n",
      "[Parallel(n_jobs=12)]: Done 100 out of 100 | elapsed:   17.6s finished\n"
     ]
    },
    {
     "name": "stdout",
     "output_type": "stream",
     "text": [
      "84.0%\n"
     ]
    },
    {
     "name": "stderr",
     "output_type": "stream",
     "text": [
      "[Parallel(n_jobs=12)]: Using backend ThreadingBackend with 12 concurrent workers.\n",
      "[Parallel(n_jobs=12)]: Done  17 tasks      | elapsed:    3.3s\n",
      "[Parallel(n_jobs=12)]: Done 100 out of 100 | elapsed:   15.9s finished\n"
     ]
    },
    {
     "name": "stdout",
     "output_type": "stream",
     "text": [
      "85.0%\n"
     ]
    },
    {
     "name": "stderr",
     "output_type": "stream",
     "text": [
      "[Parallel(n_jobs=12)]: Using backend ThreadingBackend with 12 concurrent workers.\n",
      "[Parallel(n_jobs=12)]: Done  17 tasks      | elapsed:    3.9s\n",
      "[Parallel(n_jobs=12)]: Done 100 out of 100 | elapsed:   18.4s finished\n"
     ]
    },
    {
     "name": "stdout",
     "output_type": "stream",
     "text": [
      "86.0%\n"
     ]
    },
    {
     "name": "stderr",
     "output_type": "stream",
     "text": [
      "[Parallel(n_jobs=12)]: Using backend ThreadingBackend with 12 concurrent workers.\n",
      "[Parallel(n_jobs=12)]: Done  17 tasks      | elapsed:    3.9s\n",
      "[Parallel(n_jobs=12)]: Done 100 out of 100 | elapsed:   18.3s finished\n"
     ]
    },
    {
     "name": "stdout",
     "output_type": "stream",
     "text": [
      "87.0%\n"
     ]
    },
    {
     "name": "stderr",
     "output_type": "stream",
     "text": [
      "[Parallel(n_jobs=12)]: Using backend ThreadingBackend with 12 concurrent workers.\n",
      "[Parallel(n_jobs=12)]: Done  17 tasks      | elapsed:    4.0s\n",
      "[Parallel(n_jobs=12)]: Done 100 out of 100 | elapsed:   18.8s finished\n"
     ]
    },
    {
     "name": "stdout",
     "output_type": "stream",
     "text": [
      "88.0%\n"
     ]
    },
    {
     "name": "stderr",
     "output_type": "stream",
     "text": [
      "[Parallel(n_jobs=12)]: Using backend ThreadingBackend with 12 concurrent workers.\n",
      "[Parallel(n_jobs=12)]: Done  17 tasks      | elapsed:    3.6s\n",
      "[Parallel(n_jobs=12)]: Done 100 out of 100 | elapsed:   16.8s finished\n"
     ]
    },
    {
     "name": "stdout",
     "output_type": "stream",
     "text": [
      "89.0%\n"
     ]
    },
    {
     "name": "stderr",
     "output_type": "stream",
     "text": [
      "[Parallel(n_jobs=12)]: Using backend ThreadingBackend with 12 concurrent workers.\n",
      "[Parallel(n_jobs=12)]: Done  17 tasks      | elapsed:    3.5s\n",
      "[Parallel(n_jobs=12)]: Done 100 out of 100 | elapsed:   16.3s finished\n"
     ]
    },
    {
     "name": "stdout",
     "output_type": "stream",
     "text": [
      "90.0%\n"
     ]
    },
    {
     "name": "stderr",
     "output_type": "stream",
     "text": [
      "[Parallel(n_jobs=12)]: Using backend ThreadingBackend with 12 concurrent workers.\n",
      "[Parallel(n_jobs=12)]: Done  17 tasks      | elapsed:    3.6s\n",
      "[Parallel(n_jobs=12)]: Done 100 out of 100 | elapsed:   17.1s finished\n"
     ]
    },
    {
     "name": "stdout",
     "output_type": "stream",
     "text": [
      "91.0%\n"
     ]
    },
    {
     "name": "stderr",
     "output_type": "stream",
     "text": [
      "[Parallel(n_jobs=12)]: Using backend ThreadingBackend with 12 concurrent workers.\n",
      "[Parallel(n_jobs=12)]: Done  17 tasks      | elapsed:    3.9s\n",
      "[Parallel(n_jobs=12)]: Done 100 out of 100 | elapsed:   18.3s finished\n"
     ]
    },
    {
     "name": "stdout",
     "output_type": "stream",
     "text": [
      "92.0%\n"
     ]
    },
    {
     "name": "stderr",
     "output_type": "stream",
     "text": [
      "[Parallel(n_jobs=12)]: Using backend ThreadingBackend with 12 concurrent workers.\n",
      "[Parallel(n_jobs=12)]: Done  17 tasks      | elapsed:    3.9s\n",
      "[Parallel(n_jobs=12)]: Done 100 out of 100 | elapsed:   17.9s finished\n"
     ]
    },
    {
     "name": "stdout",
     "output_type": "stream",
     "text": [
      "93.0%\n"
     ]
    },
    {
     "name": "stderr",
     "output_type": "stream",
     "text": [
      "[Parallel(n_jobs=12)]: Using backend ThreadingBackend with 12 concurrent workers.\n",
      "[Parallel(n_jobs=12)]: Done  17 tasks      | elapsed:    3.5s\n",
      "[Parallel(n_jobs=12)]: Done 100 out of 100 | elapsed:   16.8s finished\n"
     ]
    },
    {
     "name": "stdout",
     "output_type": "stream",
     "text": [
      "94.0%\n"
     ]
    },
    {
     "name": "stderr",
     "output_type": "stream",
     "text": [
      "[Parallel(n_jobs=12)]: Using backend ThreadingBackend with 12 concurrent workers.\n",
      "[Parallel(n_jobs=12)]: Done  17 tasks      | elapsed:    3.6s\n",
      "[Parallel(n_jobs=12)]: Done 100 out of 100 | elapsed:   17.0s finished\n"
     ]
    },
    {
     "name": "stdout",
     "output_type": "stream",
     "text": [
      "95.0%\n"
     ]
    },
    {
     "name": "stderr",
     "output_type": "stream",
     "text": [
      "[Parallel(n_jobs=12)]: Using backend ThreadingBackend with 12 concurrent workers.\n",
      "[Parallel(n_jobs=12)]: Done  17 tasks      | elapsed:    3.3s\n",
      "[Parallel(n_jobs=12)]: Done 100 out of 100 | elapsed:   16.0s finished\n"
     ]
    },
    {
     "name": "stdout",
     "output_type": "stream",
     "text": [
      "96.0%\n"
     ]
    },
    {
     "name": "stderr",
     "output_type": "stream",
     "text": [
      "[Parallel(n_jobs=12)]: Using backend ThreadingBackend with 12 concurrent workers.\n",
      "[Parallel(n_jobs=12)]: Done  17 tasks      | elapsed:    3.8s\n",
      "[Parallel(n_jobs=12)]: Done 100 out of 100 | elapsed:   17.6s finished\n"
     ]
    },
    {
     "name": "stdout",
     "output_type": "stream",
     "text": [
      "97.0%\n"
     ]
    },
    {
     "name": "stderr",
     "output_type": "stream",
     "text": [
      "[Parallel(n_jobs=12)]: Using backend ThreadingBackend with 12 concurrent workers.\n",
      "[Parallel(n_jobs=12)]: Done  17 tasks      | elapsed:    4.2s\n",
      "[Parallel(n_jobs=12)]: Done 100 out of 100 | elapsed:   19.2s finished\n"
     ]
    },
    {
     "name": "stdout",
     "output_type": "stream",
     "text": [
      "98.0%\n"
     ]
    },
    {
     "name": "stderr",
     "output_type": "stream",
     "text": [
      "[Parallel(n_jobs=12)]: Using backend ThreadingBackend with 12 concurrent workers.\n",
      "[Parallel(n_jobs=12)]: Done  17 tasks      | elapsed:    3.5s\n",
      "[Parallel(n_jobs=12)]: Done 100 out of 100 | elapsed:   16.7s finished\n"
     ]
    },
    {
     "name": "stdout",
     "output_type": "stream",
     "text": [
      "99.0%\n"
     ]
    },
    {
     "name": "stderr",
     "output_type": "stream",
     "text": [
      "[Parallel(n_jobs=12)]: Using backend ThreadingBackend with 12 concurrent workers.\n",
      "[Parallel(n_jobs=12)]: Done  17 tasks      | elapsed:    3.6s\n",
      "[Parallel(n_jobs=12)]: Done 100 out of 100 | elapsed:   16.8s finished\n"
     ]
    }
   ],
   "source": [
    "subs = dataset.get_subjects(ModeKeys.TEST)\n",
    "l = len(subs)\n",
    "avg_arr = np.zeros((4, 4))\n",
    "for ind, sub in enumerate(subs):\n",
    "    print(\"{0}%\".format((ind/l)*100))\n",
    "    lbl_mask = sub.get_label_mask()\n",
    "    gray_matter_im, white_matter_im, csf_im = estimate_gray_white_csf(sub.get_t1_image(), sub.get_t2_image())\n",
    "    background = ((gray_matter_im + white_matter_im + csf_im) < 1)\n",
    "    preds = [background, gray_matter_im, white_matter_im, csf_im]\n",
    "    ground_truth = [lbl_mask==0, lbl_mask==1,lbl_mask==2,lbl_mask==3]\n",
    "    avg_arr += Evaluator.get_segmentation_stats(ground_truth_segmentations=ground_truth, predicted_segmentations=preds, graph=False, latex=False).values"
   ]
  },
  {
   "cell_type": "code",
   "execution_count": 6,
   "metadata": {},
   "outputs": [],
   "source": [
    "avg_arr = avg_arr / len(subs)"
   ]
  },
  {
   "cell_type": "code",
   "execution_count": 7,
   "metadata": {},
   "outputs": [
    {
     "data": {
      "image/png": "[encoded data removed]",
      "text/plain": [
       "<matplotlib.figure.Figure at 0x7ff4ba733358>"
      ]
     },
     "metadata": {},
     "output_type": "display_data"
    }
   ],
   "source": [
    "overlap_results_df = pd.DataFrame(data=avg_arr, index=list(range(4)), columns=[name for name, _ in OverlapMeasures.__members__.items()])\n",
    "overlap_results_df.plot(kind='bar').legend(bbox_to_anchor=(1.6, 0.9))\n",
    "plt.show()"
   ]
  },
  {
   "cell_type": "code",
   "execution_count": 8,
   "metadata": {},
   "outputs": [
    {
     "data": {
      "text/html": [
       "<div>\n",
       "<style scoped>\n",
       "    .dataframe tbody tr th:only-of-type {\n",
       "        vertical-align: middle;\n",
       "    }\n",
       "\n",
       "    .dataframe tbody tr th {\n",
       "        vertical-align: top;\n",
       "    }\n",
       "\n",
       "    .dataframe thead th {\n",
       "        text-align: right;\n",
       "    }\n",
       "</style>\n",
       "<table border=\"1\" class=\"dataframe\">\n",
       "  <thead>\n",
       "    <tr style=\"text-align: right;\">\n",
       "      <th></th>\n",
       "      <th>jaccard</th>\n",
       "      <th>dice</th>\n",
       "      <th>false_negative</th>\n",
       "      <th>false_positive</th>\n",
       "    </tr>\n",
       "  </thead>\n",
       "  <tbody>\n",
       "    <tr>\n",
       "      <th>0</th>\n",
       "      <td>0.877616</td>\n",
       "      <td>0.934522</td>\n",
       "      <td>0.042732</td>\n",
       "      <td>0.086233</td>\n",
       "    </tr>\n",
       "    <tr>\n",
       "      <th>1</th>\n",
       "      <td>0.437436</td>\n",
       "      <td>0.592840</td>\n",
       "      <td>0.436986</td>\n",
       "      <td>0.368031</td>\n",
       "    </tr>\n",
       "    <tr>\n",
       "      <th>2</th>\n",
       "      <td>0.567557</td>\n",
       "      <td>0.694469</td>\n",
       "      <td>0.275988</td>\n",
       "      <td>0.295521</td>\n",
       "    </tr>\n",
       "    <tr>\n",
       "      <th>3</th>\n",
       "      <td>0.162507</td>\n",
       "      <td>0.275819</td>\n",
       "      <td>0.808682</td>\n",
       "      <td>0.464798</td>\n",
       "    </tr>\n",
       "  </tbody>\n",
       "</table>\n",
       "</div>"
      ],
      "text/plain": [
       "    jaccard      dice  false_negative  false_positive\n",
       "0  0.877616  0.934522        0.042732        0.086233\n",
       "1  0.437436  0.592840        0.436986        0.368031\n",
       "2  0.567557  0.694469        0.275988        0.295521\n",
       "3  0.162507  0.275819        0.808682        0.464798"
      ]
     },
     "execution_count": 8,
     "metadata": {},
     "output_type": "execute_result"
    }
   ],
   "source": [
    "overlap_results_df"
   ]
  },
  {
   "cell_type": "code",
   "execution_count": null,
   "metadata": {},
   "outputs": [],
   "source": []
  },
  {
   "cell_type": "code",
   "execution_count": null,
   "metadata": {},
   "outputs": [],
   "source": []
  },
  {
   "cell_type": "code",
   "execution_count": null,
   "metadata": {},
   "outputs": [],
   "source": []
  },
  {
   "cell_type": "code",
   "execution_count": null,
   "metadata": {},
   "outputs": [],
   "source": []
  }
 ],
 "metadata": {
  "kernelspec": {
   "display_name": "Python 3",
   "language": "python",
   "name": "python3"
  },
  "language_info": {
   "codemirror_mode": {
    "name": "ipython",
    "version": 3
   },
   "file_extension": ".py",
   "mimetype": "text/x-python",
   "name": "python",
   "nbconvert_exporter": "python",
   "pygments_lexer": "ipython3",
   "version": "3.6.5"
  }
 },
 "nbformat": 4,
 "nbformat_minor": 2
}
