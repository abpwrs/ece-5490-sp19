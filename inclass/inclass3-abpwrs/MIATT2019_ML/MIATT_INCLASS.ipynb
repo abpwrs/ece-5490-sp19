{
 "cells": [
  {
   "cell_type": "markdown",
   "metadata": {},
   "source": [
    "# Brain Tissue Classification\n",
    "\n",
    "## Learning Objective\n",
    "\n",
    "The goal of this project is to demonstate that jupyter notebooks\n",
    "is a powerful tool for quickly prototyping ideas. Jupyter notebooks allow for quick visualization\n",
    "of both data and results in real time. The effects of preprocessubg \n",
    "the data and tuning algorithm parameters can easily be observed. \n",
    "\n",
    "This notebook demonstrates the notebook features by segmenting brain regions\n",
    "using machine learning on multi modal brain MRI images. However, the\n",
    "the applications our endless. The focus should not be on machine learning,\n",
    "but rather what jupyter notebooks are capable of doing.\n",
    "\n"
   ]
  },
  {
   "cell_type": "code",
   "execution_count": 1,
   "metadata": {},
   "outputs": [],
   "source": [
    "# for auto-reloading external modules\n",
    "# see http://stackoverflow.com/questions/1907993/autoreload-of-modules-in-ipython\n",
    "%load_ext autoreload\n",
    "%autoreload 2"
   ]
  },
  {
   "cell_type": "code",
   "execution_count": 2,
   "metadata": {
    "collapsed": false
   },
   "outputs": [],
   "source": [
    "# Import Modules\n",
    "import itk\n",
    "itk.force_load() #Load everything at once, slow but maximizes introspection\n",
    "\n",
    "import glob\n",
    "import os\n",
    "import numpy as np\n",
    "import pandas as pd                                 #pip install pandas\n",
    "from sklearn.naive_bayes import GaussianNB          #pip install sklearn\n",
    "from sklearn.neighbors import KNeighborsClassifier\n",
    "from sklearn import svm\n",
    "from sklearn import tree\n",
    "#from sklearn.model_selection.cross_validation import cross_val_predict\n",
    "from sklearn.model_selection import train_test_split\n",
    "from sklearn.metrics import confusion_matrix\n",
    "from matplotlib import pyplot as plt\n",
    "from matplotlib.ticker import NullFormatter\n",
    "from matplotlib import gridspec\n",
    "\n",
    "from itkwidgets import view\n",
    "\n",
    "from ipywidgets import interact, fixed\n",
    "from ipywidgets import interactive\n",
    "import ipywidgets as widgets"
   ]
  },
  {
   "cell_type": "markdown",
   "metadata": {},
   "source": [
    "# Read Images"
   ]
  },
  {
   "cell_type": "code",
   "execution_count": 3,
   "metadata": {
    "collapsed": false
   },
   "outputs": [],
   "source": [
    "# Image Filenames\n",
    "t1_fn = \"t1_average_BRAINSABC.nii.gz\"\n",
    "t2_fn = \"t2_average_BRAINSABC.nii.gz\"\n",
    "lbl_fn = \"labels.nii.gz\"\n",
    "\n",
    "# Read images \n",
    "t1_img = itk.imread(t1_fn)\n",
    "t2_img = itk.imread(t2_fn)\n",
    "lbl_img = itk.imread(lbl_fn)\n",
    "\n",
    "# Define labels\n",
    "LABELS = dict()\n",
    "LABELS[\"WM\"] = [1]\n",
    "LABELS[\"GM\"] = [2]\n",
    "LABELS[\"CSF\"] = [4]"
   ]
  },
  {
   "cell_type": "markdown",
   "metadata": {},
   "source": [
    "# Data Preprocessing\n",
    "\n",
    "It is almost always necessary to perform preprocessing on the data before using it. Here we will focus on two preprocessing methods.\n",
    "\n",
    "First, we will use smoothing filtes to reduce noise in the image. It is critical to find a good scale that balances the tradeoff between smoothing noise and loosing information. The notebook makes it easy to see the effects of different smoothing levels. \n",
    "\n",
    "Second, we will pick a sub sample of the image pixels to use for training a model. To do this we will erode the label map. The notebook allows us to see what radius to use for the erosion kernel, we don't want to completely erode a label!"
   ]
  },
  {
   "cell_type": "code",
   "execution_count": 4,
   "metadata": {
    "collapsed": false
   },
   "outputs": [
    {
     "data": {
      "application/vnd.jupyter.widget-view+json": {
       "model_id": "3b33fe42ae3147d1a7fdb9572dec66bb",
       "version_major": 2,
       "version_minor": 0
      },
      "text/plain": [
       "VBox(children=(Viewer(cmap='Grayscale', gradient_opacity=0.22, mode='x', rendered_image=<itkImagePython.itkIma…"
      ]
     },
     "metadata": {},
     "output_type": "display_data"
    }
   ],
   "source": [
    "from medianhelper import MedianFilter  ## See content from file medianhelper\n",
    "# Median widget helper\n",
    "median_instance = MedianFilter(t1_img)\n",
    "widgets.VBox([median_instance.viewer, median_instance.slider])"
   ]
  },
  {
   "cell_type": "code",
   "execution_count": 5,
   "metadata": {
    "collapsed": false
   },
   "outputs": [
    {
     "data": {
      "application/vnd.jupyter.widget-view+json": {
       "model_id": "c5ad89fac59e4667bcf1708aedadd3c5",
       "version_major": 2,
       "version_minor": 0
      },
      "text/plain": [
       "VBox(children=(Viewer(cmap='GnYlRd', gradient_opacity=0.22, mode='x', rendered_image=<itkImagePython.itkImageU…"
      ]
     },
     "metadata": {},
     "output_type": "display_data"
    }
   ],
   "source": [
    "#help(itk.BinaryErodeImageFilter.New(lbl_img))\n",
    "from erodehelper import ErodeLabels\n",
    "label_map = {'WM' : [1],\n",
    "             'GM' : [2],\n",
    "             'CSF' : [4],\n",
    "             'All' : [1,2,4]}\n",
    "\n",
    "# Erosion widget\n",
    "erode_instance = ErodeLabels(lbl_img)\n",
    "widgets.VBox([erode_instance.viewer, erode_instance.slider])\n"
   ]
  },
  {
   "cell_type": "code",
   "execution_count": 6,
   "metadata": {
    "collapsed": false
   },
   "outputs": [
    {
     "name": "stdout",
     "output_type": "stream",
     "text": [
      "Median filter with size 0 took 2.6226043701171875e-06 seconds to evaluate\n",
      "Median filter with size 1 took 0.31858181953430176 seconds to evaluate\n",
      "Median filter with size 2 took 1.4992847442626953 seconds to evaluate\n",
      "Median filter with size 0 took 2.86102294921875e-06 seconds to evaluate\n",
      "Median filter with size 1 took 0.38440966606140137 seconds to evaluate\n",
      "Median filter with size 2 took 1.5427298545837402 seconds to evaluate\n"
     ]
    },
    {
     "data": {
      "application/vnd.jupyter.widget-view+json": {
       "model_id": "0aff6304fe444a8e8969cd7d8b0f99fa",
       "version_major": 2,
       "version_minor": 0
      },
      "text/plain": [
       "interactive(children=(IntSlider(value=0, description='erode_radius', max=4), IntSlider(value=0, description='m…"
      ]
     },
     "metadata": {},
     "output_type": "display_data"
    },
    {
     "data": {
      "text/plain": [
       "<function ipywidgets.widgets.interaction._InteractFactory.__call__.<locals>.<lambda>(*args, **kwargs)>"
      ]
     },
     "execution_count": 6,
     "metadata": {},
     "output_type": "execute_result"
    }
   ],
   "source": [
    "from plothelper import PlotClassDistribution\n",
    "LABELSDICT = {'WM': 1, 'GM':2, 'CSF':4}\n",
    "# 2D histogram widget\n",
    "plotter = PlotClassDistribution(t1_img, t2_img, lbl_img, LABELSDICT)\n",
    "interact(plotter.display,\n",
    "         erode_radius=(erode_instance.min_radius, erode_instance.max_radius),\n",
    "         median_radius=(median_instance.min_radius, median_instance.max_radius)\n",
    "        )"
   ]
  },
  {
   "cell_type": "markdown",
   "metadata": {},
   "source": [
    "Based on the what your observations from the above widgets, preprocess the data to obtain a dataset that will be used to train a model for brain tissue classification. "
   ]
  },
  {
   "cell_type": "code",
   "execution_count": 7,
   "metadata": {
    "collapsed": false
   },
   "outputs": [],
   "source": [
    "############################\n",
    "####### FILL IN ############\n",
    "############################\n",
    "# smooth image\n",
    "t1_img_smooth = t1_img\n",
    "t2_img_smooth = t2_img\n",
    "\n",
    "# erode label map\n",
    "lbl_img_erode = lbl_img\n",
    "############################\n"
   ]
  },
  {
   "cell_type": "markdown",
   "metadata": {},
   "source": [
    "# Machine Learning"
   ]
  },
  {
   "cell_type": "code",
   "execution_count": 13,
   "metadata": {
    "collapsed": false
   },
   "outputs": [],
   "source": [
    "from mlhelper import niave_gaussian_probabilities ,  knn_probabilities, dt_probabilities, plot_decision_boundary\n"
   ]
  },
  {
   "cell_type": "markdown",
   "metadata": {},
   "source": [
    "## Get Features Vectors"
   ]
  },
  {
   "cell_type": "code",
   "execution_count": 14,
   "metadata": {
    "collapsed": false
   },
   "outputs": [],
   "source": [
    "from mlhelper import get_random_sample, get_accuracy\n"
   ]
  },
  {
   "cell_type": "code",
   "execution_count": 15,
   "metadata": {
    "collapsed": false
   },
   "outputs": [],
   "source": [
    "from utilityfunctions import flatten_image\n",
    "\n",
    "# Flatten images to 1D numpy array\n",
    "t1_np1d = flatten_image(t1_img_smooth)\n",
    "t2_np1d = flatten_image(t2_img_smooth)\n",
    "lbl_np1d = flatten_image(lbl_img_erode)\n",
    "lbl_np1d_orig = flatten_image(lbl_img)\n",
    "\n",
    "# Take equal subsample from each class for training\n",
    "num=97      #NOTE:  97 is a relatively small number of samples choosen for speed.  Try other values (i.e. 300, 4000, 100000)\n",
    "train, train_labels = get_random_sample(t1_np1d, t2_np1d, lbl_np1d,LABELSDICT,num)\n",
    "# Use entire image for testing\n",
    "test = np.column_stack((t1_np1d,t2_np1d))\n"
   ]
  },
  {
   "cell_type": "markdown",
   "metadata": {},
   "source": [
    "In the plots that follow, the blue regions indicate the high probability for that class, and the red regions indicate low probability for that class."
   ]
  },
  {
   "cell_type": "code",
   "execution_count": 16,
   "metadata": {
    "collapsed": false
   },
   "outputs": [
    {
     "name": "stdout",
     "output_type": "stream",
     "text": [
      "HERE: {'WM': 1, 'GM': 2, 'CSF': 4}\n"
     ]
    },
    {
     "data": {
      "application/vnd.jupyter.widget-view+json": {
       "model_id": "694d98cd97da44258001814d37b5d3f8",
       "version_major": 2,
       "version_minor": 0
      },
      "text/plain": [
       "interactive(children=(Dropdown(description='model', options=('naive_bayes', 'decision_tree', 'knn'), value='na…"
      ]
     },
     "metadata": {},
     "output_type": "display_data"
    },
    {
     "data": {
      "text/plain": [
       "<function __main__.model_callback(model, models)>"
      ]
     },
     "execution_count": 16,
     "metadata": {},
     "output_type": "execute_result"
    }
   ],
   "source": [
    "def model_callback(model, models):\n",
    "    \"\"\"Plots the decision boundary for different classifiers\n",
    "    \n",
    "    Args:\n",
    "      model : Key of dictionary corresponding to a model\n",
    "      models (dict): dictionary of trained models\n",
    "      class_labels (dict): a dictionary mapping class_labels to numerical values.\n",
    "    \"\"\"\n",
    "    plot_decision_boundary(models[model],train[:,0], train[:,1], train_labels, LABELSDICT)\n",
    "    \n",
    "dt_probs, dt_model = dt_probabilities(test, train, train_labels)    \n",
    "knn_probs, knn_model = knn_probabilities(test,train, train_labels, 5)\n",
    "nb_probs, nb_model = niave_gaussian_probabilities(test, train, train_labels)\n",
    "\n",
    "model_dict = {'knn':knn_model, 'naive_bayes':nb_model, 'decision_tree':dt_model}\n",
    "print(\"HERE: {0}\".format(LABELSDICT))\n",
    "interact(model_callback, model=['naive_bayes','decision_tree','knn'], models = fixed(model_dict))\n"
   ]
  },
  {
   "cell_type": "code",
   "execution_count": 17,
   "metadata": {
    "collapsed": false
   },
   "outputs": [],
   "source": [
    "# Predict using Decision Tree model\n",
    "dt_predict_train = dt_model.predict(train)\n",
    "dt_predict_test = dt_model.predict(test)\n",
    "dt_train_acc = get_accuracy(dt_predict_train, train_labels)\n",
    "dt_test_acc = get_accuracy(dt_predict_test, lbl_np1d_orig)\n",
    "\n",
    "# Predict using kNN model\n",
    "knn_predict_train = knn_model.predict(train)\n",
    "knn_predict_test = knn_model.predict(test)\n",
    "knn_train_acc = get_accuracy(knn_predict_train, train_labels)\n",
    "knn_test_acc = get_accuracy(knn_predict_test, lbl_np1d_orig)\n",
    "\n",
    "# Predict using Naive Bayes model\n",
    "nb_predict_train = nb_model.predict(train)\n",
    "nb_predict_test = nb_model.predict(test)\n",
    "nb_train_acc_train = get_accuracy(nb_predict_train, train_labels)\n",
    "nb_test_acc = get_accuracy(nb_predict_test, lbl_np1d_orig)\n"
   ]
  },
  {
   "cell_type": "code",
   "execution_count": 18,
   "metadata": {
    "collapsed": false
   },
   "outputs": [
    {
     "data": {
      "text/plain": [
       "Text(0.5, 1.0, 'Accuracy for different Classification Models')"
      ]
     },
     "execution_count": 18,
     "metadata": {},
     "output_type": "execute_result"
    },
    {
     "data": {
      "image/png": "[encoded data removed]",
      "text/plain": [
       "<Figure size 576x360 with 1 Axes>"
      ]
     },
     "metadata": {
      "needs_background": "light"
     },
     "output_type": "display_data"
    }
   ],
   "source": [
    "# Plot results\n",
    "df = pd.DataFrame([[dt_train_acc,dt_test_acc], \n",
    "                   [knn_train_acc,knn_test_acc],\n",
    "                   [nb_train_acc_train, nb_test_acc]], \n",
    "                  index = ['dt','knn', 'nb'],\n",
    "                  columns = ['train','test'])\n",
    "df.plot(kind='bar',figsize=(8,5), fontsize=14)\n",
    "\n",
    "plt.ylabel(\"accuracy\",fontsize=20)\n",
    "plt.xticks(rotation=45)\n",
    "plt.ylim([0.80,1.01])\n",
    "plt.title(\"Accuracy for different Classification Models\",fontsize=20)"
   ]
  },
  {
   "cell_type": "code",
   "execution_count": 19,
   "metadata": {
    "collapsed": false
   },
   "outputs": [
    {
     "data": {
      "application/vnd.jupyter.widget-view+json": {
       "model_id": "a277ada69202432eb1c16dedab73d457",
       "version_major": 2,
       "version_minor": 0
      },
      "text/plain": [
       "interactive(children=(IntSlider(value=1, description='k', max=9, min=1, step=2), Output()), _dom_classes=('wid…"
      ]
     },
     "metadata": {},
     "output_type": "display_data"
    },
    {
     "data": {
      "text/plain": [
       "<function __main__.knn_callback(k=1)>"
      ]
     },
     "execution_count": 19,
     "metadata": {},
     "output_type": "execute_result"
    }
   ],
   "source": [
    "def knn_callback(k=1):\n",
    "    \"\"\"Plots the decision boundary for kNN classifer for different k\n",
    "    \n",
    "    Args:\n",
    "      k (int): Number of neighbors for kNN classifer\n",
    " \n",
    "    \"\"\"\n",
    "    if k not in knn_pred_cache:\n",
    "        all_probs, y_pred = knn_probabilities(test, train, train_labels, k)\n",
    "        knn_pred_cache[k] = y_pred\n",
    "    Z = knn_pred_cache[k]\n",
    "    plot_decision_boundary(Z,train[:,0], train[:,1], train_labels, LABELSDICT)\n",
    "    print('k = ' + str(k))\n",
    "    \n",
    "knn_pred_cache = dict()\n",
    "interact(knn_callback, k = (1,9,2))"
   ]
  },
  {
   "cell_type": "code",
   "execution_count": 20,
   "metadata": {
    "collapsed": false
   },
   "outputs": [
    {
     "data": {
      "application/vnd.jupyter.widget-view+json": {
       "model_id": "1d3981405a5a4e6aa7401727a7b518c7",
       "version_major": 2,
       "version_minor": 0
      },
      "text/plain": [
       "interactive(children=(IntSlider(value=1, description='d', max=9, min=1), Output()), _dom_classes=('widget-inte…"
      ]
     },
     "metadata": {},
     "output_type": "display_data"
    },
    {
     "data": {
      "text/plain": [
       "<function __main__.dt_callback(d=1)>"
      ]
     },
     "execution_count": 20,
     "metadata": {},
     "output_type": "execute_result"
    }
   ],
   "source": [
    "def dt_callback(d=1):\n",
    "    \"\"\"Plots the decision boundary for kNN classifer for different k\n",
    "    \n",
    "    Args:\n",
    "      k (int): Number of neighbors for kNN classifer\n",
    " \n",
    "    \"\"\"\n",
    "    if d not in dt_pred_cache:\n",
    "        all_probs, y_pred = dt_probabilities(test, train, train_labels, d)\n",
    "        dt_pred_cache[d] = y_pred\n",
    "    Z = dt_pred_cache[d]\n",
    "    plot_decision_boundary(Z,train[:,0], train[:,1], train_labels, LABELSDICT)\n",
    "    print('d = ' + str(d))\n",
    "    \n",
    "dt_pred_cache = dict()\n",
    "interact(dt_callback, d = (1,9))"
   ]
  },
  {
   "cell_type": "code",
   "execution_count": null,
   "metadata": {
    "collapsed": false
   },
   "outputs": [],
   "source": [
    "# Get accuracies for different k\n",
    "knn_accuracies = []\n",
    "for k in range(1,10,2):\n",
    "    if k not in knn_pred_cache:\n",
    "        all_probs, model = knn_probabilities(test, train, train_labels, k)\n",
    "        knn_pred_cache[k] = model\n",
    "    pred = knn_pred_cache[k].predict(test)\n",
    "    pred_train = knn_pred_cache[k].predict(train)\n",
    "    accuracy = get_accuracy(pred, lbl_np1d_orig)\n",
    "    accuracy_train = get_accuracy(pred_train, train_labels)\n",
    "    knn_accuracies.append([accuracy_train,accuracy])"
   ]
  },
  {
   "cell_type": "code",
   "execution_count": null,
   "metadata": {
    "collapsed": false
   },
   "outputs": [],
   "source": [
    "# Plot results\n",
    "knn_df = pd.DataFrame(knn_accuracies, index=['k=1','k=3','k=5','k=7','k=9'], columns = ['train','test'])\n",
    "knn_df.plot(kind='bar', figsize=(8,5), fontsize=14)\n",
    "#knn_df.plot(figsize=(8,5), fontsize=14)\n",
    "plt.ylim([0.80,1.01])\n",
    "plt.ylabel(\"accuracy\", fontsize=20)\n",
    "plt.xticks(rotation=45)\n",
    "plt.title(\"kNN Accuracy for different k\",fontsize=20)\n"
   ]
  },
  {
   "cell_type": "code",
   "execution_count": null,
   "metadata": {
    "collapsed": false
   },
   "outputs": [],
   "source": [
    "# Get accuracies for different max tree depth\n",
    "dt_accuracies = []\n",
    "for d in range(1,10):\n",
    "    if d not in dt_pred_cache:\n",
    "      all_probs, model = dt_probabilities(test, train, train_labels, d)\n",
    "      dt_pred_cache[d] = model\n",
    "    pred = dt_pred_cache[d].predict(test)\n",
    "    pred_train = dt_pred_cache[d].predict(train)\n",
    "    acc = get_accuracy(pred, lbl_np1d_orig)\n",
    "    acc_train = get_accuracy(pred_train, train_labels)\n",
    "    dt_accuracies.append([acc_train,acc])"
   ]
  },
  {
   "cell_type": "code",
   "execution_count": null,
   "metadata": {
    "collapsed": false
   },
   "outputs": [],
   "source": [
    "# Plot results\n",
    "dt_df = pd.DataFrame(dt_accuracies,columns=['train','test'], index =range(1,10) )\n",
    "dt_df.plot(figsize=(8,5), fontsize=14)\n",
    "plt.ylim([0.5,0.95])\n",
    "plt.xlabel(\"tree depth\", fontsize=20)\n",
    "plt.ylabel(\"accuracy\",fontsize=20)\n",
    "plt.title(\"Accuracy for different tree depth\",fontsize=20)\n"
   ]
  },
  {
   "cell_type": "code",
   "execution_count": null,
   "metadata": {
    "collapsed": false
   },
   "outputs": [],
   "source": [
    "#choose a model, train and predict\n",
    "\n",
    "all_probs, model = niave_gaussian_probabilities(test, train, train_labels)\n",
    "\n",
    "pred_test_np1d = model.predict(test)\n",
    "pred_train_np1d = model.predict(train)\n",
    "\n",
    "# set background prediction to zero\n",
    "pred_test_np1d[lbl_np1d_orig==0]=0"
   ]
  },
  {
   "cell_type": "code",
   "execution_count": 98,
   "metadata": {
    "collapsed": false
   },
   "outputs": [],
   "source": [
    "imsize=lbl_img.GetLargestPossibleRegion().GetSize()\n",
    "pred = pred_test_np1d.reshape((imsize[2], imsize[1], imsize[0])).astype(np.float32)\n",
    "pred_img = itk.GetImageFromArray(pred)\n",
    "pred_img.CopyInformation(lbl_img)\n",
    "pred_np1d = flatten_image(pred_img)\n",
    "cif = itk.CastImageFilter[pred_img, itk.Image[itk.UC,3]].New(Input=pred_img)\n",
    "pred_img= cif.GetOutput()\n"
   ]
  },
  {
   "cell_type": "code",
   "execution_count": null,
   "metadata": {},
   "outputs": [],
   "source": []
  },
  {
   "cell_type": "code",
   "execution_count": 112,
   "metadata": {
    "collapsed": false
   },
   "outputs": [
    {
     "name": "stdout",
     "output_type": "stream",
     "text": [
      "0.9069759731383816\n",
      "0.9347079037800687\n"
     ]
    }
   ],
   "source": [
    "# Calculate the accuracy of your model\n",
    "\n",
    "accuracy_test = get_accuracy(pred_test_np1d, lbl_np1d_orig)\n",
    "accuracy_train = get_accuracy(pred_train_np1d, train_labels)\n",
    "\n",
    "print(accuracy_test)\n",
    "print(accuracy_train)\n"
   ]
  },
  {
   "cell_type": "code",
   "execution_count": 113,
   "metadata": {
    "collapsed": false
   },
   "outputs": [
    {
     "data": {
      "text/plain": [
       "Ttest_indResult(statistic=0.16556216275244748, pvalue=0.868559217203358)"
      ]
     },
     "execution_count": 113,
     "metadata": {},
     "output_type": "execute_result"
    }
   ],
   "source": [
    "from scipy.stats import ttest_ind\n",
    "\n",
    "ttest_ind(pred_train_np1d, train_labels)"
   ]
  },
  {
   "cell_type": "code",
   "execution_count": 114,
   "metadata": {
    "collapsed": false
   },
   "outputs": [
    {
     "data": {
      "image/png": "[encoded data removed]",
      "text/plain": [
       "<Figure size 432x288 with 2 Axes>"
      ]
     },
     "metadata": {
      "needs_background": "light"
     },
     "output_type": "display_data"
    }
   ],
   "source": [
    "#confusion matrix\n",
    "def show_confusion_matrix(prediction_np1d, labels_np1d):\n",
    "    \"\"\"Calculates confusion matrix for the trained classifier\n",
    "    \n",
    "    Args:\n",
    "      prediction_np1d (np.array) : model prediction\n",
    "      labels_np1d (np.array) : ground truth labels\n",
    " \n",
    "    \"\"\"\n",
    "    m = confusion_matrix(labels_np1d, prediction_np1d)\n",
    "    \n",
    "    # normalize each row\n",
    "    m = m.astype('float')/m.sum(axis=1)[:,np.newaxis]\n",
    "    # remove background labels\n",
    "    m = m[1:,:]\n",
    "    m = m[:,1:]\n",
    "    fig = plt.figure()\n",
    "    plt.imshow(m, interpolation='nearest', cmap = plt.cm.Reds)\n",
    "    plt.colorbar()\n",
    "    tick_marks = np.arange(3)\n",
    "    plt.xticks(tick_marks, ['WM','GM','CSF'], rotation=45)\n",
    "    plt.yticks(tick_marks, ['WM','GM','CSF'])\n",
    "    plt.xlabel('Predicted Label')\n",
    "    plt.ylabel('True Label')\n",
    "    plt.show()\n",
    "    \n",
    "show_confusion_matrix(pred_test_np1d, lbl_np1d_orig)"
   ]
  },
  {
   "cell_type": "markdown",
   "metadata": {},
   "source": [
    "which model and why\n",
    "any preprocessing?\n",
    "training and testing accuracies\n"
   ]
  }
 ],
 "metadata": {
  "kernelspec": {
   "display_name": "Python 3",
   "language": "python",
   "name": "python3"
  },
  "language_info": {
   "codemirror_mode": {
    "name": "ipython",
    "version": 3
   },
   "file_extension": ".py",
   "mimetype": "text/x-python",
   "name": "python",
   "nbconvert_exporter": "python",
   "pygments_lexer": "ipython3",
   "version": "3.6.7"
  }
 },
 "nbformat": 4,
 "nbformat_minor": 2
}
