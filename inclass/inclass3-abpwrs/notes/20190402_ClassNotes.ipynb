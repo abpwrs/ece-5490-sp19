{
 "cells": [
  {
   "cell_type": "markdown",
   "metadata": {},
   "source": [
    "# In Class 20190402\n",
    "Learning notebooks and python itk."
   ]
  },
  {
   "cell_type": "code",
   "execution_count": 64,
   "metadata": {},
   "outputs": [],
   "source": [
    "import itk\n",
    "from itkwidgets import view\n",
    "import numpy as np\n",
    "from matplotlib import pyplot as plt"
   ]
  },
  {
   "cell_type": "code",
   "execution_count": 65,
   "metadata": {},
   "outputs": [],
   "source": [
    "InputPixelType = itk.ctype('float')\n",
    "OutputPixelType = itk.ctype('float')\n",
    "Dimension = 3\n",
    "InputImageType = itk.Image[InputPixelType, Dimension]\n",
    "OutputImageType = itk.Image[OutputPixelType, Dimension]"
   ]
  },
  {
   "cell_type": "code",
   "execution_count": 66,
   "metadata": {},
   "outputs": [],
   "source": [
    "image_file_name = \"data/brainweb165a10f17.mha\""
   ]
  },
  {
   "cell_type": "code",
   "execution_count": 67,
   "metadata": {},
   "outputs": [],
   "source": [
    "reader1=itk.ImageFileReader[InputImageType].New(FileName=image_file_name)\n",
    "reader1.Update()\n",
    "image1 = reader1.GetOutput()"
   ]
  },
  {
   "cell_type": "code",
   "execution_count": 68,
   "metadata": {},
   "outputs": [],
   "source": [
    "reader2=itk.ImageFileReader[InputImageType].New(FileName=image_file_name)\n",
    "reader2.Update()\n",
    "image2 = reader2.GetOutput()"
   ]
  },
  {
   "cell_type": "code",
   "execution_count": 69,
   "metadata": {},
   "outputs": [],
   "source": [
    "reader3 = itk.ImageFileReader.New(FileName=image_file_name)\n",
    "reader3.Update()\n",
    "image3 = reader3.GetOutput()"
   ]
  },
  {
   "cell_type": "code",
   "execution_count": 70,
   "metadata": {},
   "outputs": [],
   "source": [
    "image4 = itk.image_file_reader(FileName=image_file_name)"
   ]
  },
  {
   "cell_type": "code",
   "execution_count": 71,
   "metadata": {},
   "outputs": [],
   "source": [
    "image5 = itk.imread(image_file_name)"
   ]
  },
  {
   "cell_type": "code",
   "execution_count": 72,
   "metadata": {},
   "outputs": [],
   "source": [
    "image6 = itk.imread(image_file_name, InputPixelType)"
   ]
  },
  {
   "cell_type": "code",
   "execution_count": 73,
   "metadata": {},
   "outputs": [
    {
     "name": "stdout",
     "output_type": "stream",
     "text": [
      "0: <class 'itkImagePython.itkImageF3'>\n",
      "1: <class 'itkImagePython.itkImageF3'>\n",
      "2: <class 'itkImagePython.itkImageUC3'>\n",
      "3: <class 'itkImagePython.itkImageUC3'>\n",
      "4: <class 'itkImagePython.itkImageUC3'>\n",
      "5: <class 'itkImagePython.itkImageF3'>\n"
     ]
    }
   ],
   "source": [
    "for i, t in enumerate([image1, image2, image3, image4, image5, image6]):\n",
    "    print(\"%d: %s\" % (i, type(t)))"
   ]
  },
  {
   "cell_type": "code",
   "execution_count": null,
   "metadata": {},
   "outputs": [],
   "source": []
  }
 ],
 "metadata": {
  "kernelspec": {
   "display_name": "Python 3",
   "language": "python",
   "name": "python3"
  },
  "language_info": {
   "codemirror_mode": {
    "name": "ipython",
    "version": 3
   },
   "file_extension": ".py",
   "mimetype": "text/x-python",
   "name": "python",
   "nbconvert_exporter": "python",
   "pygments_lexer": "ipython3",
   "version": "3.6.7"
  }
 },
 "nbformat": 4,
 "nbformat_minor": 2
}
