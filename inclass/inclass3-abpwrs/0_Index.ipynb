{
 "cells": [
  {
   "cell_type": "markdown",
   "metadata": {
    "slideshow": {
     "slide_type": "slide"
    }
   },
   "source": [
    "# MIATT\n",
    "\n",
    "### University of Iowa\n",
    "### March, 2019\n",
    "\n",
    "Instructors:\n",
    "\n",
    "- Hans J. Johnson, PhD\n"
   ]
  },
  {
   "cell_type": "markdown",
   "metadata": {
    "slideshow": {
     "slide_type": "slide"
    }
   },
   "source": [
    "## Abstract\n",
    "\n",
    "[![ITK](data/itk-logo.png)](https://www.itk.org/)\n",
    "\n",
    "\n",
    "The [Insight Toolkit (ITK) (www.itk.org)](\n",
    "http://www.itk.org) has become a standard in academia and industry for\n",
    "medical image analysis. In recent years, the ITK community has\n",
    "focused on providing programming interfaces to ITK from Python and JavaScript\n",
    "and making ITK available via leading applications such as Slicer and ImageJ.\n",
    "\n",
    "In this course we present best practices for taking advantage of ITK in your\n",
    "imaging research and commercial products. We demonstrate how script writing\n",
    "and can be used to access the algorithms in ITK and the\n",
    "multitude of ITK extensions that are freely available on the web."
   ]
  },
  {
   "cell_type": "markdown",
   "metadata": {
    "slideshow": {
     "slide_type": "slide"
    }
   },
   "source": [
    "## Tutorials\n",
    "\n",
    "1. [Introduction to the Insight Toolkit (ITK)](1_Introduction_to_the_Insight_Toolkit.ipynb)\n",
    "2. [Image Filtering](2_Image_Filtering.ipynb)\n",
    "3. [Segmentation](3_Segmentation.ipynb)\n",
    "4. [ITK in Python](4_ITK_in_Python.ipynb)\n",
    "5. [Registration](5_Registration.ipynb)\n",
    "6. [Extending the Toolkit (Part 1)](6_Extending_the_Toolkit-Part1.ipynb)\n",
    "7. [Extending the Toolkit (Part 2)](6_Extending_the_Toolkit-Part2.ipynb)\n",
    "8. [Introduction to itk.js](https://bit.ly/itkjsKitwareBiomedical2019)"
   ]
  }
 ],
 "metadata": {
  "celltoolbar": "Slideshow",
  "kernelspec": {
   "display_name": "Python 3",
   "language": "python",
   "name": "python3"
  },
  "language_info": {
   "codemirror_mode": {
    "name": "ipython",
    "version": 3
   },
   "file_extension": ".py",
   "mimetype": "text/x-python",
   "name": "python",
   "nbconvert_exporter": "python",
   "pygments_lexer": "ipython3",
   "version": "3.6.7"
  }
 },
 "nbformat": 4,
 "nbformat_minor": 2
}
