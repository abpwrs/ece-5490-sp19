{
 "cells": [
  {
   "cell_type": "markdown",
   "metadata": {
    "slideshow": {
     "slide_type": "slide"
    }
   },
   "source": [
    "# ITK in Python"
   ]
  },
  {
   "cell_type": "markdown",
   "metadata": {
    "slideshow": {
     "slide_type": "slide"
    }
   },
   "source": [
    "## Overview"
   ]
  },
  {
   "cell_type": "markdown",
   "metadata": {
    "slideshow": {
     "slide_type": "subslide"
    }
   },
   "source": [
    "### Learning Objectives\n",
    "\n",
    "* Becoming familiar with the Pythonic way of using ITK\n",
    "* Understand how to use ITK object oriented interface\n",
    "* Learn how to write simple Python code with ITK"
   ]
  },
  {
   "cell_type": "markdown",
   "metadata": {
    "slideshow": {
     "slide_type": "subslide"
    }
   },
   "source": [
    "## Two ways of using ITK in Python\n",
    "\n",
    "* Pythonic way\n",
    " * Functional programming\n",
    " * More concise\n",
    " * Some functions and filters are not accessible this way\n",
    "* Object oriented way\n",
    " * Full access to ITK"
   ]
  },
  {
   "cell_type": "markdown",
   "metadata": {
    "slideshow": {
     "slide_type": "slide"
    }
   },
   "source": [
    "## Let's start the Pythonic way"
   ]
  },
  {
   "cell_type": "code",
   "execution_count": 2,
   "metadata": {
    "slideshow": {
     "slide_type": "subslide"
    }
   },
   "outputs": [],
   "source": [
    "import itk\n",
    "from itkwidgets import view\n",
    "from ipywidgets import interact, IntSlider"
   ]
  },
  {
   "cell_type": "code",
   "execution_count": 3,
   "metadata": {
    "slideshow": {
     "slide_type": "fragment"
    }
   },
   "outputs": [
    {
     "data": {
      "application/vnd.jupyter.widget-view+json": {
       "model_id": "843615093798438ba7ca903c3ff51162",
       "version_major": 2,
       "version_minor": 0
      },
      "text/plain": [
       "Viewer(gradient_opacity=0.22, rendered_image=<itkImagePython.itkImageF2; proxy of <Swig Object of type 'itkIma…"
      ]
     },
     "metadata": {},
     "output_type": "display_data"
    }
   ],
   "source": [
    "image = itk.imread(\"data/CBCT-TextureInput.png\", itk.ctype('float'))\n",
    "view(image)"
   ]
  },
  {
   "cell_type": "code",
   "execution_count": 4,
   "metadata": {
    "slideshow": {
     "slide_type": "fragment"
    }
   },
   "outputs": [],
   "source": [
    "filtered_image = itk.median_image_filter(image, radius=2)"
   ]
  },
  {
   "cell_type": "code",
   "execution_count": 5,
   "metadata": {
    "slideshow": {
     "slide_type": "fragment"
    }
   },
   "outputs": [
    {
     "data": {
      "application/vnd.jupyter.widget-view+json": {
       "model_id": "755d0dc7ff714c5994da6c74bc616d58",
       "version_major": 2,
       "version_minor": 0
      },
      "text/plain": [
       "Viewer(gradient_opacity=0.22, rendered_image=<itkImagePython.itkImageF2; proxy of <Swig Object of type 'itkIma…"
      ]
     },
     "metadata": {},
     "output_type": "display_data"
    }
   ],
   "source": [
    "view(filtered_image)"
   ]
  },
  {
   "cell_type": "markdown",
   "metadata": {
    "slideshow": {
     "slide_type": "subslide"
    }
   },
   "source": [
    "### Pythonic exercises\n",
    "\n",
    "* In the example above, change the radius of the filter and observe the result.\n",
    "* Replace filter with `mean_image_filter`\n",
    "* Replace filter with `otsu_threshold_image_filter`\n",
    "* Visualize results"
   ]
  },
  {
   "cell_type": "markdown",
   "metadata": {
    "slideshow": {
     "slide_type": "subslide"
    }
   },
   "source": [
    "Uncomment and change the radius of the filter and observe the result."
   ]
  },
  {
   "cell_type": "code",
   "execution_count": 6,
   "metadata": {
    "slideshow": {
     "slide_type": "-"
    }
   },
   "outputs": [
    {
     "data": {
      "application/vnd.jupyter.widget-view+json": {
       "model_id": "0cea152fa7fc4cbf88f4f0c202f6da43",
       "version_major": 2,
       "version_minor": 0
      },
      "text/plain": [
       "Viewer(gradient_opacity=0.22, rendered_image=<itkImagePython.itkImageF2; proxy of <Swig Object of type 'itkIma…"
      ]
     },
     "metadata": {},
     "output_type": "display_data"
    }
   ],
   "source": [
    "median_filtered_image = itk.median_image_filter(image, radius = 20)\n",
    "view(median_filtered_image)"
   ]
  },
  {
   "cell_type": "code",
   "execution_count": 7,
   "metadata": {
    "slideshow": {
     "slide_type": "-"
    }
   },
   "outputs": [],
   "source": [
    "#%load solutions/4_Using_ITK_in_Python_real_world_filters_median.py"
   ]
  },
  {
   "cell_type": "markdown",
   "metadata": {
    "slideshow": {
     "slide_type": "subslide"
    }
   },
   "source": [
    "Uncomment and replace filter with `mean_image_filter`"
   ]
  },
  {
   "cell_type": "code",
   "execution_count": 8,
   "metadata": {
    "slideshow": {
     "slide_type": "-"
    }
   },
   "outputs": [
    {
     "data": {
      "application/vnd.jupyter.widget-view+json": {
       "model_id": "d31f91a14841460f93a0e4dac80b8bfa",
       "version_major": 2,
       "version_minor": 0
      },
      "text/plain": [
       "Viewer(gradient_opacity=0.22, rendered_image=<itkImagePython.itkImageF2; proxy of <Swig Object of type 'itkIma…"
      ]
     },
     "metadata": {},
     "output_type": "display_data"
    }
   ],
   "source": [
    "mean_filtered_image = itk.mean_image_filter(image, radius = 10)\n",
    "view(mean_filtered_image)"
   ]
  },
  {
   "cell_type": "code",
   "execution_count": 9,
   "metadata": {
    "slideshow": {
     "slide_type": "-"
    }
   },
   "outputs": [],
   "source": [
    "# %load solutions/4_Using_ITK_in_Python_real_world_filters_mean.py"
   ]
  },
  {
   "cell_type": "markdown",
   "metadata": {
    "slideshow": {
     "slide_type": "subslide"
    }
   },
   "source": [
    "Uncomment and replace filter with `otsu_threshold_image_filter`"
   ]
  },
  {
   "cell_type": "code",
   "execution_count": 10,
   "metadata": {
    "slideshow": {
     "slide_type": "-"
    }
   },
   "outputs": [
    {
     "data": {
      "application/vnd.jupyter.widget-view+json": {
       "model_id": "f5245d5b73654b1c88a8aca0c1844f82",
       "version_major": 2,
       "version_minor": 0
      },
      "text/plain": [
       "Viewer(gradient_opacity=0.22, rendered_image=<itkImagePython.itkImageSS2; proxy of <Swig Object of type 'itkIm…"
      ]
     },
     "metadata": {},
     "output_type": "display_data"
    }
   ],
   "source": [
    "otsu_filtered_image = itk.otsu_threshold_image_filter(image)\n",
    "view(otsu_filtered_image)"
   ]
  },
  {
   "cell_type": "code",
   "execution_count": 11,
   "metadata": {
    "slideshow": {
     "slide_type": "-"
    }
   },
   "outputs": [],
   "source": [
    "# %load solutions/4_Using_ITK_in_Python_real_world_filters_otsu.py"
   ]
  },
  {
   "cell_type": "markdown",
   "metadata": {
    "slideshow": {
     "slide_type": "slide"
    }
   },
   "source": [
    "## Object oriented\n",
    "\n",
    "* Two types of C++ ITK objects\n",
    " * Smart pointers (hint: most ITK objects are)\n",
    " * \"Simple\" objects\n",
    "* Translates in two ways of creating objects in Python\n",
    " * `obj = itk.SmartPointerObjectType.New()` (use auto-completion to see if `New()` method exists)\n",
    " * `obj = itk.SimpleObjectType()`"
   ]
  },
  {
   "cell_type": "markdown",
   "metadata": {
    "slideshow": {
     "slide_type": "subslide"
    }
   },
   "source": [
    "## Examples of objects\n",
    "\n",
    "* With `New()` method:\n",
    " * `itk.Image`\n",
    " * `itk.MedianImageFilter`\n",
    "* Without `New()` method:\n",
    " * `itk.Index`\n",
    " * `itk.RGBPixel`"
   ]
  },
  {
   "cell_type": "markdown",
   "metadata": {
    "slideshow": {
     "slide_type": "slide"
    }
   },
   "source": [
    "## Templated types\n",
    "\n",
    "* Is my ITK type templated? (hint: yes)"
   ]
  },
  {
   "cell_type": "code",
   "execution_count": 12,
   "metadata": {
    "slideshow": {
     "slide_type": "fragment"
    }
   },
   "outputs": [
    {
     "name": "stdout",
     "output_type": "stream",
     "text": [
      "Help on itkTemplate in module itkTemplate object:\n",
      "\n",
      "itk::Image = class itkTemplate(builtins.object)\n",
      " |  This class manages access to available template arguments of a C++ class.\n",
      " |  \n",
      " |  This class is generic and does not give help on the methods available in\n",
      " |  the instantiated class. To get help on a specific ITK class, instantiate an\n",
      " |  object of that class.\n",
      " |  \n",
      " |  e.g.: median = itk.MedianImageFilter[ImageType, ImageType].New()\n",
      " |        help(median)\n",
      " |  \n",
      " |  There are two ways to access types:\n",
      " |  \n",
      " |  1. With a dict interface. The user can manipulate template parameters\n",
      " |  similarly to C++, with the exception that the available parameters sets are\n",
      " |  chosen at compile time. It is also possible, with the dict interface, to\n",
      " |  explore the available parameters sets.\n",
      " |  2. With object attributes. The user can easily find the available parameters\n",
      " |  sets by pressing tab in interperter like ipython\n",
      " |  \n",
      " |  Methods defined here:\n",
      " |  \n",
      " |  GetTypes(self)\n",
      " |      Helper method which prints out the available template parameters.\n",
      " |  \n",
      " |  GetTypesAsList(self)\n",
      " |      Helper method which returns the available template parameters.\n",
      " |  \n",
      " |  New(self, *args, **kwargs)\n",
      " |      Instantiate the template with a type implied from its input.\n",
      " |      \n",
      " |      Template type specification can be avoided by assuming that the type's\n",
      " |      first template argument should have the same type as its primary input.\n",
      " |      This is generally true. If it is not true, then specify the types\n",
      " |      explicitly.\n",
      " |      \n",
      " |      For example, instead of the explicit type specification::\n",
      " |      \n",
      " |        median = itk.MedianImageFilter[ImageType, ImageType].New()\n",
      " |        median.SetInput(reader.GetOutput())\n",
      " |      \n",
      " |      call::\n",
      " |      \n",
      " |        median = itk.MedianImageFilter.New(Input=reader.GetOutput())\n",
      " |      \n",
      " |      or, the shortened::\n",
      " |      \n",
      " |        median = itk.MedianImageFilter.New(reader.GetOutput())\n",
      " |      \n",
      " |      or:\n",
      " |      \n",
      " |        median = itk.MedianImageFilter.New(reader)\n",
      " |  \n",
      " |  __add__(self, paramSetString, cl)\n",
      " |      Add a new argument set and the resulting class to the template.\n",
      " |      \n",
      " |      paramSetString is the C++ string which defines the parameters set.\n",
      " |      cl is the class which corresponds to the couple template-argument set.\n",
      " |  \n",
      " |  __call__(self, *args, **kwargs)\n",
      " |      Create a process object, update with the inputs and\n",
      " |      attributes, and return the result.\n",
      " |      \n",
      " |      The syntax is the same as the one used in New().\n",
      " |      \n",
      " |      UpdateLargestPossibleRegion() is execute and the current output,\n",
      " |      or tuple of outputs if there is more than\n",
      " |      one, is returned.\n",
      " |      \n",
      " |      For example,\n",
      " |      \n",
      " |        outputImage = itk.MedianImageFilter(inputImage, Radius=(1,2))\n",
      " |  \n",
      " |  __contains__(self, key)\n",
      " |  \n",
      " |  __dir__(self)\n",
      " |      Returns the list of the attributes available in the current template.\n",
      " |      \n",
      " |      This loads all the modules that might be required by this template first,\n",
      " |      and then returns the list of attributes. It is used when dir() is called\n",
      " |      or when it tries to autocomplete attribute names.\n",
      " |  \n",
      " |  __find_param__(self, paramSetString)\n",
      " |      Find the parameters of the template.\n",
      " |      \n",
      " |      paramSetString is the C++ string which defines the parameters set.\n",
      " |      \n",
      " |      __find_param__ returns a list of itk classes, itkCType, and/or numbers\n",
      " |      which correspond to the parameters described in paramSetString.\n",
      " |      The parameters MUST have been registered before calling this method,\n",
      " |      or __find_param__ will return a string and not the wanted object, and\n",
      " |      will display a warning. Registration order is important.\n",
      " |      \n",
      " |      This method is not static only to be able to display the template name\n",
      " |      in the warning.\n",
      " |  \n",
      " |  __getattr__(self, attr)\n",
      " |      Support for lazy loading.\n",
      " |  \n",
      " |  __getitem__(self, parameters)\n",
      " |      Return the class which corresponds to the given template parameters.\n",
      " |      \n",
      " |      parameters can be:\n",
      " |          - a single parameter (Ex: itk.Index[2])\n",
      " |          - a list of elements (Ex: itk.Image[itk.UC, 2])\n",
      " |  \n",
      " |  __iter__(self)\n",
      " |      # everything after this comment is for dict interface\n",
      " |      # and is a copy/paste from DictMixin\n",
      " |      # only methods to edit dictionary are not there\n",
      " |  \n",
      " |  __len__(self)\n",
      " |  \n",
      " |  __repr__(self)\n",
      " |      Return repr(self).\n",
      " |  \n",
      " |  get(self, key, default=None)\n",
      " |  \n",
      " |  items(self)\n",
      " |  \n",
      " |  iteritems(self)\n",
      " |      # third level takes advantage of second level definitions\n",
      " |  \n",
      " |  iterkeys(self)\n",
      " |  \n",
      " |  itervalues(self)\n",
      " |      # fourth level uses definitions from lower levels\n",
      " |  \n",
      " |  keys(self)\n",
      " |  \n",
      " |  values(self)\n",
      " |  \n",
      " |  ----------------------------------------------------------------------\n",
      " |  Static methods defined here:\n",
      " |  \n",
      " |  __new__(cls, name)\n",
      " |      Create and return a new object.  See help(type) for accurate signature.\n",
      " |  \n",
      " |  ----------------------------------------------------------------------\n",
      " |  Data descriptors defined here:\n",
      " |  \n",
      " |  __dict__\n",
      " |      dictionary for instance variables (if defined)\n",
      " |  \n",
      " |  __weakref__\n",
      " |      list of weak references to the object (if defined)\n",
      " |  \n",
      " |  ----------------------------------------------------------------------\n",
      " |  Data and other attributes defined here:\n",
      " |  \n",
      " |  __class_to_template__ = {<class 'pyBasePython.mapBB'>: (<itkTemplate s...\n",
      " |  \n",
      " |  __doxygen_root__ = '/nfs/s-l011/local/vol00/a/abpwrs/projects/abp/lib/...\n",
      " |  \n",
      " |  __named_templates__ = {'itk::AbsImageFilter': <itkTemplate itk::AbsIma...\n",
      " |  \n",
      " |  __templates__ = OrderedDict([('std::cerr', <pyBasePython.ostream...lte...\n",
      "\n"
     ]
    }
   ],
   "source": [
    "help(itk.Image)"
   ]
  },
  {
   "cell_type": "markdown",
   "metadata": {
    "slideshow": {
     "slide_type": "subslide"
    }
   },
   "source": [
    "* If so, you need to specify the data type\n",
    "* This is similar to `dtype` in NumPy"
   ]
  },
  {
   "cell_type": "code",
   "execution_count": 13,
   "metadata": {
    "slideshow": {
     "slide_type": "fragment"
    }
   },
   "outputs": [
    {
     "data": {
      "text/plain": [
       "array([0., 0.])"
      ]
     },
     "execution_count": 13,
     "metadata": {},
     "output_type": "execute_result"
    }
   ],
   "source": [
    "import numpy\n",
    "numpy.array([0,0], dtype=numpy.float)"
   ]
  },
  {
   "cell_type": "markdown",
   "metadata": {
    "slideshow": {
     "slide_type": "subslide"
    }
   },
   "source": [
    "* Define and create a simple object"
   ]
  },
  {
   "cell_type": "code",
   "execution_count": 14,
   "metadata": {
    "slideshow": {
     "slide_type": "fragment"
    }
   },
   "outputs": [
    {
     "name": "stdout",
     "output_type": "stream",
     "text": [
      "itkIndex3 ([0, 0, 0])\n"
     ]
    }
   ],
   "source": [
    "IndexType = itk.Index[3]\n",
    "index = IndexType()\n",
    "print(index)"
   ]
  },
  {
   "cell_type": "markdown",
   "metadata": {
    "slideshow": {
     "slide_type": "fragment"
    }
   },
   "source": [
    "* Define and use smart pointer object"
   ]
  },
  {
   "cell_type": "code",
   "execution_count": 15,
   "metadata": {
    "slideshow": {
     "slide_type": "fragment"
    }
   },
   "outputs": [
    {
     "name": "stdout",
     "output_type": "stream",
     "text": [
      "Image (0x2e71ec0)\n",
      "  RTTI typeinfo:   itk::Image<float, 2u>\n",
      "  Reference Count: 1\n",
      "  Modified Time: 798\n",
      "  Debug: Off\n",
      "  Object Name: \n",
      "  Observers: \n",
      "    none\n",
      "  Source: (none)\n",
      "  Source output name: (none)\n",
      "  Release Data: Off\n",
      "  Data Released: False\n",
      "  Global Release Data: Off\n",
      "  PipelineMTime: 0\n",
      "  UpdateMTime: 0\n",
      "  RealTimeStamp: 0 seconds \n",
      "  LargestPossibleRegion: \n",
      "    Dimension: 2\n",
      "    Index: [0, 0]\n",
      "    Size: [0, 0]\n",
      "  BufferedRegion: \n",
      "    Dimension: 2\n",
      "    Index: [0, 0]\n",
      "    Size: [0, 0]\n",
      "  RequestedRegion: \n",
      "    Dimension: 2\n",
      "    Index: [0, 0]\n",
      "    Size: [0, 0]\n",
      "  Spacing: [1, 1]\n",
      "  Origin: [0, 0]\n",
      "  Direction: \n",
      "1 0\n",
      "0 1\n",
      "\n",
      "  IndexToPointMatrix: \n",
      "1 0\n",
      "0 1\n",
      "\n",
      "  PointToIndexMatrix: \n",
      "1 0\n",
      "0 1\n",
      "\n",
      "  Inverse Direction: \n",
      "1 0\n",
      "0 1\n",
      "\n",
      "  PixelContainer: \n",
      "    ImportImageContainer (0x2650790)\n",
      "      RTTI typeinfo:   itk::ImportImageContainer<unsigned long, float>\n",
      "      Reference Count: 1\n",
      "      Modified Time: 799\n",
      "      Debug: Off\n",
      "      Object Name: \n",
      "      Observers: \n",
      "        none\n",
      "      Pointer: 0\n",
      "      Container manages memory: true\n",
      "      Size: 0\n",
      "      Capacity: 0\n",
      "\n"
     ]
    }
   ],
   "source": [
    "ImageType = itk.Image[itk.ctype('float'), 2]\n",
    "my_image = ImageType.New()\n",
    "print(my_image)"
   ]
  },
  {
   "cell_type": "markdown",
   "metadata": {
    "slideshow": {
     "slide_type": "subslide"
    }
   },
   "source": [
    "* Print list of available types"
   ]
  },
  {
   "cell_type": "code",
   "execution_count": 16,
   "metadata": {
    "slideshow": {
     "slide_type": "fragment"
    }
   },
   "outputs": [
    {
     "name": "stdout",
     "output_type": "stream",
     "text": [
      "<itkTemplate itk::Image>\n",
      "Options:\n",
      "  [<itkCType bool>, 2]\n",
      "  [<itkCType bool>, 3]\n",
      "  [<itkCType double>, 2]\n",
      "  [<itkCType double>, 3]\n",
      "  [<itkCType float>, 2]\n",
      "  [<itkCType float>, 3]\n",
      "  [<itkCType signed short>, 2]\n",
      "  [<itkCType signed short>, 3]\n",
      "  [<itkCType unsigned char>, 2]\n",
      "  [<itkCType unsigned char>, 3]\n",
      "  [<itkCType unsigned long long>, 2]\n",
      "  [<itkCType unsigned long long>, 3]\n",
      "  [<itkCType unsigned long>, 2]\n",
      "  [<itkCType unsigned long>, 3]\n",
      "  [<itkCType unsigned short>, 2]\n",
      "  [<itkCType unsigned short>, 3]\n",
      "  [<class 'itkCovariantVectorPython.itkCovariantVectorD2'>, 2]\n",
      "  [<class 'itkCovariantVectorPython.itkCovariantVectorD2'>, 3]\n",
      "  [<class 'itkCovariantVectorPython.itkCovariantVectorD3'>, 2]\n",
      "  [<class 'itkCovariantVectorPython.itkCovariantVectorD3'>, 3]\n",
      "  [<class 'itkCovariantVectorPython.itkCovariantVectorD4'>, 2]\n",
      "  [<class 'itkCovariantVectorPython.itkCovariantVectorD4'>, 3]\n",
      "  [<class 'itkCovariantVectorPython.itkCovariantVectorF2'>, 2]\n",
      "  [<class 'itkCovariantVectorPython.itkCovariantVectorF2'>, 3]\n",
      "  [<class 'itkCovariantVectorPython.itkCovariantVectorF3'>, 2]\n",
      "  [<class 'itkCovariantVectorPython.itkCovariantVectorF3'>, 3]\n",
      "  [<class 'itkCovariantVectorPython.itkCovariantVectorF4'>, 2]\n",
      "  [<class 'itkCovariantVectorPython.itkCovariantVectorF4'>, 3]\n",
      "  [<class 'itkFixedArrayPython.itkFixedArrayF2'>, 2]\n",
      "  [<class 'itkFixedArrayPython.itkFixedArrayF3'>, 3]\n",
      "  [<class 'itkOffsetPython.itkOffset2'>, 2]\n",
      "  [<class 'itkOffsetPython.itkOffset3'>, 3]\n",
      "  [<class 'itkRGBAPixelPython.itkRGBAPixelUC'>, 2]\n",
      "  [<class 'itkRGBAPixelPython.itkRGBAPixelUC'>, 3]\n",
      "  [<class 'itkRGBPixelPython.itkRGBPixelUC'>, 2]\n",
      "  [<class 'itkRGBPixelPython.itkRGBPixelUC'>, 3]\n",
      "  [<class 'itkSymmetricSecondRankTensorPython.itkSymmetricSecondRankTensorD2'>, 2]\n",
      "  [<class 'itkSymmetricSecondRankTensorPython.itkSymmetricSecondRankTensorD3'>, 3]\n",
      "  [<class 'itkVectorPython.itkVectorD2'>, 2]\n",
      "  [<class 'itkVectorPython.itkVectorD2'>, 3]\n",
      "  [<class 'itkVectorPython.itkVectorD2'>, 4]\n",
      "  [<class 'itkVectorPython.itkVectorD3'>, 2]\n",
      "  [<class 'itkVectorPython.itkVectorD3'>, 3]\n",
      "  [<class 'itkVectorPython.itkVectorD3'>, 4]\n",
      "  [<class 'itkVectorPython.itkVectorD4'>, 2]\n",
      "  [<class 'itkVectorPython.itkVectorD4'>, 3]\n",
      "  [<class 'itkVectorPython.itkVectorD4'>, 4]\n",
      "  [<class 'itkVectorPython.itkVectorF1'>, 2]\n",
      "  [<class 'itkVectorPython.itkVectorF1'>, 3]\n",
      "  [<class 'itkVectorPython.itkVectorF2'>, 2]\n",
      "  [<class 'itkVectorPython.itkVectorF2'>, 3]\n",
      "  [<class 'itkVectorPython.itkVectorF3'>, 2]\n",
      "  [<class 'itkVectorPython.itkVectorF3'>, 3]\n",
      "  [<class 'itkVectorPython.itkVectorF4'>, 2]\n",
      "  [<class 'itkVectorPython.itkVectorF4'>, 3]\n",
      "  [<class 'stdcomplexPython.stdcomplexF'>, 2]\n",
      "  [<class 'stdcomplexPython.stdcomplexF'>, 3]\n"
     ]
    }
   ],
   "source": [
    "itk.Image.GetTypes()"
   ]
  },
  {
   "cell_type": "markdown",
   "metadata": {
    "slideshow": {
     "slide_type": "subslide"
    }
   },
   "source": [
    "## Non-templated types\n",
    "\n",
    "* `MetaDataDictionary`"
   ]
  },
  {
   "cell_type": "code",
   "execution_count": 17,
   "metadata": {
    "slideshow": {
     "slide_type": "fragment"
    }
   },
   "outputs": [
    {
     "name": "stdout",
     "output_type": "stream",
     "text": [
      "'new_key' value: 5\n"
     ]
    }
   ],
   "source": [
    "d = itk.MetaDataDictionary()\n",
    "d['new_key'] = 5\n",
    "print(\"'new_key' value: %d\" % d['new_key'])"
   ]
  },
  {
   "cell_type": "markdown",
   "metadata": {
    "slideshow": {
     "slide_type": "subslide"
    }
   },
   "source": [
    "### Note for C++ developers\n",
    "* If the type required using a smart pointer in C++\n",
    " * Use the method `New()` to create the object.\n",
    " * Objects are allocated on the heap.\n",
    " * C++ class has `Pointer` type and `New()` method defined ([see doxygen documentation](https://itk.org/Insight/Doxygen/html/index.html)) \n",
    "* If it was not a smart pointer (e.g. `itk.Index`)\n",
    " * use `()`\n",
    " * Allocated on the stack."
   ]
  },
  {
   "cell_type": "markdown",
   "metadata": {
    "slideshow": {
     "slide_type": "slide"
    }
   },
   "source": [
    "## Filters with object oriented syntax"
   ]
  },
  {
   "cell_type": "code",
   "execution_count": 18,
   "metadata": {
    "slideshow": {
     "slide_type": "fragment"
    }
   },
   "outputs": [
    {
     "data": {
      "application/vnd.jupyter.widget-view+json": {
       "model_id": "307dc81677234aa38e2e8879a58de573",
       "version_major": 2,
       "version_minor": 0
      },
      "text/plain": [
       "Viewer(gradient_opacity=0.22, rendered_image=<itkImagePython.itkImageF2; proxy of <Swig Object of type 'itkIma…"
      ]
     },
     "metadata": {},
     "output_type": "display_data"
    }
   ],
   "source": [
    "PixelType = itk.ctype('float')\n",
    "image = itk.imread(\"data/CBCT-TextureInput.png\", PixelType)\n",
    "ImageType = itk.Image[PixelType, 2]\n",
    "median_filter = itk.MedianImageFilter[ImageType, ImageType].New()\n",
    "median_filter.SetInput(image)\n",
    "median_filter.SetRadius(4)\n",
    "median_filter.Update()\n",
    "view(median_filter.GetOutput())"
   ]
  },
  {
   "cell_type": "markdown",
   "metadata": {
    "slideshow": {
     "slide_type": "subslide"
    }
   },
   "source": [
    "### Object exercises\n",
    "\n",
    "* In the example above, change the radius of the filter and observe the result.\n",
    "* Replace filter with `MeanImageFilter`\n",
    "* Replace filter with `OtsuThresholdImageFilter`\n",
    "* Visualize results"
   ]
  },
  {
   "cell_type": "markdown",
   "metadata": {
    "slideshow": {
     "slide_type": "subslide"
    }
   },
   "source": [
    "Uncomment and change the radius of the filter and observe the result."
   ]
  },
  {
   "cell_type": "code",
   "execution_count": 19,
   "metadata": {
    "slideshow": {
     "slide_type": "-"
    }
   },
   "outputs": [
    {
     "data": {
      "application/vnd.jupyter.widget-view+json": {
       "model_id": "72307cf4802945caadb463aa6d6ad2e9",
       "version_major": 2,
       "version_minor": 0
      },
      "text/plain": [
       "Viewer(gradient_opacity=0.22, rendered_image=<itkImagePython.itkImageF2; proxy of <Swig Object of type 'itkIma…"
      ]
     },
     "metadata": {},
     "output_type": "display_data"
    }
   ],
   "source": [
    "median_filter = itk.MedianImageFilter[ImageType, ImageType].New()\n",
    "median_filter.SetInput(image)\n",
    "median_filter.SetRadius(5)\n",
    "median_filter.Update()\n",
    "median_filtered_image = median_filter.GetOutput()\n",
    "view(median_filtered_image)"
   ]
  },
  {
   "cell_type": "code",
   "execution_count": 20,
   "metadata": {
    "slideshow": {
     "slide_type": "-"
    }
   },
   "outputs": [],
   "source": [
    "# %load solutions/4_Using_ITK_in_Python_real_world_filters_MedianFilter.py"
   ]
  },
  {
   "cell_type": "markdown",
   "metadata": {
    "slideshow": {
     "slide_type": "subslide"
    }
   },
   "source": [
    "Uncomment and edit to use `MeanImageFilter`"
   ]
  },
  {
   "cell_type": "code",
   "execution_count": 21,
   "metadata": {
    "slideshow": {
     "slide_type": "-"
    }
   },
   "outputs": [
    {
     "data": {
      "application/vnd.jupyter.widget-view+json": {
       "model_id": "905a82fec82c4f6e8efb9b0070c09791",
       "version_major": 2,
       "version_minor": 0
      },
      "text/plain": [
       "Viewer(gradient_opacity=0.22, rendered_image=<itkImagePython.itkImageF2; proxy of <Swig Object of type 'itkIma…"
      ]
     },
     "metadata": {},
     "output_type": "display_data"
    }
   ],
   "source": [
    "mean_filter = itk.MeanImageFilter[ImageType, ImageType].New()\n",
    "mean_filter.SetInput(image)\n",
    "mean_filter.SetRadius(10)\n",
    "mean_filter.Update()\n",
    "mean_filtered_image = mean_filter.GetOutput()\n",
    "view(mean_filtered_image)"
   ]
  },
  {
   "cell_type": "code",
   "execution_count": 22,
   "metadata": {
    "slideshow": {
     "slide_type": "-"
    }
   },
   "outputs": [],
   "source": [
    "# %load solutions/4_Using_ITK_in_Python_real_world_filters_MeanFilter.py"
   ]
  },
  {
   "cell_type": "markdown",
   "metadata": {
    "slideshow": {
     "slide_type": "subslide"
    }
   },
   "source": [
    "Uncomment and replace filter with `OtsuThresholdImageFilter`"
   ]
  },
  {
   "cell_type": "code",
   "execution_count": 23,
   "metadata": {
    "slideshow": {
     "slide_type": "-"
    }
   },
   "outputs": [
    {
     "data": {
      "application/vnd.jupyter.widget-view+json": {
       "model_id": "cd763237716042acb7ba90398cbf6411",
       "version_major": 2,
       "version_minor": 0
      },
      "text/plain": [
       "Viewer(gradient_opacity=0.22, rendered_image=<itkImagePython.itkImageSS2; proxy of <Swig Object of type 'itkIm…"
      ]
     },
     "metadata": {},
     "output_type": "display_data"
    }
   ],
   "source": [
    "InputImageType = itk.Image[itk.ctype('float'), 2]\n",
    "OutputImageType = itk.Image[itk.ctype('short'), 2]\n",
    "otsu_filter = itk.OtsuThresholdImageFilter[InputImageType, OutputImageType].New()\n",
    "otsu_filter.SetInput(image)\n",
    "otsu_filter.Update()\n",
    "otsu_filtered_image = otsu_filter.GetOutput()\n",
    "view(otsu_filtered_image)"
   ]
  },
  {
   "cell_type": "code",
   "execution_count": 24,
   "metadata": {
    "slideshow": {
     "slide_type": "-"
    }
   },
   "outputs": [],
   "source": [
    "# %load solutions/4_Using_ITK_in_Python_real_world_filters_OtsuFilter.py"
   ]
  },
  {
   "cell_type": "markdown",
   "metadata": {
    "slideshow": {
     "slide_type": "subslide"
    }
   },
   "source": [
    "## ITK object summary\n",
    "* Has `New()` method?\n",
    "* Is templated?\n",
    "* Call `Update()` with filters!"
   ]
  },
  {
   "cell_type": "markdown",
   "metadata": {
    "slideshow": {
     "slide_type": "slide"
    }
   },
   "source": [
    "## Automatic type deduction"
   ]
  },
  {
   "cell_type": "markdown",
   "metadata": {
    "slideshow": {
     "slide_type": "fragment"
    }
   },
   "source": [
    "* Often the filter type can automatically be deduced from the input of the filter:"
   ]
  },
  {
   "cell_type": "code",
   "execution_count": 25,
   "metadata": {
    "slideshow": {
     "slide_type": "fragment"
    }
   },
   "outputs": [
    {
     "data": {
      "application/vnd.jupyter.widget-view+json": {
       "model_id": "39e6eca82feb4c35b477dd9a1362d0da",
       "version_major": 2,
       "version_minor": 0
      },
      "text/plain": [
       "Viewer(gradient_opacity=0.22, rendered_image=<itkImagePython.itkImageF2; proxy of <Swig Object of type 'itkIma…"
      ]
     },
     "metadata": {},
     "output_type": "display_data"
    }
   ],
   "source": [
    "image = itk.imread(\"data/itk-logo.png\", itk.F)\n",
    "# Filter types deduced from the image type.\n",
    "median_filter = itk.MedianImageFilter.New(image, radius = 3)\n",
    "median_filter.Update()\n",
    "view(median_filter.GetOutput())"
   ]
  },
  {
   "cell_type": "markdown",
   "metadata": {
    "slideshow": {
     "slide_type": "fragment"
    }
   },
   "source": [
    "* Note the absence of image type"
   ]
  },
  {
   "cell_type": "markdown",
   "metadata": {
    "slideshow": {
     "slide_type": "subslide"
    }
   },
   "source": [
    "### Type deduction exercises\n",
    "\n",
    "* Using the previous `MeanImageFilter` exercise, use the type deduction method to instantiate filter.\n",
    "* Using the previous `OtsuThresholdImageFilter` exercise, use the type deduction method to instantiate filter.\n",
    "* What is the image type of the `OtsuThresholdImageFilter` output?"
   ]
  },
  {
   "cell_type": "markdown",
   "metadata": {
    "slideshow": {
     "slide_type": "subslide"
    }
   },
   "source": [
    "* Use the type deduction method to instantiate filter."
   ]
  },
  {
   "cell_type": "code",
   "execution_count": 26,
   "metadata": {
    "slideshow": {
     "slide_type": "-"
    }
   },
   "outputs": [
    {
     "data": {
      "application/vnd.jupyter.widget-view+json": {
       "model_id": "80538b512194452fa9fc5d470580ded2",
       "version_major": 2,
       "version_minor": 0
      },
      "text/plain": [
       "Viewer(gradient_opacity=0.22, rendered_image=<itkImagePython.itkImageF2; proxy of <Swig Object of type 'itkIma…"
      ]
     },
     "metadata": {},
     "output_type": "display_data"
    }
   ],
   "source": [
    "mean_filter = itk.MeanImageFilter.New(image, radius=5)\n",
    "mean_filter.Update()\n",
    "mean_filtered_image = mean_filter.GetOutput()\n",
    "view(mean_filtered_image)"
   ]
  },
  {
   "cell_type": "code",
   "execution_count": 27,
   "metadata": {
    "slideshow": {
     "slide_type": "-"
    }
   },
   "outputs": [],
   "source": [
    "# %load solutions/4_Using_ITK_in_Python_real_world_filters_MeanFilter-TypeDeduction.py"
   ]
  },
  {
   "cell_type": "markdown",
   "metadata": {
    "slideshow": {
     "slide_type": "subslide"
    }
   },
   "source": [
    "* Using the previous `OtsuThresholdImageFilter` exercise, use the type deduction method to instantiate filter.\n",
    "* What is the image type of the `OtsuThresholdImageFilter` output?"
   ]
  },
  {
   "cell_type": "code",
   "execution_count": 28,
   "metadata": {
    "slideshow": {
     "slide_type": "-"
    }
   },
   "outputs": [
    {
     "data": {
      "application/vnd.jupyter.widget-view+json": {
       "model_id": "c848d63c49804b73986f9e2489582b58",
       "version_major": 2,
       "version_minor": 0
      },
      "text/plain": [
       "Viewer(gradient_opacity=0.22, rendered_image=<itkImagePython.itkImageSS2; proxy of <Swig Object of type 'itkIm…"
      ]
     },
     "metadata": {},
     "output_type": "display_data"
    }
   ],
   "source": [
    "otsu_filter = itk.OtsuThresholdImageFilter.New(image)\n",
    "otsu_filter.Update()\n",
    "otsu_filtered_image = otsu_filter.GetOutput()\n",
    "view(otsu_filtered_image)"
   ]
  },
  {
   "cell_type": "code",
   "execution_count": 29,
   "metadata": {
    "slideshow": {
     "slide_type": "-"
    }
   },
   "outputs": [],
   "source": [
    "# %load solutions/4_Using_ITK_in_Python_real_world_filters_OtsuFilter-TypeDeduction.py"
   ]
  },
  {
   "cell_type": "markdown",
   "metadata": {
    "slideshow": {
     "slide_type": "slide"
    }
   },
   "source": [
    "## Simplify your code (and your life)"
   ]
  },
  {
   "cell_type": "markdown",
   "metadata": {
    "slideshow": {
     "slide_type": "subslide"
    }
   },
   "source": [
    "### Objects accessible by index (non exhaustive)\n",
    "* MetaDataDictionary\n",
    "* Index\n",
    "* Point\n",
    "* Vector\n",
    "* Size"
   ]
  },
  {
   "cell_type": "code",
   "execution_count": 30,
   "metadata": {
    "slideshow": {
     "slide_type": "fragment"
    }
   },
   "outputs": [
    {
     "name": "stdout",
     "output_type": "stream",
     "text": [
      "index value at position 0: 1\n"
     ]
    }
   ],
   "source": [
    "# Create an `Index` of dimension 3\n",
    "index = itk.Index[3]()\n",
    "index[0]=1\n",
    "print(\"index value at position 0: %d\"%index[0])"
   ]
  },
  {
   "cell_type": "markdown",
   "metadata": {
    "slideshow": {
     "slide_type": "subslide"
    }
   },
   "source": [
    "* Matrix is not, but you can get values with `()`"
   ]
  },
  {
   "cell_type": "code",
   "execution_count": 31,
   "metadata": {
    "slideshow": {
     "slide_type": "fragment"
    }
   },
   "outputs": [
    {
     "name": "stdout",
     "output_type": "stream",
     "text": [
      "Value at coordinate 0,0: 0.000000\n"
     ]
    }
   ],
   "source": [
    "# Create a 3x3 `Matrix` of type float\n",
    "m = itk.Matrix[itk.F,3,3]()\n",
    "print(\"Value at coordinate 0,0: %f\" % m(0,0))"
   ]
  },
  {
   "cell_type": "markdown",
   "metadata": {
    "slideshow": {
     "slide_type": "fragment"
    }
   },
   "source": [
    "* `itk.VariableLengthVector[itk.D]()` is neither.\n",
    "* Need to set and get values using the `SetElement` and `GetElement` methods."
   ]
  },
  {
   "cell_type": "code",
   "execution_count": 32,
   "metadata": {
    "slideshow": {
     "slide_type": "fragment"
    }
   },
   "outputs": [
    {
     "name": "stdout",
     "output_type": "stream",
     "text": [
      "Value at coordinate 0,0: 1.000000\n"
     ]
    }
   ],
   "source": [
    "# Create a `VariableLengthVector of type `double` and initialize size to `1`\n",
    "v = itk.VariableLengthVector[itk.D](1)\n",
    "v.SetElement(0,1)\n",
    "print(\"Value at coordinate 0,0: %f\" % v.GetElement(0))"
   ]
  },
  {
   "cell_type": "markdown",
   "metadata": {
    "slideshow": {
     "slide_type": "subslide"
    }
   },
   "source": [
    "### Use Python objects instead of ITK objects\n",
    "\n",
    "* Some filters expect inputs of a certain type"
   ]
  },
  {
   "cell_type": "code",
   "execution_count": 33,
   "metadata": {
    "slideshow": {
     "slide_type": "fragment"
    }
   },
   "outputs": [
    {
     "name": "stdout",
     "output_type": "stream",
     "text": [
      "Help on method itkImageBase2_SetOrigin in module _itkImagePython:\n",
      "\n",
      "itkImageBase2_SetOrigin(...) method of itkImagePython.itkImageF2 instance\n",
      "    SetOrigin(itkPointD2 _arg)\n",
      "    SetOrigin(double const * origin)\n",
      "    itkImageBase2_SetOrigin(itkImageBase2 self, float const * origin)\n",
      "    \n",
      "    Set the origin of the\n",
      "    image. The origin is the geometric coordinates of the image origin\n",
      "    (pixel [0,0]). It is stored internally as SpacePrecisionType but may\n",
      "    be set from float or double. See:   GetOrigin()\n",
      "\n"
     ]
    }
   ],
   "source": [
    "image = ImageType.New()\n",
    "help(image.SetOrigin)"
   ]
  },
  {
   "cell_type": "markdown",
   "metadata": {
    "slideshow": {
     "slide_type": "subslide"
    }
   },
   "source": [
    "* Use Python `list` instead (for `Index`, `Point`, `Vector`)"
   ]
  },
  {
   "cell_type": "code",
   "execution_count": 34,
   "metadata": {
    "slideshow": {
     "slide_type": "fragment"
    }
   },
   "outputs": [
    {
     "name": "stdout",
     "output_type": "stream",
     "text": [
      "Image origin: itkPointD2 ([2, 10])\n"
     ]
    }
   ],
   "source": [
    "image.SetOrigin([2,10])\n",
    "print(\"Image origin: %s\" % str(image.GetOrigin()))"
   ]
  },
  {
   "cell_type": "markdown",
   "metadata": {
    "slideshow": {
     "slide_type": "subslide"
    }
   },
   "source": [
    "## Appendix"
   ]
  },
  {
   "cell_type": "markdown",
   "metadata": {
    "slideshow": {
     "slide_type": "fragment"
    }
   },
   "source": [
    "### Functions to know\n",
    "* `itk.imread(file_name [, pixel_type])`\n",
    "* `itk.imwrite(image, file_name [, compression])`\n",
    "* `itk.array_from_image(image)` and `itk.array_view_from_image(image)`\n",
    "* `itk.image_from_array(arr)` and `itk.image_view_from_array(arr)`"
   ]
  },
  {
   "cell_type": "markdown",
   "metadata": {
    "slideshow": {
     "slide_type": "fragment"
    }
   },
   "source": [
    "### Pixel types - Two options\n",
    "* itk.ctype('float'), itk.ctype('unsigned char')\n",
    "* itk.F, itk.UC"
   ]
  },
  {
   "cell_type": "markdown",
   "metadata": {
    "slideshow": {
     "slide_type": "skip"
    }
   },
   "source": [
    "### Convenience functions\n",
    "* `itk.size(image)`\n",
    "* `itk.spacing(image)`\n",
    "* `itk.origin(image)`\n",
    "* `itk.index(image)`\n",
    "* `itk.physical_size(image)`"
   ]
  },
  {
   "cell_type": "markdown",
   "metadata": {
    "slideshow": {
     "slide_type": "slide"
    }
   },
   "source": [
    "## Fixing errors"
   ]
  },
  {
   "cell_type": "markdown",
   "metadata": {
    "slideshow": {
     "slide_type": "subslide"
    }
   },
   "source": [
    "### Unsupported (image) types\n",
    "* typical error message:"
   ]
  },
  {
   "cell_type": "markdown",
   "metadata": {
    "slideshow": {
     "slide_type": "fragment"
    }
   },
   "source": [
    "KeyError: \"itkTemplate : No template [<class 'itkImagePython.itkImageD2'>] for the itk::ImageFileReader class\""
   ]
  },
  {
   "cell_type": "code",
   "execution_count": 35,
   "metadata": {
    "slideshow": {
     "slide_type": "fragment"
    }
   },
   "outputs": [
    {
     "name": "stdout",
     "output_type": "stream",
     "text": [
      "Image (0x410b510)\n",
      "  RTTI typeinfo:   itk::Image<unsigned char, 2u>\n",
      "  Reference Count: 1\n",
      "  Modified Time: 2616\n",
      "  Debug: Off\n",
      "  Object Name: \n",
      "  Observers: \n",
      "    none\n",
      "  Source: (none)\n",
      "  Source output name: (none)\n",
      "  Release Data: Off\n",
      "  Data Released: False\n",
      "  Global Release Data: Off\n",
      "  PipelineMTime: 2460\n",
      "  UpdateMTime: 2615\n",
      "  RealTimeStamp: 0 seconds \n",
      "  LargestPossibleRegion: \n",
      "    Dimension: 2\n",
      "    Index: [0, 0]\n",
      "    Size: [181, 217]\n",
      "  BufferedRegion: \n",
      "    Dimension: 2\n",
      "    Index: [0, 0]\n",
      "    Size: [181, 217]\n",
      "  RequestedRegion: \n",
      "    Dimension: 2\n",
      "    Index: [0, 0]\n",
      "    Size: [181, 217]\n",
      "  Spacing: [1, 1]\n",
      "  Origin: [0, 0]\n",
      "  Direction: \n",
      "1 0\n",
      "0 1\n",
      "\n",
      "  IndexToPointMatrix: \n",
      "1 0\n",
      "0 1\n",
      "\n",
      "  PointToIndexMatrix: \n",
      "1 0\n",
      "0 1\n",
      "\n",
      "  Inverse Direction: \n",
      "1 0\n",
      "0 1\n",
      "\n",
      "  PixelContainer: \n",
      "    ImportImageContainer (0x1aaa740)\n",
      "      RTTI typeinfo:   itk::ImportImageContainer<unsigned long, unsigned char>\n",
      "      Reference Count: 1\n",
      "      Modified Time: 2612\n",
      "      Debug: Off\n",
      "      Object Name: \n",
      "      Observers: \n",
      "        none\n",
      "      Pointer: 0x430c2f0\n",
      "      Container manages memory: true\n",
      "      Size: 39277\n",
      "      Capacity: 39277\n",
      "\n"
     ]
    }
   ],
   "source": [
    "image = itk.imread(\"data/BrainProtonDensitySlice.png\", itk.UC)\n",
    "print(image)"
   ]
  },
  {
   "cell_type": "markdown",
   "metadata": {
    "slideshow": {
     "slide_type": "fragment"
    }
   },
   "source": [
    "* Select different input image type:"
   ]
  },
  {
   "cell_type": "code",
   "execution_count": 36,
   "metadata": {
    "slideshow": {
     "slide_type": "fragment"
    }
   },
   "outputs": [],
   "source": [
    "image = itk.imread(\"data/itk-logo.png\", itk.F)"
   ]
  },
  {
   "cell_type": "markdown",
   "metadata": {
    "slideshow": {
     "slide_type": "fragment"
    }
   },
   "source": [
    "* Cast to a different image type:"
   ]
  },
  {
   "cell_type": "code",
   "execution_count": 37,
   "metadata": {
    "slideshow": {
     "slide_type": "fragment"
    }
   },
   "outputs": [],
   "source": [
    "InputImageType = itk.Image[itk.F, 2]\n",
    "OutputImageType = itk.Image[itk.UC, 2]\n",
    "cast_filter = itk.CastImageFilter[InputImageType, OutputImageType].New(image)\n",
    "cast_filter.Update()"
   ]
  },
  {
   "cell_type": "markdown",
   "metadata": {
    "slideshow": {
     "slide_type": "skip"
    }
   },
   "source": [
    "* Converting a NumPy array with too many components along one dimension:\n",
    " * Use `itk.VectorImage`\n",
    " * Save it using `itk.imwrite()`"
   ]
  },
  {
   "cell_type": "markdown",
   "metadata": {
    "slideshow": {
     "slide_type": "skip"
    }
   },
   "source": [
    "## Create your own pipeline\n",
    "\n",
    "* Why?\n",
    " * Create a pipeline in a Python function.\n",
    " * Return the last filter output without updating it.\n",
    " * Error: Not be able to run the pipeline outside of the function."
   ]
  },
  {
   "cell_type": "markdown",
   "metadata": {
    "slideshow": {
     "slide_type": "skip"
    }
   },
   "source": [
    "* This does not work:"
   ]
  },
  {
   "cell_type": "code",
   "execution_count": 38,
   "metadata": {
    "slideshow": {
     "slide_type": "skip"
    }
   },
   "outputs": [],
   "source": [
    "  def generateSource():\n",
    "    reader = itk.ImageReader[ImageType].New()\n",
    "    ...\n",
    "    itkToVtkFilter = itk.ImageToVTKImageFilter[ImageType].New()\n",
    "    itkToVtkFilter.SetInput(reader.GetOutput())\n",
    "    return itkToVtkFilter.GetImporter()\n",
    " \n",
    "  def main():\n",
    "    source = generateSource()\n",
    "    source.Update()"
   ]
  },
  {
   "cell_type": "markdown",
   "metadata": {
    "slideshow": {
     "slide_type": "skip"
    }
   },
   "source": [
    "* Instead, you can create a pipeline, and use it where convenient:"
   ]
  },
  {
   "cell_type": "code",
   "execution_count": 39,
   "metadata": {
    "slideshow": {
     "slide_type": "skip"
    }
   },
   "outputs": [
    {
     "data": {
      "application/vnd.jupyter.widget-view+json": {
       "model_id": "735d80ed65fb4c5391225375e0b323b7",
       "version_major": 2,
       "version_minor": 0
      },
      "text/plain": [
       "Viewer(gradient_opacity=0.22, rendered_image=<itkImagePython.itkImageUC2; proxy of <Swig Object of type 'itkIm…"
      ]
     },
     "metadata": {},
     "output_type": "display_data"
    }
   ],
   "source": [
    "def my_func(ImageType):\n",
    "    my_pipeline = itk.pipeline()\n",
    "    mean_filter = itk.MeanImageFilter[ImageType, ImageType].New()\n",
    "    my_pipeline.connect(mean_filter)\n",
    "    my_pipeline.expose(\"Radius\")\n",
    "    threshold_filter = itk.ThresholdImageFilter[ImageType].New()\n",
    "    my_pipeline.connect(threshold_filter)\n",
    "    my_pipeline.expose(\"Lower\")\n",
    "    return my_pipeline\n",
    "\n",
    "PixelType = itk.UC\n",
    "ImageType = itk.Image[PixelType, 2]\n",
    "image = itk.imread(\"data/CBCT-TextureInput.png\", PixelType)\n",
    "\n",
    "my_pipeline = my_func(ImageType)\n",
    "my_pipeline.SetInput(image)\n",
    "my_pipeline.SetRadius(5)\n",
    "my_pipeline.SetLower(100)\n",
    "my_pipeline.Update()\n",
    "\n",
    "view(my_pipeline.GetOutput())"
   ]
  },
  {
   "cell_type": "markdown",
   "metadata": {
    "slideshow": {
     "slide_type": "skip"
    }
   },
   "source": [
    "## Very Advanced topic"
   ]
  },
  {
   "cell_type": "markdown",
   "metadata": {
    "slideshow": {
     "slide_type": "skip"
    }
   },
   "source": [
    "* disable lazy loading:"
   ]
  },
  {
   "cell_type": "code",
   "execution_count": 40,
   "metadata": {
    "slideshow": {
     "slide_type": "skip"
    }
   },
   "outputs": [],
   "source": [
    "itk.force_load()"
   ]
  },
  {
   "cell_type": "markdown",
   "metadata": {
    "slideshow": {
     "slide_type": "skip"
    }
   },
   "source": [
    "* call_back while importing ITK"
   ]
  },
  {
   "cell_type": "code",
   "execution_count": 2,
   "metadata": {
    "slideshow": {
     "slide_type": "skip"
    }
   },
   "outputs": [],
   "source": [
    "import itk\n",
    "itk.auto_progress(True)\n",
    "itk.force_load()\n",
    "itk.auto_progress(False)"
   ]
  },
  {
   "cell_type": "markdown",
   "metadata": {
    "slideshow": {
     "slide_type": "skip"
    }
   },
   "source": [
    "* Cast and downcast ITK objects"
   ]
  },
  {
   "cell_type": "code",
   "execution_count": 3,
   "metadata": {
    "slideshow": {
     "slide_type": "skip"
    }
   },
   "outputs": [
    {
     "data": {
      "text/plain": [
       "<itkMedianImageFilterPython.itkMedianImageFilterIF2IF2; proxy of <Swig Object of type 'itkMedianImageFilterIF2IF2 *' at 0x7feed075d060> >"
      ]
     },
     "execution_count": 3,
     "metadata": {},
     "output_type": "execute_result"
    }
   ],
   "source": [
    "ImageType = itk.Image[itk.F, 2]\n",
    "filter = itk.MedianImageFilter[ImageType, ImageType].New()\n",
    "casted_filter = itk.ProcessObject.cast(filter)\n",
    "itk.down_cast(casted_filter)"
   ]
  },
  {
   "cell_type": "markdown",
   "metadata": {
    "slideshow": {
     "slide_type": "slide"
    }
   },
   "source": [
    "# NumPy and scikit-learn interactions\n",
    "\n",
    "* ITK is great at reading and processing images\n",
    "* ITK does not show images\n",
    "* Some algorithms are not available in ITK\n",
    "* NumPy is great at processing arrays in simple ways\n",
    "* NumPy arrays can be read by many other Python packages\n",
    "    * matplotlib\n",
    "    * scikit-learn"
   ]
  },
  {
   "cell_type": "markdown",
   "metadata": {
    "slideshow": {
     "slide_type": "subslide"
    }
   },
   "source": [
    "Let's convert an ITK image to a NumPy array\n",
    "\n",
    "* Load an image with ITK\n",
    "* Convert the image to a NumPy array\n",
    "* Check some values in the image"
   ]
  },
  {
   "cell_type": "code",
   "execution_count": 4,
   "metadata": {
    "slideshow": {
     "slide_type": "subslide"
    }
   },
   "outputs": [],
   "source": [
    "import itk\n",
    "from itkwidgets import view\n",
    "import numpy as np\n",
    "import matplotlib.pyplot as plt\n",
    "%matplotlib inline"
   ]
  },
  {
   "cell_type": "code",
   "execution_count": 5,
   "metadata": {
    "slideshow": {
     "slide_type": "subslide"
    }
   },
   "outputs": [
    {
     "name": "stdout",
     "output_type": "stream",
     "text": [
      "[0 0 0 0]\n"
     ]
    }
   ],
   "source": [
    "im=itk.imread(\"data/itk-logo.png\")\n",
    "arr=itk.array_from_image(im)\n",
    "print(arr[1,1])\n"
   ]
  },
  {
   "cell_type": "markdown",
   "metadata": {
    "slideshow": {
     "slide_type": "subslide"
    }
   },
   "source": [
    "Let go the other way around: NumPy array to an ITK image. First, we create an array with some values."
   ]
  },
  {
   "cell_type": "code",
   "execution_count": 6,
   "metadata": {
    "slideshow": {
     "slide_type": "fragment"
    }
   },
   "outputs": [],
   "source": [
    "def make_gaussian(size, fwhm = 3, center=None):\n",
    "    \"\"\" Make a square gaussian kernel.\n",
    "\n",
    "    size is the length of a side of the square\n",
    "    fwhm is full-width-half-maximum, which\n",
    "    can be thought of as an effective radius.\n",
    "    \"\"\"\n",
    "\n",
    "    x = np.arange(0, size, 1, np.float32)\n",
    "    y = x[:,np.newaxis]\n",
    "\n",
    "    if center is None:\n",
    "        x0 = y0 = size // 2\n",
    "    else:\n",
    "        x0 = center[0]\n",
    "        y0 = center[1]\n",
    "\n",
    "    return np.exp(-4*np.log(2) * ((x-x0)**2 + (y-y0)**2) / fwhm**2)\n",
    "\n",
    "\n",
    "arr = make_gaussian(11)\n"
   ]
  },
  {
   "cell_type": "markdown",
   "metadata": {
    "slideshow": {
     "slide_type": "subslide"
    }
   },
   "source": [
    "Let's look at the array. We use matplotlib to do this."
   ]
  },
  {
   "cell_type": "code",
   "execution_count": 7,
   "metadata": {
    "slideshow": {
     "slide_type": "fragment"
    }
   },
   "outputs": [
    {
     "data": {
      "text/plain": [
       "(-0.5, 10.5, 10.5, -0.5)"
      ]
     },
     "execution_count": 7,
     "metadata": {},
     "output_type": "execute_result"
    },
    {
     "data": {
      "image/png": "[encoded data removed]",
      "text/plain": [
       "<Figure size 432x288 with 1 Axes>"
      ]
     },
     "metadata": {
      "needs_background": "light"
     },
     "output_type": "display_data"
    }
   ],
   "source": [
    "plt.gray()\n",
    "plt.imshow(arr)\n",
    "plt.axis('off')"
   ]
  },
  {
   "cell_type": "markdown",
   "metadata": {
    "slideshow": {
     "slide_type": "subslide"
    }
   },
   "source": [
    "And now, let's convert it to an ITK image."
   ]
  },
  {
   "cell_type": "code",
   "execution_count": 8,
   "metadata": {
    "slideshow": {
     "slide_type": "fragment"
    }
   },
   "outputs": [],
   "source": [
    "im = itk.image_view_from_array(arr)"
   ]
  },
  {
   "cell_type": "markdown",
   "metadata": {
    "slideshow": {
     "slide_type": "subslide"
    }
   },
   "source": [
    "We can now look at pixel values..."
   ]
  },
  {
   "cell_type": "code",
   "execution_count": 9,
   "metadata": {
    "slideshow": {
     "slide_type": "fragment"
    }
   },
   "outputs": [
    {
     "data": {
      "text/plain": [
       "1.0"
      ]
     },
     "execution_count": 9,
     "metadata": {},
     "output_type": "execute_result"
    }
   ],
   "source": [
    "im.GetPixel([5,5])"
   ]
  },
  {
   "cell_type": "markdown",
   "metadata": {
    "slideshow": {
     "slide_type": "subslide"
    }
   },
   "source": [
    " or call any ITK filter on the image."
   ]
  },
  {
   "cell_type": "code",
   "execution_count": 10,
   "metadata": {
    "slideshow": {
     "slide_type": "fragment"
    }
   },
   "outputs": [],
   "source": [
    "filtered_image=itk.median_image_filter(im, radius=[2,2])"
   ]
  },
  {
   "cell_type": "markdown",
   "metadata": {
    "slideshow": {
     "slide_type": "skip"
    }
   },
   "source": [
    "We can compare some pixel values to see the effect of the filter."
   ]
  },
  {
   "cell_type": "code",
   "execution_count": 11,
   "metadata": {
    "slideshow": {
     "slide_type": "skip"
    }
   },
   "outputs": [
    {
     "name": "stdout",
     "output_type": "stream",
     "text": [
      "Original image pixel value: 1.000000\n",
      "Filtered image pixel value: 0.291632\n"
     ]
    }
   ],
   "source": [
    "print(\"Original image pixel value: %f\"%im.GetPixel([5,5]))\n",
    "print(\"Filtered image pixel value: %f\"%filtered_image.GetPixel([5,5]))"
   ]
  },
  {
   "cell_type": "markdown",
   "metadata": {
    "slideshow": {
     "slide_type": "subslide"
    }
   },
   "source": [
    "Let's modify a pixel in our image, and look at the original array."
   ]
  },
  {
   "cell_type": "code",
   "execution_count": 12,
   "metadata": {
    "slideshow": {
     "slide_type": "fragment"
    }
   },
   "outputs": [
    {
     "data": {
      "text/plain": [
       "<matplotlib.image.AxesImage at 0x7fee4fa0a8d0>"
      ]
     },
     "execution_count": 12,
     "metadata": {},
     "output_type": "execute_result"
    },
    {
     "data": {
      "image/png": "[encoded data removed]",
      "text/plain": [
       "<Figure size 432x288 with 1 Axes>"
      ]
     },
     "metadata": {
      "needs_background": "light"
     },
     "output_type": "display_data"
    }
   ],
   "source": [
    "im.SetPixel([5,5], 0)\n",
    "plt.imshow(arr)\n"
   ]
  },
  {
   "cell_type": "markdown",
   "metadata": {
    "slideshow": {
     "slide_type": "subslide"
    }
   },
   "source": [
    "Now let's load an image and show it with matplotlib."
   ]
  },
  {
   "cell_type": "code",
   "execution_count": 13,
   "metadata": {
    "slideshow": {
     "slide_type": "fragment"
    }
   },
   "outputs": [
    {
     "data": {
      "text/plain": [
       "<matplotlib.image.AxesImage at 0x7fee4f9f09e8>"
      ]
     },
     "execution_count": 13,
     "metadata": {},
     "output_type": "execute_result"
    },
    {
     "data": {
      "image/png": "[encoded data removed]",
      "text/plain": [
       "<Figure size 432x288 with 1 Axes>"
      ]
     },
     "metadata": {
      "needs_background": "light"
     },
     "output_type": "display_data"
    }
   ],
   "source": [
    "im=itk.imread(\"data/CBCT-TextureInput.png\", itk.UC)\n",
    "arr = itk.array_view_from_image(im)\n",
    "plt.imshow(arr)"
   ]
  },
  {
   "cell_type": "markdown",
   "metadata": {
    "slideshow": {
     "slide_type": "subslide"
    }
   },
   "source": [
    "We can modify a value in the array and look at the value of this pixel in the image."
   ]
  },
  {
   "cell_type": "code",
   "execution_count": 14,
   "metadata": {
    "slideshow": {
     "slide_type": "fragment"
    }
   },
   "outputs": [
    {
     "name": "stdout",
     "output_type": "stream",
     "text": [
      "Original image pixel value:146\n",
      "Modified image pixel value:0\n"
     ]
    }
   ],
   "source": [
    "print(\"Original image pixel value:%d\"%im.GetPixel([270,270]))\n",
    "arr[270,270] = 0\n",
    "print(\"Modified image pixel value:%d\"%im.GetPixel([270,270]))"
   ]
  },
  {
   "cell_type": "markdown",
   "metadata": {
    "slideshow": {
     "slide_type": "slide"
    }
   },
   "source": [
    "## Views vs copy"
   ]
  },
  {
   "cell_type": "markdown",
   "metadata": {
    "slideshow": {
     "slide_type": "subslide"
    }
   },
   "source": [
    "So far we have used `itk.array_view_from_image()` and `itk.image_view_from_array()`. You can see the keyword `view` in both the names of these functions."
   ]
  },
  {
   "cell_type": "markdown",
   "metadata": {
    "slideshow": {
     "slide_type": "subslide"
    }
   },
   "source": [
    "Let's compare the result of `itk.array_view_from_image()` and `itk.array_from_image()`"
   ]
  },
  {
   "cell_type": "code",
   "execution_count": 15,
   "metadata": {
    "slideshow": {
     "slide_type": "subslide"
    }
   },
   "outputs": [
    {
     "data": {
      "text/plain": [
       "Text(0.5, 1.0, 'Copy')"
      ]
     },
     "execution_count": 15,
     "metadata": {},
     "output_type": "execute_result"
    },
    {
     "data": {
      "image/png": "[encoded data removed]",
      "text/plain": [
       "<Figure size 432x288 with 2 Axes>"
      ]
     },
     "metadata": {
      "needs_background": "light"
     },
     "output_type": "display_data"
    }
   ],
   "source": [
    "gaussian=itk.gaussian_image_source(Size=11, Sigma=3, Scale=100, Mean=[5,5])\n",
    "arr_view_gaussian = itk.array_view_from_image(gaussian)\n",
    "arr_gaussian = itk.array_from_image(gaussian)\n",
    "gaussian.SetPixel([5,5],0)\n",
    "plt.subplot(1, 2, 1)\n",
    "plt.imshow(arr_view_gaussian)\n",
    "plt.title(\"View\")\n",
    "plt.subplot(1, 2, 2)\n",
    "plt.imshow(arr_gaussian)\n",
    "plt.title(\"Copy\")"
   ]
  },
  {
   "cell_type": "markdown",
   "metadata": {
    "slideshow": {
     "slide_type": "subslide"
    }
   },
   "source": [
    "The `view` functions does not copy the memory. It shares the same information. In some cases, it is better not to copy the memory (speed, memory limitation). In other cases, it is better to copy the memory (original image needs to be used later)"
   ]
  },
  {
   "cell_type": "markdown",
   "metadata": {
    "slideshow": {
     "slide_type": "fragment"
    }
   },
   "source": [
    "Copies and views work in both directions: From NumPy to ITK and from ITK to NumPy."
   ]
  },
  {
   "cell_type": "code",
   "execution_count": 16,
   "metadata": {
    "slideshow": {
     "slide_type": "subslide"
    }
   },
   "outputs": [
    {
     "data": {
      "application/vnd.jupyter.widget-view+json": {
       "model_id": "a80c687031f5406bb560065133ad2547",
       "version_major": 2,
       "version_minor": 0
      },
      "text/plain": [
       "Viewer(gradient_opacity=0.22, rendered_image=<itkImagePython.itkImageSS2; proxy of <Swig Object of type 'itkIm…"
      ]
     },
     "metadata": {},
     "output_type": "display_data"
    }
   ],
   "source": [
    "im = itk.image_from_array(arr_gaussian)\n",
    "im_view = itk.image_view_from_array(arr_gaussian)\n",
    "arr_gaussian[5,5] = 0\n",
    "view(im)"
   ]
  },
  {
   "cell_type": "code",
   "execution_count": 17,
   "metadata": {
    "slideshow": {
     "slide_type": "subslide"
    }
   },
   "outputs": [
    {
     "data": {
      "application/vnd.jupyter.widget-view+json": {
       "model_id": "31aab4b583da4f419ca4d5bb76e96338",
       "version_major": 2,
       "version_minor": 0
      },
      "text/plain": [
       "Viewer(gradient_opacity=0.22, rendered_image=<itkImagePython.itkImageSS2; proxy of <Swig Object of type 'itkIm…"
      ]
     },
     "metadata": {},
     "output_type": "display_data"
    }
   ],
   "source": [
    "view(im_view)"
   ]
  },
  {
   "cell_type": "markdown",
   "metadata": {
    "slideshow": {
     "slide_type": "slide"
    }
   },
   "source": [
    "## Exercises"
   ]
  },
  {
   "cell_type": "markdown",
   "metadata": {
    "slideshow": {
     "slide_type": "subslide"
    }
   },
   "source": [
    "### Exercise 1: Visualize an image\n",
    "* Read an image with ITK\n",
    "* Apply a filter\n",
    "* Show both original image and filtered images with matplotlib"
   ]
  },
  {
   "cell_type": "code",
   "execution_count": 18,
   "metadata": {},
   "outputs": [],
   "source": [
    "# %load solutions/4_ITK_and_NumPy_answers_Exercise1.py"
   ]
  },
  {
   "cell_type": "markdown",
   "metadata": {
    "slideshow": {
     "slide_type": "subslide"
    }
   },
   "source": [
    "### Exercise 2: ITK image to NumPy array\n",
    "\n",
    "* Read an image with ITK\n",
    "* Convert image to NumPy array\n",
    "* Modify a pixel in the image\n",
    "* Has the array been modified?\n",
    "* Why did you make that choice?"
   ]
  },
  {
   "cell_type": "code",
   "execution_count": 19,
   "metadata": {},
   "outputs": [],
   "source": [
    "# %load solutions/4_ITK_and_NumPy_answers_Exercise2.py"
   ]
  },
  {
   "cell_type": "markdown",
   "metadata": {
    "slideshow": {
     "slide_type": "slide"
    }
   },
   "source": [
    "# ITK Image and NumPy array index order"
   ]
  },
  {
   "cell_type": "markdown",
   "metadata": {
    "slideshow": {
     "slide_type": "subslide"
    }
   },
   "source": [
    "Let's look at the size of an ITK image and the size of a NumPy array."
   ]
  },
  {
   "cell_type": "code",
   "execution_count": 20,
   "metadata": {
    "slideshow": {
     "slide_type": "fragment"
    }
   },
   "outputs": [
    {
     "name": "stdout",
     "output_type": "stream",
     "text": [
      "Image size: itkSize2 ([570, 326])\n",
      "Array size: (326, 570)\n"
     ]
    }
   ],
   "source": [
    "im=itk.imread(\"data/CBCT-TextureInput.png\", itk.UC)\n",
    "arr = itk.array_view_from_image(im)\n",
    "print(\"Image size: \" + str(itk.size(im)))\n",
    "print(\"Array size: \" + str(arr.shape))"
   ]
  },
  {
   "cell_type": "markdown",
   "metadata": {
    "slideshow": {
     "slide_type": "subslide"
    }
   },
   "source": [
    "The sizes appear to be inverted!"
   ]
  },
  {
   "cell_type": "markdown",
   "metadata": {
    "slideshow": {
     "slide_type": "fragment"
    }
   },
   "source": [
    "Let's see what happens if we get the value of a point at a certain location."
   ]
  },
  {
   "cell_type": "code",
   "execution_count": 21,
   "metadata": {
    "slideshow": {
     "slide_type": "fragment"
    }
   },
   "outputs": [
    {
     "name": "stdout",
     "output_type": "stream",
     "text": [
      "Pixel value at image location [300,240]:241\n",
      "Pixel value at array location [300,240]:254\n",
      "Pixel value at array location [240,300]:241\n"
     ]
    }
   ],
   "source": [
    "print(\"Pixel value at image location [300,240]:\" + str(im.GetPixel([300,240])))\n",
    "print(\"Pixel value at array location [300,240]:\" + str(arr[300,240]))\n",
    "print(\"Pixel value at array location [240,300]:\" + str(arr[240,300]))"
   ]
  },
  {
   "cell_type": "markdown",
   "metadata": {
    "slideshow": {
     "slide_type": "subslide"
    }
   },
   "source": [
    "Indeed, it is inverted. Why?"
   ]
  },
  {
   "cell_type": "markdown",
   "metadata": {
    "slideshow": {
     "slide_type": "fragment"
    }
   },
   "source": [
    "ITK and NumPy use the opposite convention for their indices order. It is not important when you use filters and work on the image as a whole. The algorithms are aware of the order if they need to."
   ]
  },
  {
   "cell_type": "markdown",
   "metadata": {
    "slideshow": {
     "slide_type": "skip"
    }
   },
   "source": [
    "Could the ITK axes order be kept when converting an image to an array?"
   ]
  },
  {
   "cell_type": "markdown",
   "metadata": {
    "slideshow": {
     "slide_type": "skip"
    }
   },
   "source": [
    "Yes. An option is being added to the function `itk.array_from_image()` to keep the axis order.\n",
    "When *keepAxes* is *False* (default), the NumPy array will have C-order indexing.\n",
    "This is the reverse of how indices are specified in ITK, i.e. k,j,i versus i,j,k.\n",
    "However C-order indexing is expected by most algorithms in NumPy / SciPy."
   ]
  },
  {
   "cell_type": "markdown",
   "metadata": {
    "slideshow": {
     "slide_type": "slide"
    }
   },
   "source": [
    "# scikit-learn"
   ]
  },
  {
   "cell_type": "markdown",
   "metadata": {
    "slideshow": {
     "slide_type": "subslide"
    }
   },
   "source": [
    "* scikit-learn is a machine learning package in Python.\n",
    "* It is used to illustrate solving a problem using ITK and NumPy arrays."
   ]
  },
  {
   "cell_type": "code",
   "execution_count": 22,
   "metadata": {
    "slideshow": {
     "slide_type": "subslide"
    }
   },
   "outputs": [],
   "source": [
    "import sklearn"
   ]
  },
  {
   "cell_type": "markdown",
   "metadata": {
    "slideshow": {
     "slide_type": "subslide"
    }
   },
   "source": [
    "First, we load 10 2D-images of circles with different radii and center position to which some noise has been added, and their corresponding ground truth segmentations."
   ]
  },
  {
   "cell_type": "code",
   "execution_count": 23,
   "metadata": {
    "slideshow": {
     "slide_type": "subslide"
    }
   },
   "outputs": [
    {
     "data": {
      "text/plain": [
       "Text(0.5, 1.0, 'Image')"
      ]
     },
     "execution_count": 23,
     "metadata": {},
     "output_type": "execute_result"
    },
    {
     "data": {
      "image/png": "[encoded data removed]",
      "text/plain": [
       "<Figure size 432x288 with 2 Axes>"
      ]
     },
     "metadata": {
      "needs_background": "light"
     },
     "output_type": "display_data"
    }
   ],
   "source": [
    "l_label=[]\n",
    "l_im=[]\n",
    "for i in range(0,10):\n",
    "    imageName='data/sklearn/im%d.nrrd'%i\n",
    "    im=itk.imread(imageName,itk.F)\n",
    "    arr = itk.array_from_image(im)\n",
    "    l_im.append(arr)\n",
    "    labelName='data/sklearn/im%d_label.nrrd'%i\n",
    "    im=itk.imread(labelName,itk.UC)\n",
    "    arr = itk.array_from_image(im)\n",
    "    l_label.append(arr)\n",
    "size=itk.size(im)\n",
    "plt.subplot(1, 2, 1)\n",
    "plt.imshow(l_label[0])\n",
    "plt.title(\"Segmentation\")\n",
    "plt.subplot(1, 2, 2)\n",
    "plt.imshow(l_im[0])\n",
    "plt.title(\"Image\")"
   ]
  },
  {
   "cell_type": "markdown",
   "metadata": {
    "slideshow": {
     "slide_type": "subslide"
    }
   },
   "source": [
    "The goal is to find the segmentation based on the input image."
   ]
  },
  {
   "cell_type": "markdown",
   "metadata": {
    "slideshow": {
     "slide_type": "subslide"
    }
   },
   "source": [
    "We create arrays of data:\n",
    "* X - the input samples\n",
    "* Y - the target values"
   ]
  },
  {
   "cell_type": "code",
   "execution_count": 24,
   "metadata": {
    "slideshow": {
     "slide_type": "fragment"
    }
   },
   "outputs": [],
   "source": [
    "X0=l_im[0].flatten()\n",
    "X=X0\n",
    "Y=l_label[0].flatten()\n",
    "for i in range(1,10):\n",
    "    X=np.concatenate((X, l_im[i].flatten()))\n",
    "    Y=np.concatenate((Y, l_label[i].flatten()))"
   ]
  },
  {
   "cell_type": "markdown",
   "metadata": {
    "slideshow": {
     "slide_type": "subslide"
    }
   },
   "source": [
    "* We use a supervised learning methods based on applying Bayes’ theorem.\n",
    "* The only information provided to the algorithm is the image intensity value."
   ]
  },
  {
   "cell_type": "code",
   "execution_count": 25,
   "metadata": {
    "slideshow": {
     "slide_type": "fragment"
    }
   },
   "outputs": [
    {
     "data": {
      "text/plain": [
       "<matplotlib.image.AxesImage at 0x7fee2efa2668>"
      ]
     },
     "execution_count": 25,
     "metadata": {},
     "output_type": "execute_result"
    },
    {
     "data": {
      "image/png": "[encoded data removed]",
      "text/plain": [
       "<Figure size 432x288 with 1 Axes>"
      ]
     },
     "metadata": {
      "needs_background": "light"
     },
     "output_type": "display_data"
    }
   ],
   "source": [
    "from sklearn.naive_bayes import GaussianNB\n",
    "clf = GaussianNB()\n",
    "clf.fit(X.reshape(-1,1), Y)\n",
    "result=clf.predict(X0.reshape(-1,1)).reshape(size[0],size[1])\n",
    "plt.imshow(result)"
   ]
  },
  {
   "cell_type": "markdown",
   "metadata": {
    "slideshow": {
     "slide_type": "subslide"
    }
   },
   "source": [
    "To improve our segmentation, we filter the input image with a median image filter and add this information as a second sample vector."
   ]
  },
  {
   "cell_type": "code",
   "execution_count": 26,
   "metadata": {
    "slideshow": {
     "slide_type": "fragment"
    }
   },
   "outputs": [],
   "source": [
    "l_median=[]\n",
    "for i in range(0,10):\n",
    "    imageName='data/sklearn/im%d.nrrd'%i\n",
    "    im=itk.imread(imageName,itk.F)\n",
    "    median=itk.median_image_filter(im, radius=3)\n",
    "    arr = itk.array_from_image(median)\n",
    "    l_median.append(arr)\n",
    "\n",
    "M0=l_median[0].flatten()\n",
    "M=M0\n",
    "X0=np.concatenate((X0.reshape(-1,1),M0.reshape(-1,1)), axis=1)\n",
    "for i in range(1,10):\n",
    "    M=np.concatenate((M, l_median[i].flatten()))\n",
    "\n",
    "X = np.concatenate((X.reshape(-1,1),M.reshape(-1,1)), axis=1)"
   ]
  },
  {
   "cell_type": "code",
   "execution_count": 27,
   "metadata": {
    "slideshow": {
     "slide_type": "subslide"
    }
   },
   "outputs": [
    {
     "data": {
      "text/plain": [
       "<matplotlib.image.AxesImage at 0x7fee2ef022e8>"
      ]
     },
     "execution_count": 27,
     "metadata": {},
     "output_type": "execute_result"
    },
    {
     "data": {
      "image/png": "[encoded data removed]",
      "text/plain": [
       "<Figure size 432x288 with 1 Axes>"
      ]
     },
     "metadata": {
      "needs_background": "light"
     },
     "output_type": "display_data"
    }
   ],
   "source": [
    "clf.fit(X, Y)\n",
    "result=clf.predict(X0).reshape(50,50)\n",
    "plt.imshow(result)"
   ]
  },
  {
   "cell_type": "markdown",
   "metadata": {
    "slideshow": {
     "slide_type": "subslide"
    }
   },
   "source": [
    "## Typical processing\n",
    "\n",
    "* Image preprocessing\n",
    "    * Bias field correction (n4_bias_field_correction_image_filter)\n",
    "    * Noise reduction (smoothing_recursive_gaussian_image_filter)\n",
    "    * Feature computation (Texture, Wavelet, Edge detector)\n",
    "* Converting ITK data to NumPy and organizing the data as needed\n",
    "* Train classifier\n",
    "* Use classifier on new data\n",
    "* Convert classifier result to ITK data\n",
    "* Apply some post processing filters\n",
    "    * Fill holes (binary_fillhole_image_filter)\n",
    "    * Smoothing (median_image_filter)"
   ]
  },
  {
   "cell_type": "markdown",
   "metadata": {
    "slideshow": {
     "slide_type": "slide"
    }
   },
   "source": [
    "### Enjoy ITK!"
   ]
  },
  {
   "cell_type": "code",
   "execution_count": null,
   "metadata": {},
   "outputs": [],
   "source": []
  },
  {
   "cell_type": "code",
   "execution_count": null,
   "metadata": {},
   "outputs": [],
   "source": []
  }
 ],
 "metadata": {
  "celltoolbar": "Slideshow",
  "kernelspec": {
   "display_name": "Python 3",
   "language": "python",
   "name": "python3"
  },
  "language_info": {
   "codemirror_mode": {
    "name": "ipython",
    "version": 3
   },
   "file_extension": ".py",
   "mimetype": "text/x-python",
   "name": "python",
   "nbconvert_exporter": "python",
   "pygments_lexer": "ipython3",
   "version": "3.6.7"
  }
 },
 "nbformat": 4,
 "nbformat_minor": 2
}
